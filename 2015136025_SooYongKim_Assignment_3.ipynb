{
 "cells": [
  {
   "cell_type": "code",
   "execution_count": 18,
   "metadata": {},
   "outputs": [
    {
     "name": "stdout",
     "output_type": "stream",
     "text": [
      "[1, 100, 4, 5]\n"
     ]
    }
   ],
   "source": [
    "L=[1,2,3,4,5]\n",
    "L[1:3]=[100]\n",
    "print(L)"
   ]
  },
  {
   "cell_type": "markdown",
   "metadata": {},
   "source": [
    "1. L[1:3]은 [2,3]이라는 리스트이다. 이를 =[100]으로 치환하여\n",
    "결과는 [1, 100, 4, 5]가 나온다."
   ]
  },
  {
   "cell_type": "code",
   "execution_count": 29,
   "metadata": {},
   "outputs": [
    {
     "name": "stdout",
     "output_type": "stream",
     "text": [
      "[1, 100, 4, 5]\n"
     ]
    }
   ],
   "source": [
    "L=[1,2,3,4,5]\n",
    "L[1:3]=[(100)]\n",
    "print(L)"
   ]
  },
  {
   "cell_type": "markdown",
   "metadata": {},
   "source": [
    "2. 이것도 마찬가지이다. [(100)]은 [100]과 같은 리스트이다."
   ]
  },
  {
   "cell_type": "code",
   "execution_count": 20,
   "metadata": {},
   "outputs": [
    {
     "ename": "TypeError",
     "evalue": "can only assign an iterable",
     "output_type": "error",
     "traceback": [
      "\u001b[1;31m---------------------------------------------------------------------------\u001b[0m",
      "\u001b[1;31mTypeError\u001b[0m                                 Traceback (most recent call last)",
      "\u001b[1;32m<ipython-input-20-3daff4382289>\u001b[0m in \u001b[0;36m<module>\u001b[1;34m()\u001b[0m\n\u001b[0;32m      1\u001b[0m \u001b[0mL\u001b[0m\u001b[1;33m=\u001b[0m\u001b[1;33m[\u001b[0m\u001b[1;36m1\u001b[0m\u001b[1;33m,\u001b[0m\u001b[1;36m2\u001b[0m\u001b[1;33m,\u001b[0m\u001b[1;36m3\u001b[0m\u001b[1;33m,\u001b[0m\u001b[1;36m4\u001b[0m\u001b[1;33m,\u001b[0m\u001b[1;36m5\u001b[0m\u001b[1;33m]\u001b[0m\u001b[1;33m\u001b[0m\u001b[0m\n\u001b[1;32m----> 2\u001b[1;33m \u001b[0mL\u001b[0m\u001b[1;33m[\u001b[0m\u001b[1;36m1\u001b[0m\u001b[1;33m:\u001b[0m\u001b[1;36m3\u001b[0m\u001b[1;33m]\u001b[0m\u001b[1;33m=\u001b[0m\u001b[1;36m100\u001b[0m\u001b[1;33m\u001b[0m\u001b[0m\n\u001b[0m\u001b[0;32m      3\u001b[0m \u001b[0mprint\u001b[0m\u001b[1;33m(\u001b[0m\u001b[0mL\u001b[0m\u001b[1;33m)\u001b[0m\u001b[1;33m\u001b[0m\u001b[0m\n",
      "\u001b[1;31mTypeError\u001b[0m: can only assign an iterable"
     ]
    }
   ],
   "source": [
    "L=[1,2,3,4,5]\n",
    "L[1:3]=100\n",
    "print(L)"
   ]
  },
  {
   "cell_type": "markdown",
   "metadata": {},
   "source": [
    "3. 리스트 [2,3]대신 정수형인 100을 넣으려 하고있다.\n",
    "에러 메세지를 보면 iterable만 넣을 수 있다고, 즉 셀 수 있는 요소만 넣으라고 한다."
   ]
  },
  {
   "cell_type": "code",
   "execution_count": 21,
   "metadata": {
    "scrolled": false
   },
   "outputs": [
    {
     "ename": "TypeError",
     "evalue": "can only assign an iterable",
     "output_type": "error",
     "traceback": [
      "\u001b[1;31m---------------------------------------------------------------------------\u001b[0m",
      "\u001b[1;31mTypeError\u001b[0m                                 Traceback (most recent call last)",
      "\u001b[1;32m<ipython-input-21-36ea2e082a60>\u001b[0m in \u001b[0;36m<module>\u001b[1;34m()\u001b[0m\n\u001b[0;32m      1\u001b[0m \u001b[0mL\u001b[0m\u001b[1;33m=\u001b[0m\u001b[1;33m[\u001b[0m\u001b[1;36m1\u001b[0m\u001b[1;33m,\u001b[0m\u001b[1;36m2\u001b[0m\u001b[1;33m,\u001b[0m\u001b[1;36m3\u001b[0m\u001b[1;33m,\u001b[0m\u001b[1;36m4\u001b[0m\u001b[1;33m,\u001b[0m\u001b[1;36m5\u001b[0m\u001b[1;33m]\u001b[0m\u001b[1;33m\u001b[0m\u001b[0m\n\u001b[1;32m----> 2\u001b[1;33m \u001b[0mL\u001b[0m\u001b[1;33m[\u001b[0m\u001b[1;36m1\u001b[0m\u001b[1;33m:\u001b[0m\u001b[1;36m3\u001b[0m\u001b[1;33m]\u001b[0m\u001b[1;33m=\u001b[0m\u001b[1;33m(\u001b[0m\u001b[1;36m100\u001b[0m\u001b[1;33m)\u001b[0m\u001b[1;33m\u001b[0m\u001b[0m\n\u001b[0m\u001b[0;32m      3\u001b[0m \u001b[0mprint\u001b[0m\u001b[1;33m(\u001b[0m\u001b[0mL\u001b[0m\u001b[1;33m)\u001b[0m\u001b[1;33m\u001b[0m\u001b[0m\n",
      "\u001b[1;31mTypeError\u001b[0m: can only assign an iterable"
     ]
    }
   ],
   "source": [
    "L=[1,2,3,4,5]\n",
    "L[1:3]=(100)\n",
    "print(L)"
   ]
  },
  {
   "cell_type": "markdown",
   "metadata": {},
   "source": [
    "4. 이것도 마찬가지이다. (100)은 100과 같은 int형이다."
   ]
  },
  {
   "cell_type": "code",
   "execution_count": 31,
   "metadata": {},
   "outputs": [
    {
     "name": "stdout",
     "output_type": "stream",
     "text": [
      "[1, 100, 101, 102, 4, 5]\n",
      "<class 'tuple'>\n"
     ]
    }
   ],
   "source": [
    "L=[1,2,3,4,5]\n",
    "L[1:3]=(100,101,102)\n",
    "print(L)\n",
    "print(type((100,101,102)))"
   ]
  },
  {
   "cell_type": "markdown",
   "metadata": {},
   "source": [
    "5. 리스트 [2,3]자리에 튜플 (100,101,102)을 넣으려 하고있다. 둘다 iterable이라 치환이 가능하다."
   ]
  },
  {
   "cell_type": "code",
   "execution_count": 24,
   "metadata": {},
   "outputs": [
    {
     "name": "stdout",
     "output_type": "stream",
     "text": [
      "[1, 100, 101, 102, 4, 5]\n"
     ]
    }
   ],
   "source": [
    "L=[1,2,3,4,5]\n",
    "L[1:3]=[100,101,102]\n",
    "print(L)"
   ]
  },
  {
   "cell_type": "markdown",
   "metadata": {},
   "source": [
    "6. 리스트 [2,3]자리에 리스트 [100,101,102]을 넣으려 하고있다. 가능하다. 넣으려는 형태의 원소가 같아도, 더 많아도, 더 적어도 치환 가능하다."
   ]
  },
  {
   "cell_type": "code",
   "execution_count": 25,
   "metadata": {},
   "outputs": [
    {
     "name": "stdout",
     "output_type": "stream",
     "text": [
      "[1, (100, 101, 102), 4, 5]\n"
     ]
    }
   ],
   "source": [
    "L=[1,2,3,4,5]\n",
    "L[1:3] = [(100, 101, 102)]\n",
    "print(L)"
   ]
  },
  {
   "cell_type": "markdown",
   "metadata": {},
   "source": [
    "7. 리스트 [2,3]자리에 튜플 (100,101,102)을 원소로 가지는 리스트 [(100, 101, 102)]을 넣으려 하고있다. 가능하다. 이때 L의 원소 하나가 튜플 그 자체가 된다."
   ]
  },
  {
   "cell_type": "code",
   "execution_count": 26,
   "metadata": {},
   "outputs": [
    {
     "name": "stdout",
     "output_type": "stream",
     "text": [
      "[1, [100, 101, 102], 4, 5]\n"
     ]
    }
   ],
   "source": [
    "L=[1,2,3,4,5]\n",
    "L[1:3] = [[100, 101, 102]]\n",
    "print(L)"
   ]
  },
  {
   "cell_type": "markdown",
   "metadata": {},
   "source": [
    "8. 리스트 [2,3]자리에 리스트 [100,101,102]을 원소로 가지는 리스트 [[100, 101, 102]]을 넣으려 하고있다. 가능하다. 이때 L의 원소 하나가 리스트 그 자체가 된다."
   ]
  },
  {
   "cell_type": "code",
   "execution_count": 15,
   "metadata": {},
   "outputs": [
    {
     "name": "stdout",
     "output_type": "stream",
     "text": [
      "Python and World Hello\n",
      "PythonandWorldHello\n"
     ]
    }
   ],
   "source": [
    "S='Hello World and Python'\n",
    "L=S.split()\n",
    "L.reverse()\n",
    "S=' '.join(L)\n",
    "print(S)\n",
    "L=S.split()\n",
    "S=''.join(L)\n",
    "print(S)"
   ]
  },
  {
   "cell_type": "markdown",
   "metadata": {},
   "source": [
    "(1) split으로 문자열을 각 공백으로 나눈 리스트로 반환하고 이를 리버스 함수로 돌린 후 다시 join으로 합쳤다.\n",
    "(2) 똑같은 방식으로 리버스 없이 진행하였다."
   ]
  },
  {
   "cell_type": "code",
   "execution_count": 17,
   "metadata": {},
   "outputs": [
    {
     "name": "stdout",
     "output_type": "stream",
     "text": [
      "[1, 2, 3, 1, 2, 3, 1, 2, 3]\n",
      "[[1, 2, 3], [1, 2, 3], [1, 2, 3]]\n"
     ]
    }
   ],
   "source": [
    "a = [1, 2, 3]\n",
    "b = a * 3\n",
    "c = [a] * 3\n",
    "print(b)\n",
    "print(c)"
   ]
  },
  {
   "cell_type": "code",
   "execution_count": 18,
   "metadata": {},
   "outputs": [
    {
     "name": "stdout",
     "output_type": "stream",
     "text": [
      "[1, 2, 3, 1, 2, 3, 1, 2, 3]\n",
      "[[0, 2, 3], [0, 2, 3], [0, 2, 3]]\n"
     ]
    }
   ],
   "source": [
    "a[0]=0\n",
    "print(b)\n",
    "print(c)"
   ]
  },
  {
   "cell_type": "markdown",
   "metadata": {},
   "source": [
    "b객체는 a의 값을 복사하여 세번 반복하기 때문에 a가 바뀌어도 변하지 않는다. c객체는 리스트[]안에 리스트 a의 위치를 저장하기 때문에 a가 바뀌면 따라서 변한다. "
   ]
  },
  {
   "cell_type": "code",
   "execution_count": 67,
   "metadata": {
    "scrolled": false
   },
   "outputs": [
    {
     "name": "stdout",
     "output_type": "stream",
     "text": [
      "  first star   \n",
      "   second star   \n",
      "    third star  \n",
      "['first star', 'second star', 'third star']\n"
     ]
    }
   ],
   "source": [
    "s = '  first star   :   second star   :    third star  '\n",
    "P=[]\n",
    "l=s.split(\":\")\n",
    "for i in l:\n",
    "    P.append(i.strip())\n",
    "print(P)"
   ]
  },
  {
   "cell_type": "markdown",
   "metadata": {},
   "source": [
    "1. for문을 이용한 코드이다. :을 기준으로 나눈 문자열의 리스트를 append를 통해 공백을 제거하고 출력했다."
   ]
  },
  {
   "cell_type": "code",
   "execution_count": 69,
   "metadata": {},
   "outputs": [
    {
     "name": "stdout",
     "output_type": "stream",
     "text": [
      "['first star', 'second star', 'third star']\n"
     ]
    }
   ],
   "source": [
    "s = '  first star   :   second star   :    third star  '\n",
    "P=[]\n",
    "l=s.split(\":\")\n",
    "P=[i.strip() for i in l]\n",
    "print(P)"
   ]
  },
  {
   "cell_type": "markdown",
   "metadata": {},
   "source": [
    "2. 리스트 내포를 이용한 코드이다. :을 기준으로 나눈 문자열의 리스트를 첫번째 원소부터 strip해가며 만들었다."
   ]
  },
  {
   "cell_type": "code",
   "execution_count": 19,
   "metadata": {},
   "outputs": [],
   "source": [
    "def addall(list):\n",
    "    s=0\n",
    "    for i in list:\n",
    "        s=s+i\n",
    "    return s\n",
    "\n",
    "def addall(list):\n",
    "    return sum(list)"
   ]
  },
  {
   "cell_type": "code",
   "execution_count": 22,
   "metadata": {
    "scrolled": false
   },
   "outputs": [
    {
     "name": "stdout",
     "output_type": "stream",
     "text": [
      "1\n",
      "45\n"
     ]
    }
   ],
   "source": [
    "print(addall([1]))\n",
    "print(addall([1,2,3,4,5,6,7,8,9]))"
   ]
  },
  {
   "cell_type": "markdown",
   "metadata": {},
   "source": [
    "addall함수를 for문과 리스트 내포 방식으로 각각 제시하였다. 리스트 내포 방식은 sum() 내장함수를 이용하였다."
   ]
  },
  {
   "cell_type": "code",
   "execution_count": 20,
   "metadata": {
    "scrolled": true
   },
   "outputs": [],
   "source": [
    "def addallodd(list):\n",
    "    s=0\n",
    "    for i in list:\n",
    "        if(i%2==1) : s=s+i\n",
    "    return s\n",
    "\n",
    "def addallodd(list):\n",
    "    s=[sum([i for i in list if i%2])]\n",
    "    return sum([i for i in list if i%2])"
   ]
  },
  {
   "cell_type": "code",
   "execution_count": 23,
   "metadata": {},
   "outputs": [
    {
     "name": "stdout",
     "output_type": "stream",
     "text": [
      "1\n",
      "25\n"
     ]
    }
   ],
   "source": [
    "print(addallodd([1]))\n",
    "print(addallodd([1,2,3,4,5,6,7,8,9]))"
   ]
  },
  {
   "cell_type": "markdown",
   "metadata": {},
   "source": [
    "addallodd함수를 for문과 리스트 내포 방식으로 각각 제시하였다. 리스트 내포 방식은 sum() 내장함수를 이용하였다."
   ]
  },
  {
   "cell_type": "code",
   "execution_count": 99,
   "metadata": {
    "scrolled": true
   },
   "outputs": [
    {
     "name": "stdout",
     "output_type": "stream",
     "text": [
      "{'low': [1, 2, 3], 'high': [4, 5, 6]}\n",
      "{'low': [1, 2, 3], 'high': [4, 5, 6]}\n",
      "{'low': [1, 2, 3], 'high': [4, 5, 6]}\n",
      "\n",
      "{'low': [10, 20, 30], 'high': [4, 500, 6]}\n",
      "{'low': [10, 20, 30], 'high': [4, 500, 6]}\n",
      "{'low': [1, 2, 3], 'high': [4, 500, 6]}\n"
     ]
    }
   ],
   "source": [
    "L1 = [1, 2, 3]\n",
    "L2 = [4, 5, 6]\n",
    "d = {'low':L1, 'high':L2}\n",
    "e = d\n",
    "f = d.copy()\n",
    "print(d)\n",
    "print(e)\n",
    "print(f)\n",
    "print()\n",
    "d['low'] = [10, 20, 30]\n",
    "d['high'][1] = 500\n",
    "print(d)\n",
    "print(e)\n",
    "print(f)"
   ]
  },
  {
   "cell_type": "markdown",
   "metadata": {},
   "source": [
    "e는 d의 위치를 받기 때문에 d가 변해도 항상 e가 같이 변한다. 하지만 f는 d의 값을 복사받아 별도의 사전 객체가 마련되기 때문에 low와 같은 구문엔 반응하지 않지만 high와 같은 구문엔 반응하여 값이 바뀐 모습이다."
   ]
  },
  {
   "cell_type": "code",
   "execution_count": 122,
   "metadata": {},
   "outputs": [],
   "source": [
    "d = {'one':1, 'two':2, 'three':3, 'four':4, 'five':5}"
   ]
  },
  {
   "cell_type": "code",
   "execution_count": 138,
   "metadata": {
    "scrolled": false
   },
   "outputs": [
    {
     "name": "stdout",
     "output_type": "stream",
     "text": [
      "('five', 5)\n",
      "('four', 4)\n",
      "('one', 1)\n",
      "('three', 3)\n",
      "('two', 2)\n"
     ]
    }
   ],
   "source": [
    "K=list(d.keys())\n",
    "K.sort()\n",
    "R=()\n",
    "for i in K:\n",
    "    R=(i, d[i])\n",
    "    print(R)"
   ]
  },
  {
   "cell_type": "markdown",
   "metadata": {},
   "source": [
    "1. 키의 알파벳 오름차순 순서이다. sort()를 이용하였고 for문으로 튜플을 만들어 주었다."
   ]
  },
  {
   "cell_type": "code",
   "execution_count": 139,
   "metadata": {},
   "outputs": [
    {
     "name": "stdout",
     "output_type": "stream",
     "text": [
      "('two', 2)\n",
      "('three', 3)\n",
      "('one', 1)\n",
      "('four', 4)\n",
      "('five', 5)\n"
     ]
    }
   ],
   "source": [
    "K.sort(reverse=True)\n",
    "R=()\n",
    "for i in K:\n",
    "    R=(i, d[i])\n",
    "    print(R)"
   ]
  },
  {
   "cell_type": "markdown",
   "metadata": {},
   "source": [
    "2. 키의 알파벳 내림차순 순서이다. sort()를 이용하였고 for문으로 튜플을 만들어 주었다."
   ]
  },
  {
   "cell_type": "code",
   "execution_count": 155,
   "metadata": {
    "scrolled": false
   },
   "outputs": [
    {
     "name": "stdout",
     "output_type": "stream",
     "text": [
      "('one', 1)\n",
      "('two', 2)\n",
      "('three', 3)\n",
      "('four', 4)\n",
      "('five', 5)\n"
     ]
    }
   ],
   "source": [
    "X=tuple(d.items())\n",
    "for i in range(len(X)):\n",
    "    print(X[i])"
   ]
  },
  {
   "cell_type": "markdown",
   "metadata": {},
   "source": [
    "3. 값의 오름차순 순서이다. 사전이 주어져있어 그대로 튜플로 출력하였다."
   ]
  },
  {
   "cell_type": "code",
   "execution_count": 160,
   "metadata": {
    "scrolled": false
   },
   "outputs": [
    {
     "name": "stdout",
     "output_type": "stream",
     "text": [
      "('five', 5)\n",
      "('four', 4)\n",
      "('three', 3)\n",
      "('two', 2)\n",
      "('one', 1)\n"
     ]
    }
   ],
   "source": [
    "X=tuple(d.items())\n",
    "for i in range(len(X)):\n",
    "    print(X[len(X)-i-1])"
   ]
  },
  {
   "cell_type": "markdown",
   "metadata": {},
   "source": [
    "4. 값의 내림차순 순서이다. 주어진 사전을 뒤에서부터 출력하였다."
   ]
  },
  {
   "cell_type": "code",
   "execution_count": 17,
   "metadata": {},
   "outputs": [],
   "source": [
    "import sys\n",
    "\n",
    "while True:\n",
    "    line = sys.stdin.readline().rstrip('\\n')\n",
    "    if not line:\n",
    "        break\n",
    "    else:\n",
    "        n, k = map(int, line.split(\" \"))\n",
    "        total=n\n",
    "        while k<=n:\n",
    "            total=total+n//k\n",
    "            n=n//k+n%k\n",
    "        print(total)"
   ]
  },
  {
   "cell_type": "markdown",
   "metadata": {},
   "source": [
    "n과 k를 받아 계산하였다. 총 total에 n을 넣어놓고 while문으로 n을 k로 나눠가면서 쿠폰수를 세었다. 중간에 만들어지는 변수때문에 많이 실패하였다. 코딩 이전에 계획도 잘 짜야되겠다."
   ]
  },
  {
   "cell_type": "code",
   "execution_count": 143,
   "metadata": {},
   "outputs": [],
   "source": [
    "def google(A):\n",
    "\n",
    "    import requests\n",
    "\n",
    "    req = requests.get(A)\n",
    "\n",
    "    source = req.text\n",
    "    a = source\n",
    "    final = ''\n",
    "    do = 0\n",
    "    script=0\n",
    "    style=0\n",
    "    div=0\n",
    "    for i in range(len(source)):\n",
    "        if(source[i:i+8]=='<script>'):\n",
    "            if script==0 : script=1\n",
    "        if(source[i:i+13]=='<script type='):\n",
    "            if script==0 : script=1\n",
    "        if(source[i:i+11]=='<script id='):\n",
    "            if script==0 : script=1\n",
    "        if(source[i:i+6]=='<div id'):\n",
    "            if div==0 : div=1\n",
    "        if(source[i:i+5]=='</div>'):\n",
    "            div=0\n",
    "        if(source[i:i+9]=='</script>'):\n",
    "            script=0\n",
    "        if(source[i:i+7]=='<style>'):\n",
    "            if style==0 : style=1\n",
    "        if(source[i:i+8]=='</style>'):\n",
    "            style=0\n",
    "        if(source[i]=='<'):\n",
    "            do=1   \n",
    "        if(source[i]=='>'):\n",
    "            do=0\n",
    "            continue\n",
    "        if(do==0 and script==0 and style==0):\n",
    "            final = final + a[i]\n",
    "\n",
    "\n",
    "    final=final.split()\n",
    "    i=0\n",
    "    real=[]#      !\"#$%&'()*+,-./:;<=>?@[\\]^_`{|}~\n",
    "    for k in final:\n",
    "        if '!' in k:k=k.replace('!','')\n",
    "        if '\"' in k:k=k.replace('\"','')\n",
    "        if '#' in k:k=k.replace('#','')\n",
    "        if '$' in k:k=k.replace('$','')\n",
    "        if '%' in k:k=k.replace('%','')\n",
    "        if '&' in k:k=k.replace('&','')\n",
    "        if \"'\" in k:k=k.replace(\"'\",'')\n",
    "        if '(' in k:k=k.replace('(','')\n",
    "        if ')' in k:k=k.replace(')','')\n",
    "        if '*' in k:k=k.replace('*','')\n",
    "        if '+' in k:k=k.replace('+','')\n",
    "        if ',' in k:k=k.replace(',','')\n",
    "        if '-' in k:k=k.replace('-','')\n",
    "        if '.' in k:k=k.replace('.','')\n",
    "        if '/' in k:k=k.replace('/','')\n",
    "        if ':' in k:k=k.replace(':','')\n",
    "        if ';' in k:k=k.replace(';','')\n",
    "        if '<' in k:k=k.replace('<','')\n",
    "        if '=' in k:k=k.replace('=','')\n",
    "        if '>' in k:k=k.replace('>','')\n",
    "        if \"?\" in k:k=k.replace(\"?\",'')\n",
    "        if '@' in k:k=k.replace('@','')\n",
    "        if '[' in k:k=k.replace('[','')\n",
    "        if '\\\\' in k:k=k.replace('\\\\','')\n",
    "        if ']' in k:k=k.replace(']','')\n",
    "        if '^' in k:k=k.replace('^','')\n",
    "        if '_' in k:k=k.replace('_','')\n",
    "        if '`' in k:k=k.replace('`','')\n",
    "        if '{' in k:k=k.replace('{','')\n",
    "        if '|' in k:k=k.replace('|','')\n",
    "        if '}' in k:k=k.replace('}','')\n",
    "        if '~' in k:k=k.replace('~','')\n",
    "        if '★' in k:k=k.replace('★','')\n",
    "        if '©' in k:k=k.replace('©','')\n",
    "        if '—' in k:k=k.replace('—','')\n",
    "        if '※' in k:k=k.replace('※','')\n",
    "        if '’' in k:k=k.replace('’','')\n",
    "        if '㈜' in k:k=k.replace('㈜','')\n",
    "        if 'ⓒ' in k:k=k.replace('ⓒ','')\n",
    "        if '“' in k:k=k.replace('“','')\n",
    "        if '”' in k:k=k.replace('”','')\n",
    "        if '…' in k:k=k.replace('…','')\n",
    "        if '∼' in k:k=k.replace('∼','')\n",
    "        if '°' in k:k=k.replace('°','')\n",
    "        if '·' in k:k=k.replace('·','')\n",
    "        real=real+[k]\n",
    "\n",
    "    real=[i for i in real if i!='']\n",
    "\n",
    "    dic={}\n",
    "    num=1\n",
    "    index=0\n",
    "    for i in real:\n",
    "        if i in real[:index]:\n",
    "            dic[i]=dic[i]+1\n",
    "        else:\n",
    "            hey={i:num}\n",
    "            dic.update(hey)\n",
    "        index=index+1\n",
    "    print(dic)"
   ]
  },
  {
   "cell_type": "code",
   "execution_count": 148,
   "metadata": {
    "scrolled": true
   },
   "outputs": [
    {
     "name": "stdout",
     "output_type": "stream",
     "text": [
      "{'컴퓨터공학부': 8, 'Schoolfun': 1, 'Study': 1, 'and': 2, 'Fun': 1, '로그인': 4, '아이디': 1, '비밀번호': 1, '유지': 2, '브라우저를': 1, '닫더라도': 1, '로그인이': 1, '계속': 1, '유지될': 1, '수': 2, '있습니다': 1, '기능을': 1, '사용할': 1, '경우': 1, '다음': 1, '접속부터는': 1, '로그인할': 1, '필요가': 1, '없습니다': 1, '단': 1, '게임방': 1, '학교': 1, '등': 1, '공공장소에서': 1, '이용': 1, '시': 1, '개인정보가': 1, '유출될': 1, '있으니': 1, '꼭': 1, '로그아웃을': 1, '해주세요': 1, '회원가입': 1, 'IDPW': 1, '찾기': 1, 'IT': 5, '교육의': 2, '글로벌': 4, '메카한국기술교육대학교': 1, 'Close': 1, '소개': 1, '구성원소개': 1, '학사안내': 1, '입학': 1, '학부': 1, '대학원': 2, '학부광장': 1, '자료실': 2, '공학교육인증': 1, '학부서비스': 1, 'Registration': 1, 'School': 1, 'of': 1, 'Computer': 1, 'Science': 1, 'Engineering': 1, '융합소프트웨어': 3, '인력양성사업': 3, 'CK': 1, 'Creative': 1, 'KoreaI': 1, '교육역량강화사업': 3, '온라인': 3, '컨텐츠': 2, 'Online': 1, 'Contents': 1, 'for': 3, 'Education': 1, 'Capability': 1, 'Empowerment': 1, '메카': 1, '한국기술교육대학교': 5, '홈페이지에': 1, '오신': 1, '것을환영합니다': 1, '수준의': 1, 'IT전문인력': 1, '양성': 1, 'IT융합분야에': 1, '대한': 1, '국제적인': 1, '경쟁력': 1, '고취': 1, '바로가기': 2, '컨텐츠를': 1, '소개합니다': 1, '공지사항': 1, 'ARVR분야': 1, 'Capston': 1, 'Design': 1, '지원': 2, '계획': 1, '20181130금': 1, '20181029': 17, '1630': 2, '특성화': 3, '2018학년도': 1, '2학기': 1, '운영': 1, '강좌': 1, '안내': 1, '1056': 2, '2018': 5, 'IT융합': 2, '아이디어': 1, '경진대회': 1, '안내2학기': 1, '20181025': 2, '1501': 2, 'AR': 1, 'CoBot': 1, 'Intensive': 1, '캠프': 1, '모집': 1, '20181022': 1, '1530': 2, '졸업작품': 2, '산업체': 1, '평가회': 1, '결과에': 1, '따른': 1, '20181019': 2, '1409': 2, '자유게시판': 1, '문화의날': 1, '행사': 1, '공지': 3, '2031': 2, '졸업작품전시회': 1, '기간': 1, '헤어메이크업': 1, '20181007': 1, '1448': 2, '모의토익비': 1, '20180928': 1, '0937': 2, 'ACMICPC': 1, '예선': 1, '신청기간이': 1, '얼마': 1, '안': 1, '남았습니다': 1, '20180913': 1, '1136': 2, '문화행사': 1, '취소': 1, '20180910': 1, '1917': 2, '취업게시판': 1, '비즈테크파트너스': 1, 'LG': 1, 'CNS자회사': 1, '신입': 1, '개발직': 1, '1629': 2, '국가보안기술연구소': 1, '정규직': 1, '채용': 1, '20181004': 1, '1418': 2, '한글과컴퓨터그룹': 1, '2018년': 1, '하반기': 1, '신입경력': 1, '공채': 1, '1010': 1, '20180927': 1, '1313': 2, '구인천안': 1, '충무병원': 1, '전산실': 1, '20180918': 1, '1525': 2, '정부교육': 1, 'KShield': 1, '주니어': 1, '교육생': 1, '모집정보보호': 1, '95': 1, '20180903': 1, '0753': 2, 'Platum': 1, '표철민': 1, '대표': 1, '블록체인': 2, '생태계': 1, '조성위해': 1, '불법만': 1, '아니면': 1, '1550': 2, '아산나눔재단': 1, '‘아산': 1, '기업가정신': 1, '교육': 1, '포럼': 1, '개최': 1, '0943': 2, '10월': 1, '29일': 1, '스타트업': 3, '비즈니스': 1, '동향': 1, '메쉬코리아': 1, '위드': 1, '0936': 2, '기반': 1, '기업용': 1, '솔루션': 1, '개발': 1, '‘블록오': 1, '0837': 2, '더팀스': 1, '커리어피드': 1, '취업의': 1, '고수가': 1, '되는': 1, '방법': 1, '0836': 2, '전자신문': 1, '국정감사화웨이': 1, '5G': 2, '장비': 1, '보안': 1, '검증': 1, '수용': 1, '1841': 2, '이슈분석역차별': 1, '해소': 2, '동향은': 1, '1700': 8, 'SK텔레콤': 1, '중소기업과': 1, '모세혈관': 1, '고도화': 1, '나선다': 1, 'SK브로드밴드': 1, '세계': 1, '3번째': 1, '프로그래매틱': 1, '광고': 1, '도입': 1, '이슈분석글로벌ICT기업': 1, '역차별': 1, '5대': 1, '분야': 1, 'TechCrunch': 1, 'AmazonSmile': 1, 'has': 1, 'raised': 1, '100': 1, 'million': 1, 'charity': 1, '2307': 2, 'Atlassian': 1, 'sells': 1, 'Jitsi': 1, 'an': 1, 'opensource': 1, 'videocon': 1, '2241': 2, 'Here': 1, 'are': 1, 'the': 2, '20': 1, 'games': 1, 'shipping': 1, 'with': 2, 'PlaySt': 1, '2208': 2, 'DJI': 1, 'releases': 1, 'a': 2, 'modified': 1, 'Mavic': 1, '2': 1, 'drone': 1, 'aimed': 1, 'at': 1, '2200': 2, 'Blue': 1, 'Apron': 1, 'gets': 1, 'muchneeded': 1, 'boost': 1, 'Jetc': 1, '2157': 2, 'Back': 1, 'to': 1, 'Top': 1, 'Leading': 1, 'Together': 1, 'Brighter': 1, 'Future': 1, 'Quick': 1, 'Navigation': 1, '홈페이지': 1, 'WEBMAIL': 1, '평생교육원': 1, '교직원': 1, '업무': 1, '포트폴리오': 1, 'Campus': 1, 'Location': 1, 'Contact': 1, 'CSE': 1, '충청남도': 2, '천안시': 2, '동남구': 2, '병천면': 2, '충절로': 2, '1600한국기술교육대학교': 1, '학과사무실': 1, 'TEL': 1, '041': 2, '560': 2, '1460': 1, '1461': 1, 'FAX': 1, '1462': 1, 'Facebook': 1, 'Twitter': 1, 'Google': 1, 'Plus': 1, 'Linkedin': 1, '31253': 1, '1600': 1, '가전리': 1, 'Copyright': 1, '2015': 1, 'All': 1, 'rights': 1, 'reserved': 1}\n"
     ]
    }
   ],
   "source": [
    "google('http://cse.koreatech.ac.kr')"
   ]
  },
  {
   "cell_type": "code",
   "execution_count": 147,
   "metadata": {
    "scrolled": true
   },
   "outputs": [
    {
     "name": "stdout",
     "output_type": "stream",
     "text": [
      "{'한국기술교육대학교': 3, '홈페이지': 3, '주요메뉴': 1, '바로가기': 3, '본문': 1, '하단메뉴': 1, '현재': 1, '스크립트가': 1, '꺼져': 1, '있는': 1, '상태입니다': 1, '스크립트를': 1, '사용하지': 1, '않으시면': 1, '이용에': 1, '불편사항이': 1, '있습니다': 1, '스크립트': 1, '사용을': 1, '권장합니다': 1, 'KOREATECH': 21, '탑': 2, '유틸메뉴': 2, '오류신고': 1, 'HOME': 1, 'LOGIN': 3, 'WEBMAIL': 2, 'SITEMAP': 1, 'ENGLISH': 2, 'CHINESE': 2, '통합검색': 1, '입력폼': 1, 'facebookdaumnaveryoutube': 2, '대학소개': 4, '대한민국': 1, '기술리더': 1, '세계를': 1, '품다': 1, 'KOREATECH소개': 2, '총장실': 2, '대학현황': 2, 'VISION2020': 2, 'KOREATECH20년': 2, '대학조직': 2, '국제교류': 2, '코리아텍발전기금': 2, 'KOREATECH부패방지': 2, '입학안내': 6, '학생이': 5, '행복한': 1, '대학': 11, '학생중심': 1, '교육중심': 2, '대학원': 4, '대학대학원': 6, '기업이': 1, '신뢰하는': 1, '1위': 3, '일학습병행대학': 3, '대학생활': 4, '대한민국의': 1, '미래를': 1, '선도하는': 1, '행복대학': 1, '학사안내': 2, '해외연수': 4, '장학제도': 4, '캠퍼스생활': 2, '병사안내': 2, '커뮤니티': 4, '도전': 1, '열정': 1, '창의': 1, '재학생': 5, '만족도': 1, '취업률': 1, '공지사항': 2, '참여게시판': 2, '자료실': 2, '휴먼아카데미명사특강': 2, '취업역량강화동영상': 2, '교수학습역량강화특강': 2, '학부모님': 2, '의견란': 2, '고객의': 2, '소리제안': 2, '대학홍보': 4, '대학민국': 1, 'NO1': 1, '교육중심대학': 2, 'NEWS': 3, '홍보영상물': 4, '홍보대사': 2, '언론보도모음집': 2, '대학소식지': 2, '사이버투어': 2, '홍보브로셔': 2, '코리아텍학부모초청의날': 2, '정보공개': 6, '투명한': 1, '학교운영': 1, '공공데이터개방': 2, '행정공시': 2, '지방대특성화': 2, '사업': 2, '사업실명제': 2, '이전': 3, '다음': 4, '팝업닫기': 1, '팝업열기': 1, '코리아텍': 5, '언론보도': 1, '예비대학생': 4, '교직원': 4, '일반인': 4, '자세히보기': 1, '온라인교육지원': 5, '생활관': 7, '교내인증': 4, 'SW': 4, '무선랜신청': 4, '원격지원': 4, '오늘의': 4, '식단': 4, '시설보수신청': 4, '학사종합서비스': 5, '인터넷증명발급': 6, '시설물신청': 2, '동아리안내': 2, 'IPP센터': 5, '학부소개': 4, '언론기사': 4, '국제교육센터': 3, '전화번호찾기': 4, '캠퍼스투어': 4, '찾아오시는길': 4, '캠퍼스사진': 2, '아우누리': 2, '전자출결RFID': 2, '학교차량신청': 2, '교육장비검색': 2, '코리아텍소개': 2, 'VISION': 2, '2020': 2, '대학원소개': 2, '고용노동연수원': 3, '능력개발교육원': 3, '직업능력심사평가원': 3, '온라인평생교육원': 3, 'BUS': 2, '닫기': 3, 'Foreigner': 1, '만족하는': 4, '사실에': 4, '근거하여': 4, '진리를': 4, '탐구하는': 4, '현장중심과': 4, '실험실습을': 4, '강조하는': 4, '1': 4, '2': 5, '4': 3, '3': 2, '재생': 2, '정지': 3, '데스크탑': 1, '태블릿': 1, '비주얼': 2, '모바일': 1, '일반공지': 1, '접수': 2, '중『상담진로개발센터』': 1, '20182': 1, '집단': 1, '1차는': 1, '마감': 1, '2차는': 1, '중『상담진로개발센': 1, '【교수학습센터】단기근로장학생': 1, '모집': 1, '1030일화': 1, '끌어올림온라인평생교육원': 1, '평생능력개발과정13차': 1, '그룹인터뷰': 2, '학업적': 1, '어려움에': 1, '대한': 1, '참여자를': 1, '네트워크': 3, '긴급': 3, '패치': 3, '작업으로': 3, '인한': 3, '서비스안내': 3, '제3기': 1, 'KOTRA': 1, 'IPP': 3, '설명회': 2, '안내': 6, '2014학년도': 2, '상반기': 2, '신청': 5, '안내IPP센터': 1, '인문향연': 1, '인디밴드': 1, '콘서트': 1, 'THE': 1, '현장실습': 2, '동계': 2, '인턴': 1, '및': 2, 'HRD': 1, '개최': 1, '우리말': 1, '뽐내기': 1, '준비를': 1, '위한': 1, '글쓰기': 1, '특강': 1, '더보기': 7, '장학공지': 1, '20182학기': 1, '중소기업': 1, '취업연계': 1, '장학사업희망사다리장': 1, '2018년': 2, '제18기': 1, '대학생': 1, '재능봉사': 1, '국가장학생': 1, '캠': 1, '교내장학': 2, '2018학년도': 5, '2학기': 3, '2차': 1, '신문고': 1, '장학': 2, '신': 1, '나∙우리': 1, '입학생': 1, '입학금감축대응지원': 1, '장학금': 1, '4차': 1, '취업공지': 1, '학사공지': 1, '제2차': 1, '교직적성': 1, '인성검사': 1, '결과': 1, '알림': 1, '강의': 1, '중간': 1, '설문조사': 1, '실시': 1, '자격증': 1, '준비': 1, '수험자': 1, '필독': 1, '국가기술자격검정': 1, '제도': 1, '개선': 1, '2019학년도': 1, '학교현장실습': 1, '중등교직이수': 1, '중등교직과정': 1, '이수예정자': 1, '추가': 1, '선발': 1, '자신의': 1, '북극성을': 1, '찾으세요': 1, '충청남도청과': 1, '＇제3회': 1, '수소에너지': 1, '국제포럼＇': 1, '개': 1, '독립기념관과': 1, '청렴업무': 1, '강화': 1, 'MOU체결': 1, '메카트로닉스공학부': 2, '학생': 1, '수원정보과학축제': 1, '대상': 1, '‘2018': 1, '산학협력': 3, '페스티벌': 1, '성료': 1, '팝업존': 1, '123': 1, '플레이': 1, 'UNIVERSITY': 1, 'OF': 1, 'Cyber': 1, 'Tour': 1, '자주찾는': 3, '서비스': 3, '온라인교육': 2, '학사일정': 2, '발전기금': 2, '학과안내': 2, '사이버감사실': 2, 'LINC': 1, '관련사이트': 1, '기계공학부': 1, '전기전자통신공학부': 1, '컴퓨터공학부': 1, '디자인공학전공': 1, '건축공학전공': 1, '에너지신소재화학공학부': 1, '산업경영학부': 1, '교양학부': 1, '일반대학원': 1, '테크노인력개발전문대학원': 1, 'IT융합과학경영대학원': 1, '최고경영자과정': 1, '주요사이트': 2, '공식카페': 1, '네이버': 1, '공식블로그': 1, '웹갤러리': 1, '동문홈페이지': 1, '웹메일': 1, '고용부': 2, '잡영': 1, '워크넷': 1, '잡코리아': 1, '사람인': 1, '인크루트': 1, '교내주요기관': 2, '다산정보관': 1, '대학교육개발단': 1, '산학협력단': 1, 'LINC사업단': 1, '생활협동조합': 1, '공학교육혁신센터': 2, 'PSM사업단': 1, '반도체장비교육센터': 1, '개도국기술이전연구소': 1, 'HRD센터': 1, '상담진로개발센터': 1, 'IPP포털': 2, '사회봉사센터': 1, 'CIGMA': 1, 'CENTER': 1, '다담창의센터': 1, 'IPPUniTech허브사업단': 1, '창업지원센터': 1, '듀얼공동훈련센터허브사업단': 1, 'ACE사업단': 1, '학생자치단체': 2, '총학생회': 1, '총여학생회': 1, '총동아리연합회': 1, '코리아텍방송국': 1, '코리아텍신문사': 1, '교지편집위원회': 1, '생활관자치회': 1, '전국대학생하이브리드자동차경진대회': 1, '졸준위08': 1, '졸준위07': 1, '대외유관기관': 2, '고용노동부': 1, '산업통상자원부': 1, '기획재정부': 1, '한국산업인력공단': 1, '한국폴리텍대학': 1, '한국교육개발원': 1, '한국노동연구원': 1, '근로복지공단': 1, '한국산업안전보건공단': 1, '한국고용정보원': 1, '한국직업능력개발원': 1, '장애인고용공단': 1, '충청남도청': 1, '천안시청': 1, '국민권익위원회': 1, '교과부': 1, 'NTIS': 1, '원격훈련심사센터': 1, 'Footer': 2, 'link': 2, '개인정보처리방침': 2, '이메일무단수집거부': 2, '윤리헌장': 2, '행정서비스헌장': 2, '알리오': 2, '대학알리미': 1, '대학정보공시': 2, '공학교육인증안내': 1, '도로명주소안내': 2, '31253': 1, '충청남도': 1, '천안시': 1, '동남구': 1, '병천면': 1, '충절로': 1, '1600': 1, '가전리': 1, '한국기술교육대학교nbspnbspnbspTel': 1, '0415601114': 1, 'Copyright2014': 1, 'All': 1, 'rights': 1, 'reserved': 1}\n"
     ]
    }
   ],
   "source": [
    "google('https://www.koreatech.ac.kr')"
   ]
  },
  {
   "cell_type": "code",
   "execution_count": 146,
   "metadata": {
    "scrolled": true
   },
   "outputs": [
    {
     "name": "stdout",
     "output_type": "stream",
     "text": [
      "{'NAVER': 3, '뉴스스탠드': 2, '바로가기': 6, '주제별캐스트': 1, '타임스퀘어': 2, '쇼핑캐스트': 2, '로그인': 2, '네이버': 10, '네이버를': 1, '시작페이지로': 1, '쥬니어네이버': 1, '해피빈': 2, '검색': 2, '통합검색블로그카페': 1, '카페명': 1, '카페글지식iN뉴스사이트': 1, '카테고리': 1, '사이트영화웹문서사전': 1, '백과사전': 1, '영어사전': 1, '영영사전': 1, '국어사전': 1, '일본어사전': 1, '한자사전': 1, '용어사전책음악전문자료쇼핑지역동영상이미지내PC영화자동차게임건강인물긍정부정검색': 1, '자동완성': 11, '펼치기': 1, '한글': 1, '입력기': 1, '생각한대로': 1, '검색해': 1, '보세요': 2, 'Beta': 1, 'txttxt': 1, '시간대와': 1, '관심사에': 1, '맞춘': 1, '컨텍스트': 3, '도움말': 2, '보기': 21, 'ON선택됨': 1, 'OFF': 1, '동일한': 1, '시간대연령남녀별': 1, '사용자': 1, '그룹의관심사에': 1, '맞춰': 1, '자동완성을': 1, '제공합니다': 1, '자세히': 2, 'ONOFF설정은해당': 1, '기기브라우저에': 1, '저장됩니다': 1, '레이어': 1, '닫기': 3, '도움말신고검색어저장': 4, '켜기자동완성': 4, '끄기': 5, '기능을': 5, '다시': 4, '켤': 4, '때는': 4, '펼치기을': 4, '클릭하세요': 4, '현재': 1, '사용하고': 1, '계십니다': 1, '기능이': 4, '활성화되었습니다': 1, '꺼져': 3, '있습니다': 4, '켜기': 1, '최근검색어내': 1, '검색어': 10, '내': 6, '등록txtdate삭제intxt': 1, '최근검색어': 1, '내역이': 1, '없습니다': 1, '저장': 2, '해제txt': 1, '설정된': 1, '검색어가': 1, '없습니다최근검색어에서': 1, '등록를': 1, '선택하여': 1, '자주': 1, '찾는': 1, '검색어를내': 1, '검색어로': 1, '저장해': 1, '알림공용': 1, 'PC에서는': 1, '개인정보': 1, '보호를': 1, '위하여': 1, '반드시': 1, '로그아웃을': 1, '해': 1, '주세요': 1, '기록': 3, '삭제검색어저장': 2, '끄기자동완성': 2, '전체': 5, '삭제완료': 1, '검색어는': 1, '최대': 1, '10개': 1, '까지': 1, '저장할': 1, '수': 2, '있습니다추가하시려면': 1, '기존': 1, '검색어를': 1, '지워주세요': 1, '613': 1, '지방선거국회의원선거': 1, '투표종료시까지': 1, '후보자명에': 1, '대한': 1, '자동완성검색어': 1, '노출이': 1, '중단됩니다': 1, '자세히보기': 1, '메일': 1, '카페': 1, '블로그': 2, '지식인': 1, '쇼핑': 1, '네이버페이': 1, '네이버TV': 1, '사전': 1, '뉴스': 2, '증권금융': 1, '부동산': 1, '지도': 1, '영화': 2, '뮤직': 2, '책': 1, '만화': 1, '웹툰': 2, '더보기': 1, '급상승': 3, '1': 2, '강한나': 2, '2': 2, '몬스터': 2, '콜': 2, '3': 4, '일단': 2, '뜨겁게': 2, '청소하라': 2, '4': 2, '하춘화나이': 2, '5': 2, '메리골드': 2, '6': 2, '여우각시별': 2, '이제훈': 2, '정체': 2, '7': 2, '백일의': 2, '낭군님': 2, '몇부작': 4, '8': 2, '라비앙로즈': 2, '9': 2, '이선호': 2, '10': 2, '문우진': 2, '11': 2, '한소희': 2, '12': 2, '이래나': 2, '13': 2, '콩': 2, '스컬': 2, '아일랜드': 2, '14': 2, '뷰티인사이드': 2, '15': 2, '이다희': 2, '아나운서': 2, '16': 2, '배드파더스': 2, '17': 2, '아인': 2, '18': 2, '김유정': 2, '19': 2, '채수빈': 2, '20': 3, '가요무대': 2, 'DataLab급상승': 1, '트래킹': 1, '110위': 2, '1120위': 1, '데이터랩': 20, '그래프': 20, '20181029': 1, '232400': 1, '기준': 1, '연합뉴스': 1, '강경화': 1, '폼페이오와': 1, '통화비핵화남북관계': 1, '선순환': 1, '필요성': 1, '강조': 1, '북미고위급회담': 1, '116중간선거': 1, '직후': 1, '美서': 1, '열릴듯대화': 1, '본격재개': 1, '드루킹': 1, '측근': 1, '김경수에': 1, '댓글조작': 1, '시연김경수': 1, '신빙성': 1, '부족': 1, '김동연': 1, '증시패닉': 1, '아냐변동성': 1, '확대시': 1, '컨틴전시': 1, '플랜': 1, '조명균': 1, '철도연결': 1, '지연에': 1, '美와': 1, '약간': 1, '생각': 1, '다른': 1, '부분': 1, '있어': 1, '이재명': 1, '10시간': 1, '조사받고': 1, '귀가강제입원은': 1, '형수가': 1, '한': 1, '일': 1, '박용진': 1, '유치원': 1, '감사지도점검': 1, '적발': 1, '내역': 1, '추가공개': 1, '화요일': 1, '아침': 1, '곳곳': 1, '영하권올가을': 1, '들어': 1, '가장': 1, '추워': 1, '숙명여고': 1, '쌍둥이': 1, '휴대전화서': 1, '정답': 1, '메모혐의는': 1, '부인': 1, '사이판': 1, '고립': 1, '한국인': 1, '대부분': 1, '귀국남은': 1, '국민': 1, '있는지': 1, '확인': 2, '중': 1, '네이버뉴스': 1, '연예': 1, '스포츠': 2, '경제': 1, '언론사': 4, 'MY': 1, '이미지형': 1, '리스트형': 1, '설정': 3, '이전': 2, '페이지': 2, '다음': 2, '목록': 3, '구독': 19, '해지': 18, '기사보기': 18, '종합경제': 1, '방송통신': 1, 'IT': 1, '영자지': 1, '스포츠연예': 1, '매거진전문지': 1, '지역': 1, '설정한': 1, '언론사가': 1, '없습니다언론사': 1, '설정에서': 1, 'MY언론사를': 1, '추가하면설정한': 1, '언론사의': 1, '기사들을': 1, '홈에서': 1, '바로': 1, '보실': 1, '추가': 1, 'Sign': 3, 'in': 2, 'Connect': 1, 'with': 1, 'people': 1, 'up': 1, 'Forgot': 1, 'Username': 1, 'or': 1, 'Password': 1, '1029월': 1, '미국증시': 1, '앞의': 1, '목록으로': 2, '이동': 2, '뒤의': 1, '다우산업': 1, '2502130': 1, '33299상승': 1, '나스닥': 1, '728709': 1, '11987상승': 1, '증권오늘의': 1, '주요': 1, '시황뉴스': 1, '주제형': 1, '캐스트': 1, '관심': 4, '주제': 8, '선택': 1, '리빙': 1, '푸드': 1, '자동차': 2, '패션뷰티': 1, '부모i': 1, '건강': 1, '게임': 1, 'TV연예': 1, '책문화': 1, '함께N': 1, '여행': 1, '디자인': 1, '경제M': 1, 'JOB': 1, '과학': 1, '중국': 1, '비즈니스': 3, 'FARM': 1, '스쿨잼': 1, '공연전시': 1, '법률': 1, '동물공감': 1, '연애결혼': 1, '테크': 1, '감성충전': 1, '열기': 1, '관심주제': 1, '모바일': 3, '가져오기': 2, '로그인후': 2, '사용': 2, '가능합니다': 2, '취소': 1, '초기화': 1, '전체선택': 1, '자동차소식': 1, '자동차영상': 1, '국산차정보': 1, '수입차정보': 1, '모터사이클': 2, '공식': 1, 'EV': 1, 'BMW': 2, 'i3': 1, 'vs': 1, '르노삼성': 1, 'SM3': 1, 'ZE': 1, '6개월': 1, '후': 1, '유류세': 1, '천천히': 1, '올릴': 1, '방법': 1, '없나': 1, '오토타임즈': 1, '테마': 9, '다임러': 1, '스마트': 1, '없애고': 1, '벤츠': 1, 'Uclass': 1, '만드나': 1, '오토뷰': 1, '더': 1, '맛깔스럽게': 1, '아우디': 1, 'R8': 1, '페이스': 1, '리프트': 1, '로드테스트': 1, '볼보': 1, '전동화': 1, '라인업에': 1, '집중': 1, '데일리카': 1, '이쿼녹스는': 1, '왜': 1, '경쟁': 1, '차종에': 1, '꼼짝': 1, '못': 1, '할까': 1, '오토포스트': 1, '가변': 1, '터보': 3, '트윈': 1, '트윈스크롤': 1, '엔카매거진': 1, 'X1의': 1, '페이스리프트': 1, '벌써': 1, '모터그래프': 1, '스파이샷': 1, '쌍용차': 1, '3분기': 2, '경영': 1, '실적': 2, '영업손실': 1, '220억': 1, '더드라이브': 1, '현대차': 2, '내년부터': 1, '3세대': 1, '플랫폼': 1, '적용해': 1, '원가절감': 1, '탑라이더': 1, '기아': 1, '스토닉': 1, 'TGDI의': 1, '자유로': 1, '연비는': 1, '카홀릭': 1, '시승기': 1, '지루한': 1, '일상을': 1, '바꿔': 1, '줄': 1, '혼다': 1, 'CB300R': 1, '월간모터바이크': 1, 'ë\\x8f\\x99ì\\x98\\x81ì\\x83\\x81': 1, 'i30': 1, 'N': 1, '타고': 1, '뉘르부르크링': 1, '가기': 1, '한상기': 1, '영상': 1, '심상치': 1, '않은': 1, '하락세': 1, '순이익': 1, '67': 1, '↓': 1, '카미디어': 1, 'httpscastboxshoppingnavercomshopboxmainnhn': 1, '펀딩': 1, '추억을': 1, '되살리는': 1, '직소백': 1, '양복': 1, '조각을': 1, '모아': 1, '만든특별한': 1, '업사이클링': 1, '가방': 1, '온스테이지': 1, '뮤지션': 1, '크러쉬': 1, '시대': 1, '감각': 1, '세대': 1, '음악크러쉬와': 1, '밴드': 1, '원더러스트': 1, '공지사항': 1, '새로운': 2, '모바일에': 1, '따른': 1, '변화에': 1, '대해': 1, '안내': 3, '드립니다': 1, '서비스': 1, '전체보기': 1, '프로젝트': 2, '꽃': 2, '새로운네이버모바일': 1, '다운로드': 1, 'Creators': 1, '크리에이터': 1, '스몰비즈니스': 1, 'Partners': 1, '파트너': 1, '광고': 1, '스토어': 1, '개설': 1, '지역업체': 1, '등록': 1, 'Developers': 1, '개발자센터': 1, '오픈': 1, 'API': 1, '오픈소스': 1, 'D2': 1, '랩스': 1, '정책': 2, '및': 1, '약관': 1, '회사소개': 1, '인재채용': 1, '제휴제안': 1, '이용약관': 1, '개인정보처리방침': 1, '청소년보호정책': 1, '고객센터': 1, 'Corp': 1}\n"
     ]
    }
   ],
   "source": [
    "google('http://www.naver.com')"
   ]
  },
  {
   "cell_type": "code",
   "execution_count": 145,
   "metadata": {
    "scrolled": true
   },
   "outputs": [
    {
     "name": "stdout",
     "output_type": "stream",
     "text": [
      "{'Daum': 2, 'charset': 1, 'utf8': 1, 'bodydivdldtddulollih1h2h3h4h5h6precodeformfieldsetlegendtextareapblockquotethtdinputselectbuttonmargin0padding0': 1, 'fieldsetimgborder0': 1, 'none': 5, 'dlulolmenuliliststylenone': 1, 'blockquote': 1, 'qquotes': 1, 'blockquotebefore': 1, 'blockquoteafterqbefore': 1, 'qaftercontentcontentnone': 1, 'inputselecttextareabuttonborderradius0verticalalignmiddle': 1, 'inputmscleardisplaynone': 1, 'buttonborder0': 1, 'nonebackgroundcolortransparentcursorpointer': 1, 'bodybackgroundfffdirectionltrwebkittextsizeadjustnone': 1, 'bodythtdinputselecttextareabuttonfontsize13pxlineheight15fontfamilyAppleSDGothicNeoRegularMalgun': 1, 'Gothic맑은': 1, '고딕dotum돋움sansserifcolor222letterspacing1px': 1, 'osmac': 168, 'bodyosmac': 1, 'thosmac': 1, 'tdosmac': 1, 'inputosmac': 1, 'selectosmac': 1, 'textareaosmac': 1, 'buttonletterspacing0': 1, 'acolor222textdecorationnone': 1, 'ahovercolor118efftextdecorationunderline': 1, 'aactivebackgroundcolortransparent': 1, 'addresscaptioncitecodedfnemvarfontstylenormalfontweightnormal': 1, 'irpmdisplayblockoverflowhiddenfontsize1pxlineheight0textindent9999px': 1, 'irwadisplayblockoverflowhiddenpositionrelativewidth100height100zindex1': 1, 'screenoutoverflowhiddenpositionabsolutewidth0height0lineheight0textindent9999px': 1, 'showdisplayblock': 1, 'hidedisplaynone': 1, 'dindexpositionrelativewidth100': 1, 'dindex': 7, 'shortcutgpositionabsolutetop34pxleft0height33pxpadding0': 1, '20px': 13, '0': 234, '26pxborderbottom1px': 1, 'solid': 54, '3f4243fontsize11pxlineheight14pxbackgroundcolor26292acolorfffletterspacing1pxtextaligncenter': 1, 'shortcutgactive': 2, 'shortcutgfocusoverflowhiddentop0textdecorationnonezindex101': 1, 'shortcutghovercolorfff': 1, 'shortcutg': 2, 'innershortcutdisplayinlineblockpaddingright10pxmargintop8pxbackgroundposition100': 1, '220pxverticalaligntop': 1, 'innershortcutmargintop11pxbackgroundposition100': 1, '223px': 1, 'icopctopoverflowhiddenbackgroundurlt1daumcdnnetdaumtopdecoimagestop2017icopctop180423png': 1, 'norepeat': 24, 'icovertoverflowhiddenbackgroundurlt1daumcdnnetdaumtopdecoimagestop2017icopctopvert170724png': 1, 'txtpctopoverflowhiddenbackgroundurlt1daumcdnnetdaumtopdecoimagestop2017txtpctop170915png': 1, '0letterspacing1pxwhitespacenowrap': 1, 'bgpctopbackgroundurlt1daumcdnnetdaumtopdecoimagestop2017bgpctop170328png': 1, 'numpctopoverflowhiddenbackgroundurlt1daumcdnnetdaumtopdecoimagestop2017numpctop170405png': 1, 'imgthumbdisplayblockverticalaligntop': 1, 'framegpositionabsolutetop0left0border1px': 1, '000opacity008filteralphaopacity8': 1, 'thumbgdisplayblockpositionrelative': 1, 'daumWrappositionrelativeminwidth1080px': 1, 'daumWraptransformtranslate3d0px': 1, '0px': 5, 'headdaumpositionrelativezindex100': 1, 'contmainpositionrelativewidth990pxmargin15px': 1, 'auto': 7, 'conttopicoverflowhiddenpositionrelativezindex0width100bordertop1px': 1, 'ecececbackgroundcolorfbfbfcbackgroundposition50': 1, '100backgroundrepeatnorepeat': 1, 'featuretmpdisplayinlineblockverticalaligntop': 1, 'wrapmainpaddingbottom40pxclearbothzoom1': 1, 'wrapmainafterdisplayblockvisibilityhiddenheight0fontsize0clearbothcontent': 1, 'cmaintmpfloatleftwidth655pxmarginright35px': 1, 'wingtmpfloatleftwidth300px': 1, 'footdaumbordertop1px': 1, '888': 5, 'footdaum': 26, 'innerfootoverflowhiddenpositionrelativewidth990pxmargin0': 1, 'autopadding37px': 1, '78px': 1, 'linklogofloatleft': 1, 'infonoticeoverflowhiddenpadding0': 1, '250px': 3, '30px': 28, 'titnoticefloatleftfontsize13px': 1, 'linknoticedisplayblockpaddingright9pxbackgroundposition100': 1, '169px': 1, 'linknoticehovercolor222': 1, 'listnoticeoverflowhiddenwidth542pxheight19pxpaddingleft9px': 1, 'listnotice': 10, 'linkinfodisplayblockoverflowhiddentextoverflowellipsiswhitespacenowrap': 1, 'linkinfohovercolor222': 1, 'searchfootpositionabsolutetop32pxright0': 1, 'boxsearchpositionrelativezindex1width209pxheight28pxborder1px': 1, 'c8c8c8': 1, 'searchonbordercolor0089ff': 1, 'tfkeywordfloatleftwidth164pxmargin5px': 1, '9pxborder1px': 1, 'transparentlineheight19pxoutline0': 1, 'btnsearchfloatrightwidth32pxheight28pxlineheight28pxbackgroundposition0': 1, '230pxbackgroundcolortransparent': 1, 'linksvcallpositionabsolutetop81pxright0paddingright10pxfontweightboldcolor888backgroundposition100': 1, '194px': 1, 'infopolicypadding23px': 1, 'infopolicy': 2, 'linkpolicyfontsize12pxcolor888': 1, 'txtdotpadding0': 1, '2pxfontsize12pxcolor888': 1, 'txtcopyrightdisplayblockpaddingtop6pxfontsize11pxcolor888': 1, 'txtcopyright': 1, 'linkkakaocolor888': 1, 'infonoticepadding3px': 1, '31px': 1, 'linknoticepaddingright12pxbackgroundpositiony172px': 1, 'tfkeywordmargintop4px': 1, 'linksvcalltop83pxbackgroundpositiony196px': 1, 'infopolicypaddingtop24px': 1, 'txtcopyrightpaddingtop5px': 1, 'dheadborderbottom1px': 1, 'ececec': 9, 'dhead': 1, 'innerheadpositionrelativezindex1width1080pxheight150pxmargin0': 1, 'titdaumoverflowhiddenfloatleftwidth180pxheight150pxtextaligncenter': 1, 'linkdaumoverflowhiddendisplayblockmargin28px': 1, 'linklaunchpositionabsolutetop6pxleft45pxpaddingright8pxfontsize11pxcolor888backgroundposition100': 1, '18px': 3, 'linklaunchtop9pxbackgroundposition100': 1, '21px': 1, 'wrapsearchfloatleftpositionrelativemargintop50px': 1, 'wrapsearch': 1, 'dschbackgroundcolorfff': 1, 'headdaum': 17, 'boxsearchpositionrelativeheight44pxmargin1px': 1, '1px': 5, '0border1px': 2, '0089ffborderradius1px': 1, 'boxsearch': 2, 'innersearchpositionrelativezindex10height44pxpadding0': 1, '80px': 10, '14px': 5, 'boxsearchbefore': 1, 'innersearchbefore': 1, 'boxsearchafterpositionabsoluteleft0right100height1pxcontentbackgroundcolor0089ff': 1, 'boxsearchbeforetop1px': 1, 'boxsearchafterbottom1px': 1, 'boxsearchhoverbefore': 1, 'boxsearchhoverafterright0transitionpropertyrighttransitionduration08sbackgroundlineargradientto': 1, 'right': 1, '86aaff': 1, '70bc4c': 1, 'ffbe00': 1, 'f46e85': 1, 'boxsearchhover': 1, 'innersearchbeforetop1pxbottom1pxleftautoright1pxwidth1pxheight46pxbackgroundcolorf46e85transitionpropertyheighttransitiondelay08s': 1, 'tfkeywordfloatleftwidth422pxmargintop7pxborder1px': 1, 'transparentfontsize18pxlineheight24pxbackgroundcolortransparentoutline0imemodeactivewebkitappearancenone': 1, 'btnsearchpositionabsolutetop0right0width49pxheight42pxmargin1pxlineheight44pxbackgroundposition40px': 1, '231pxbackgroundcolortransparent': 1, 'slidefavorschoverflowhiddenwidth480pxheight28px': 1, 'listfavorschoverflowhiddenpaddingtop7px': 1, 'listfavorsch': 3, 'lifloatleftpaddingright10px': 1, 'linkfavorschdisplayblockfontsize12pxcolor555': 1, 'pagepctopzindex1right1pxbottom3px': 1, 'headbnrpositionabsolutetop33pxright45px': 1, 'headbnr': 1, 'linkheadbnrdisplayblock': 1, 'boxsearchmargintop0': 1, 'tfkeywordmargintop11px': 1, 'listfavorschpaddingtop10px': 1, 'lipaddingright14px': 1, 'imgkeyboardbackgroundimageurlt1daumcdnnetdaumtopdecoimagestop2017imgkeyboard171229png': 1, 'btnkeypositionabsolutetop0right58pxwidth29pxheight42pxmargin1pxlineheight44pxbackgroundposition0': 1, 'btnkeybtnonbackgroundposition0': 1, '50px': 3, 'keyboardlayerpositionabsolutetop45pxleft382pxzindex10000': 1, 'keyboardlayer': 78, 'groupkeyboarddisplaynonepadding49px': 1, '16px': 5, '20pxwidth435pxheight166pxborder1px': 1, '888backgroundcolorfff': 4, 'groupkeyboardondisplayblock': 1, 'groupkeyboard': 47, 'titkeyboardpositionabsolutetop20pxleft20pxwidth24pxheight13pxbackgroundposition0': 1, '120px': 7, 'engbasic': 7, 'titkeyboardkeyboardlayer': 1, 'engshift': 7, 'titkeyboardbackgroundposition0': 1, '140px': 5, 'btncloseoverflowhiddenpositionabsolutetop19pxright20pxwidth13pxheight13pxbackgroundposition0': 1, '100px': 16, 'keyboardlineoverflowhiddenmargintop4px': 1, 'keyboard1ndoverflowhiddenmargin0': 1, 'keyboard2ndpaddingleft15px': 1, 'keyboard3ndpaddingleft30px': 1, 'btnkeyboardoverflowhiddenfloatleftwidth26pxheight30pxmarginright4pxtextaligncentertextindent9999px': 1, 'korbasic': 6, 'btnkeyboardbackgroundimageurlt1daumcdnnetdaumtopdecoimagestop2017imgkor171226png': 1, 'btnkeyboardhoverkeyboardlayer': 8, 'btnkeyboardactivebackgroundimageurlt1daumcdnnetdaumtopdecoimagestop2017imgkorhover171226png': 1, 'korshift': 6, 'btnkeyboardbackgroundimageurlt1daumcdnnetdaumtopdecoimagestop2017imgkorshift171229png': 1, 'btnkeyboardactivebackgroundimageurlt1daumcdnnetdaumtopdecoimagestop2017imgkorshifthover171229png': 1, 'btnkeyboardbackgroundimageurlt1daumcdnnetdaumtopdecoimagestop2017imgeng171226png': 1, 'btnkeyboardactivebackgroundimageurlt1daumcdnnetdaumtopdecoimagestop2017imgenghover180122png': 1, 'btnkeyboardbackgroundimageurlt1daumcdnnetdaumtopdecoimagestop2017imgengshift171226png': 1, 'btnkeyboardactivebackgroundimageurlt1daumcdnnetdaumtopdecoimagestop2017imgengshifthover171226png': 1, 'keyboard1backgroundposition30px': 1, 'keyboard2backgroundposition60px': 1, 'keyboard3backgroundposition90px': 1, 'keyboard4backgroundposition120px': 1, 'keyboard5backgroundposition150px': 1, 'keyboard6backgroundposition180px': 1, 'keyboard7backgroundposition210px': 1, 'keyboard8backgroundposition240px': 1, 'keyboard9backgroundposition270px': 1, 'keyboard10backgroundposition300px': 1, 'keyboard11backgroundposition330px': 1, 'keyboard12backgroundposition360px': 1, 'keyboard13backgroundposition15px': 1, '34px': 13, 'keyboard14backgroundposition45px': 1, 'keyboard15backgroundposition75px': 1, 'keyboard16backgroundposition105px': 1, 'keyboard17backgroundposition135px': 1, 'keyboard18backgroundposition165px': 1, 'keyboard19backgroundposition195px': 1, 'keyboard20backgroundposition225px': 1, 'keyboard21backgroundposition255px': 1, 'keyboard22backgroundposition285px': 1, 'keyboard23backgroundposition315px': 1, 'keyboard24backgroundposition345px': 1, 'keyboard25backgroundposition375px': 1, 'keyboard26backgroundposition30px': 1, '68px': 11, 'keyboard27backgroundposition60px': 1, 'keyboard28backgroundposition90px': 1, 'keyboard29backgroundposition120px': 1, 'keyboard30backgroundposition150px': 1, 'keyboard31backgroundposition180px': 1, 'keyboard32backgroundposition210px': 1, 'keyboard33backgroundposition240px': 1, 'keyboard34backgroundposition270px': 1, 'keyboard35backgroundposition300px': 1, 'keyboard36backgroundposition330px': 1, 'keyboard37backgroundposition75px': 1, '102px': 12, 'keyboard38backgroundposition105px': 1, 'keyboard39backgroundposition135px': 1, 'keyboard40backgroundposition165px': 1, 'keyboard41backgroundposition195px': 1, 'keyboard42backgroundposition225px': 1, 'keyboard43backgroundposition255px': 1, 'keyboard44backgroundposition285px': 1, 'keyboard45backgroundposition315px': 1, 'keyboard46backgroundposition345px': 1, 'keyboardspebkspwidth41pxbackgroundposition390px': 1, 'keyboardspeshiftwidth71pxbackgroundposition0': 1, 'keyboardspeshift2width56pxbackgroundposition375px': 1, 'keyboardspelangwidth86pxbackgroundposition0': 1, '136px': 3, 'keyboardspespacewidth251pxbackgroundposition90px': 1, 'keyboardspeenterwidth86pxbackgroundposition345px': 1, 'daumSuggestWrappositionrelativemarginright90pxclearboth': 1, 'suggestBoxpositionabsolutetop45pxleft0zindex9999width520pxpadding0backgroundnone': 1, 'baseBoxbordertop1px': 1, 'dcdcdcfontsize12pxlineheight17pxfontfamily굴림gulimsansserifbackgroundcolorfff': 1, 'baseBoxfontfamilyApple': 1, 'SD': 6, 'Gothic': 6, 'Neosansserif': 6, 'suggestBox': 96, 'listpadding7px': 1, '13pxborderleft1px': 1, 'dcdcdcborderright1px': 2, 'dcdcdccolor333backgroundcolorfff': 1, 'suggestBoxreverseType': 2, 'listpadding3px': 1, '7pxcolor333': 1, 'baseBox': 4, 'lioverflowhiddenheight26pxpadding0': 1, '16pxlineheight26pxtextalignleftcursorpointer': 1, 'li': 8, 'itemdisplayblockheight100': 1, 'itemhovertextdecorationnone': 1, 'list': 1, 'onbackgroundcolorf6f6f6': 1, 'strongfontweightnormalcolor0089ff': 1, 'lineoverflowhiddenheight1pxmargin7px': 1, '6pxpadding0fontsize1pxlineheight1pxbackgroundcolore5e5e5': 1, 'guidepadding15px': 1, '10pxcolor555': 1, 'footerpositionrelativeheight20pxpadding8px': 1, '12px': 10, '4px': 13, '7pxborder1px': 1, 'dcdcdcbordertop1px': 1, 'ecececfontsize11pxbackgroundcolorfbfbfbletterspacing1pxclearboth': 1, 'footerbordertopcolordcdcdcborderbottomcolorededed': 1, 'footer': 7, 'flfloatleft': 1, 'frfloatright': 1, 'btnclosepaddingleft12pxbackgroundposition0': 1, '939px': 1, 'bardisplaynonepadding0': 1, '2pxcolorddd': 1, 'fl': 1, 'barpadding0': 1, '2px': 12, 'offGuidedisplaynonepositionabsoluteright0bottom19pxwidth211pxheight27pxbackgroundurlsearch1daumcdnnetsearchstaticscommonpisuggestservicegif': 1, 'norepeattextindent999em': 1, 'offSuggestdisplaynone': 1, 'listpadding9px': 1, '11px': 3, 'lipadding0': 2, '17px': 2, 'acolor777': 1, 'answerborderleft1px': 1, 'dcdcdc': 1, 'answer': 1, 'spancursorpointer': 1, 'afontsize14pxcolor333fontfamily돋움dotumsansseriftextdecorationnone': 1, 'afontfamilyApple': 1, 'linedisplayblockoverflowhiddenclearboth': 1, 'blineborderbottom1px': 1, 'ededed': 1, 'suggestexactdisplayblockoverflowhiddenheight40pxpadding12px': 1, 'suggestexacthovertextdecorationnone': 1, 'eonbackgroundcolorf8f8f8textdecorationnone': 1, 'suggestexact': 56, 'txtexactoverflowhiddenfloatleftheight44pxmargintop0backgroundposition0': 1, 'txtunitfontsize14pxfontfamilyarialsansserif': 1, 'titmarginleft1pxfontweightnormalfontsize12pxlineheight18pxfontfamily굴림gulimsansserifcolor333': 1, 'contdisplayblock': 1, 'txtcontmarginright4pxfontweightboldfontsize14pxlineheight16pxfontfamily돋움dotumsansserifcolor333': 1, 'txtnum1fontsize18pxlineheight20pxfontfamilytahomasansserifcolor333': 1, 'txtnum2marginleft3pxfontsize12pxlineheight14pxfontfamily굴림gulimsansserifcolor333': 1, 'txtnum3fontsize20pxlineheight23pxfontfamilyarialsansserifcolor333': 1, 'txtnum4marginleft3pxfontsize12pxlineheight14pxfontfamily굴림gulimsansserifcolor333': 1, 'txtexact': 5, 'icosuggest2backgroundurlsearch1daumcdnnetsearchstaticscommonpiicoicosuggest20110721gif': 1, 'icocelsiusbackgroundnone': 1, 'icoarrowuppaddingleft11pxbackgroundposition0': 1, '58px': 1, 'icoarrowdownpaddingleft11pxbackgroundposition0': 1, '98px': 1, 'icoarrowequalpaddingleft11pxbackgroundposition0': 1, '75px': 1, 'txtbluecolor007aff': 1, 'txtblue2color007aff': 1, 'txtredcolore52d38': 1, 'txtred2colore52d38': 1, 'txttimefloatrightmargin25px': 1, '0fontsize11pxfontfamily돋움dotumsansserifcolora1a1a1': 1, 'icocelsiuswidth12pxheight13pxfontfamilyarialsansserifbackgroundpositionright': 1, '5px': 9, 'barfontsize14pxcolordedede': 1, 'wraptodayoverflowhiddenheight21pxpadding4px': 1, '10px': 2, '9pxlineheight21px': 1, 'wraptoday': 2, 'contfontsize14pxcolor333textdecorationnone': 1, 'contimportfontweightnormalcolorea570a': 1, 'titfontfamilyApple': 1, 'txtnum2fontfamilyApple': 1, 'txtnum4fontfamilyApple': 1, 'txttimefontfamilyApple': 1, 'icolottofloatleftwidth28pxheight28pxmargin6px': 1, '0borderradius20pxtextaligncenter': 1, 'icolotto': 1, 'txtnumdisplayinlineblockmargintop7pxfontsize14pxlineheight1fontfamilyarialsansserifcolorfffverticalaligntop': 1, 'num1backgroundcolorf6a800': 1, 'num10backgroundcolor4155cb': 1, 'num20backgroundcolorf64d61': 1, 'num30backgroundcolor585d6e': 1, 'num40backgroundcolorf6a800': 1, 'pluswidth8pxheight8pxmargin16px': 1, '8px': 10, '4pxbackgroundurlsearch1daumcdnnetsearchstaticscommonpiicoicosuggest20110721gif': 1, '40pxtextindent9999pxopacity05': 1, 'icosuggestpaddingleft59pxcolor555backgroundurlsearch1daumcdnnetsearchstaticscommonpiweathericoweathermpng': 1, 'icosuggest': 1, 'cont': 1, 'screenoutpositionstaticfontsize14pxfontfamilyarialsansseriftextindent0': 1, 'txtexactoverflowhiddenfloatleftheight44pxmargintop0': 1, 'icow00backgroundposition0': 1, '1620px': 1, 'icow01backgroundposition0': 2, 'night': 24, '60px': 18, 'icow02backgroundposition0': 2, '180px': 5, 'icow03backgroundposition0': 2, '240px': 3, '300px': 3, 'icow04backgroundposition0': 1, '360px': 2, 'icow05backgroundposition0': 2, '420px': 1, '480px': 2, 'icow06backgroundposition0': 2, '540px': 1, '600px': 1, 'icow07backgroundposition0': 1, '660px': 1, 'icow08backgroundposition0': 1, '720px': 1, 'icow09backgroundposition0': 1, '780px': 1, 'icow10backgroundposition0': 2, '840px': 1, '900px': 1, 'icow11backgroundposition0': 1, '960px': 1, 'icow12backgroundposition0': 1, '1020px': 1, 'icow13backgroundposition0': 2, '1080px': 1, '1140px': 1, 'icow14backgroundposition0': 1, '1200px': 1, 'icow15backgroundposition0': 1, '1260px': 1, 'icow16backgroundposition0': 2, '1320px': 1, '1380px': 1, 'icow17backgroundposition0': 1, '1440px': 1, 'icow18backgroundposition0': 1, '1500px': 1, 'icow19backgroundposition0': 1, '1560px': 1, 'daumSuggestWrapdisplaynone': 1, 'dserviceborderbottom1px': 1, 'dservice': 1, 'innerservicepositionrelativewidth990pxheight45pxmargin0': 1, 'menuservicefloatleftpositionrelativewidth660px': 1, 'menuservice': 1, 'linkmoreoverflowhiddenfloatleftwidth60pxheight25pxpadding10px': 1, '9pxlineheight20pxbackgroundposition0': 1, '8pxbackgroundcolortransparenttextaligncenter': 1, 'menuon': 2, 'linkmorebackgroundposition60px': 1, 'listmainsvcfloatleft': 1, 'listmainsvc': 16, 'lifloatleftheight45px': 1, 'txtpctopdisplayblockheight25pxpadding10px': 1, '0fontweightboldfontsize13pxlineheight25pxbackgroundcolortransparenttextaligncenter': 1, 'linkcafewidth30pxbackgroundposition0': 1, 'linkmailwidth36pxbackgroundposition30px': 1, 'linknewswidth37pxbackgroundposition66px': 1, 'linkmapwidth36pxbackgroundposition103px': 1, 'linkstockwidth37pxbackgroundposition139px': 1, 'linkshoppingwidth36pxbackgroundposition176px': 1, 'linkkakaotvwidth64pxbackgroundposition212px': 1, 'linkwebtoonwidth37pxbackgroundposition276px': 1, 'linkblogwidth48pxbackgroundposition313px': 1, 'linkbrunchwidth47pxbackgroundposition361px': 1, 'linkdicwidth36pxbackgroundposition408px': 1, 'linkgamewidth37pxbackgroundposition444px': 1, 'linkstarplaywidth59pxbackgroundposition481px': 1, 'linktogetherwidth59pxbackgroundposition540px': 1, 'servicelayerdisplaynonepositionabsolutetop45pxleft0width653pxborder1px': 1, 'servicelayerdisplayblock': 1, 'servicelayer': 21, 'layerbodyoverflowhiddenbackgroundurlt1daumcdnnetdaumtopdecoimagestop2017bglinegif': 1, 'repeaty': 1, 'collsvcfloatleftwidth109px': 1, 'sortserviceoverflowhiddenpadding0': 1, '15px': 5, 'sortservice': 8, 'dtmargin11px': 1, '4pxfontweightboldfontsize12px': 1, 'ddclearbothfontsize12pxlineheight22px': 1, 'titsplitfloatleftpaddingright9pxbackgroundposition100': 1, 'linksvccolor555': 1, 'linksvchovercolor118eff': 1, 'iconewdisplayinlineblockwidth11pxheight11pxmargin2px': 1, '2pxfontsize0lineheight0backgroundposition160px': 1, '80pxverticalalignmiddletextindent9999px': 1, 'sorttype2height146pxpaddingbottom0': 1, 'collsvcfstwidth108px': 1, 'collsvcfst': 1, 'sortservicepaddingleft14px': 1, 'layerfootoverflowhiddenheight32pxbordertop1px': 1, 'ecececbackgroundcolorfbfbfb': 5, 'layerfoot': 4, 'linktotalfloatleftpaddingright8pxmarginleft13pxfontsize11pxlineheight29pxcolor555backgroundposition100': 1, 'btnclosefloatrightpadding0': 1, '13pxmargin2pxfontsize11pxlineheight24pxcolor888': 1, 'sortservicepaddingbottom12px': 1, 'dtmargin14px': 1, 'titsplitbackgroundposition100': 1, '3px': 5, 'sorttype2paddingbottom0': 1, 'linktotalpaddingright10pxmarginleft14pxlineheight32pxbackgroundposition100': 1, 'btnclosepadding0': 1, '12pxlineheight28px': 1, 'todaybasefloatrightpositionrelativeheight45px': 1, 'todaybase': 5, 'compbasedisplayinlineblockverticalaligntop': 1, 'imgweatherbackgroundimageurlt1daumcdnnetdaumtopdecoimagestop2017imgweather170628pngbackgroundrepeatnorepeatfontsize0lineheight0textindent9999px': 1, 'txttemperfloatleftfontsize14pxfontfamilytahomaarialsansserifletterspacing0': 1, 'txttemperfontfamilyhelveticaarialsansserif': 1, 'infotodayfloatleftfontsize13px': 1, 'infotoday': 43, 'datetodayfloatleftheight24pxpaddingtop10pxlineheight20pxletterspacing0': 1, 'txtpartfloatleftmarginright5pxfontweightboldlineheight24px': 1, 'linkweatherfloatleftheight25pxmarginleft16pxpadding8px': 1, '12pxlineheight24pxtextalignright': 1, 'linkweatherhovercolor222textdecorationnone': 2, 'listweatherfloatleftoverflowhiddenheight25px': 1, 'listweather': 1, 'lioverflowhiddenheight25px': 1, 'datetodaylineheight26px': 1, 'txtpartlineheight30px': 1, 'linkweatherlineheight26px': 1, 'linkweather': 5, 'icomoremargintop10px': 1, 'icowsbackgroundimageurlt1daumcdnnetdaumtopdecoimagestop2017icows1801023pngbackgroundrepeatnorepeatfontsize0lineheight0textindent9999px': 1, 'icowsfloatleftwidth26pxheight26pxmargin1px': 1, '0verticalaligntop': 2, 'icowm01backgroundposition0': 2, 'icowm01backgroundposition30px': 1, 'icowm02backgroundposition60px': 1, 'icowm02backgroundposition90px': 1, 'icowm03backgroundposition120px': 1, 'icowm03backgroundposition150px': 1, 'icowm04backgroundposition180px': 1, 'icowm05backgroundposition210px': 1, 'icowm05backgroundposition240px': 1, 'icowm06backgroundposition0': 2, 'icowm06backgroundposition30px': 1, 'icowm07backgroundposition60px': 1, 'icowm08backgroundposition90px': 1, 'icowm09backgroundposition120px': 1, 'icowm10backgroundposition150px': 1, 'icowm10backgroundposition180px': 1, 'icowm11backgroundposition210px': 1, 'icowm12backgroundposition240px': 1, 'icowm13backgroundposition0': 1, 'icowm13backgroundposition30px': 1, 'icowm14backgroundposition60px': 1, 'icowm15backgroundposition90px': 1, 'icowm16backgroundposition120px': 1, 'icowm16backgroundposition150px': 1, 'icowm17backgroundposition180px': 1, 'icowm18backgroundposition210px': 1, 'icowm19backgroundposition240px': 1, 'txttempermargintop1px': 2, 'icodegreefloatleftwidth17pxheight15pxmargin7px': 1, '0fontsize12pxlineheight17pxbackgroundposition210px': 1, '270pxbackgroundcolortransparenttextaligncentertextindent0': 1, 'icomorewidth13pxheight9pxmargin9px': 1, '1pxbackgroundposition138px': 1, '292px': 2, 'todayon': 2, 'icomorebackgroundposition138px': 1, '304px': 1, 'todaylayerdisplaynonepositionabsolutetop45pxright0width298pxborder1px': 1, 'todaylayer': 78, 'icowmbackgroundimageurlt1daumcdnnetdaumtopdecoimagestop2017icowm1801023pngbackgroundrepeatnorepeatfontsize0lineheight0textindent9999px': 1, 'layerbodyoverflowhidden': 1, 'layerbodyafterpositionabsolutetop0right0width42pxheight42pxcontent': 1, 'weatherpartpositionrelativeheight135px': 1, 'btnlocatepositionabsolutetop17pxleft18pxwidth21pxheight21pxfontsize0lineheight0backgroundposition176px': 1, '246pxtextindent9999px': 1, 'btnlocateonbackgroundposition176px': 1, '286px': 1, 'linkweatherdisplayblockoverflowhiddenheight135px': 1, 'txtplacedisplayblockheight20pxmargin17px': 1, '22pxfontweightboldfontsize13pxlineheight19px': 1, 'txtplace': 1, 'txtlocaldisplayinlineblock': 1, 'icowmfloatleftwidth90pxheight90pxmarginleft22px': 1, 'icowm01backgroundposition100px': 1, 'icowm02backgroundposition200px': 1, 'icowm02backgroundposition300px': 1, 'icowm03backgroundposition400px': 1, 'icowm03backgroundposition500px': 1, 'icowm04backgroundposition600px': 1, 'icowm05backgroundposition700px': 1, 'icowm05backgroundposition800px': 1, 'icowm06backgroundposition100px': 1, 'icowm07backgroundposition200px': 1, 'icowm08backgroundposition300px': 1, 'icowm09backgroundposition400px': 1, 'icowm10backgroundposition500px': 1, 'icowm10backgroundposition600px': 1, 'icowm11backgroundposition700px': 1, 'icowm12backgroundposition800px': 1, 'icowm13backgroundposition': 2, '200px': 18, 'icowm14backgroundposition200px': 1, 'icowm15backgroundposition300px': 1, 'icowm16backgroundposition400px': 1, 'icowm16backgroundposition500px': 1, 'icowm17backgroundposition600px': 1, 'icowm18backgroundposition700px': 1, 'icowm19backgroundposition800px': 1, 'infotemperdisplayblockoverflowhiddenheight32pxmargin19px': 1, '130pxfontfamilytahomaarialsansserif': 1, 'infotemper': 13, 'imgweatherfloatleftwidth22pxheight32pxmargin0': 1, 'num0backgroundposition260px': 1, 'num1backgroundposition260px': 1, '40px': 8, 'num2backgroundposition260px': 1, 'num3backgroundposition260px': 1, 'num4backgroundposition260px': 1, '160px': 6, 'num5backgroundposition260px': 1, 'num6backgroundposition260px': 1, 'num7backgroundposition260px': 1, '280px': 3, 'num8backgroundposition260px': 1, '320px': 1, 'num9backgroundposition260px': 1, 'icominuswidth22pxheight32pxbackgroundposition260px': 1, '400px': 1, 'icodegreewidth39pxheight32pxbackgroundposition210px': 1, 'statedescdisplayblockoverflowhiddenmargin7px': 1, '130pxlineheight16px': 1, 'statedesc': 4, 'icodegreefloatleftwidth14pxheight12pxmargin3px': 1, '0backgroundposition240px': 1, '208px': 1, 'txtdescfloatleftmarginright2px': 1, 'layerfootoverflowhiddenbordertop1px': 1, 'linkstatefloatleftoverflowhiddenwidth50height39pxcolor101010textdecorationnone': 1, 'infowmoverflowhiddenheight22pxpaddingtop8pxlineheight21px': 1, 'infowm': 5, 'dtfloatleftpaddingright9px': 1, 'ddfloatleft': 2, 'imgweatherdisplayinlineblockverticalaligntop': 1, 'infodustpaddingleft18px': 1, 'icodustwidth20pxheight20pxmargintop3pxmarginright6pxbackgroundposition140px': 1, 'icoairwidth21pxheight21pxmargin1px': 1, '7px': 7, '2pxbackgroundposition140px': 1, '264px': 1, 'stategoodcolor0078ff': 1, 'statenormalcolor27aa1d': 1, 'statebadcolorfecc3d': 1, 'stateworstcolore30000': 1, 'btnclosepositionabsolutetop18pxright18pxwidth16pxheight16pxbackgroundposition0': 2, 'txtplacemargintop20pxlineheight18px': 1, 'infotempermargintop15px': 1, 'statedescmargintop10px': 1, 'icodegreemargintop1px': 1, 'infowmpaddingtop11px': 1, 'icodustmargintop0': 1, 'icoairmargintop2px': 1, 'todaylayerdisplayblock': 1, 'adverttmpfloatleftpositionrelativewidth655pxheight120pxmarginright35px': 1, 'adverttmp': 1, 'bglinepositionabsolutetop0left0zindex1width653pxheight118pxborder1px': 1, 'advertstationdisplayinlineblockpositionrelativewidth300pxheight150pxmargintop15pxfontsize0lineheight0verticalaligntop': 1, 'advertstation': 1, 'bglinepositionabsolutetop0left0zindex1width298pxheight148pxborder1px': 1, 'boxshoppingdisplayinlineblockpositionrelativewidth300pxheight1177pxmargintop15pxverticalaligntop': 1, 'boxshopping': 2, 'bgline1positionabsolutetop0left0zindex1width298pxheight775pxborder1px': 1, 'bgline2positionabsolutetop792pxleft0zindex1width298pxheight383pxborder1px': 1, 'advertsvcbnrmargintop15px': 1, 'advertsvcbnr': 2, 'linkbnrdisplayblockpositionrelativeheight60px': 1, 'framegwidth298pxheight58px': 1, 'advertbnrmargintop15px': 1, 'advertbnr': 2, 'linkbnrdisplayblockoverflowhiddenpositionrelativeheight143px': 1, 'framegwidth298pxheight141px': 1, 'wraptiercontpositionrelativezindex99width990pxmargin0': 1, 'logintmpfloatrightpositionrelativezindex0width300pxheight120pxletterspacing1px': 1, 'loginmyzindex10backgroundurlt1daumcdnnetdaumtopdecoimagestop2017bgpctop170328png': 1, 'loginmy': 22, 'wrapmywidth285pxheight45pxpadding15px': 1, 'infomyfloatleftpadding1px': 1, 'relmyfloatrightpaddingright15px': 1, 'nameuserfloatleftmarginright4pxfontweightbold': 1, 'linkmyinfofloatleftfontsize11pxmargin2px': 1, '0lineheight14pxcolor555textdecorationunderline': 1, 'linkssopositionabsolutetop41pxleft15pxwidth68pxheight22pxfontsize11pxlineheight22pxbackgroundposition100px': 1, '235pxwhitespacenowrap': 2, 'linkssoingbackgroundposition100px': 1, '205px': 1, 'linkssohelppositionabsolutetop41pxleft85pxwidth6pxheight22pxpadding0': 1, '6pxfontsize12pxlineheight22pxbackgroundposition180px': 1, 'layerssopositionabsolutetop77pxleft0zindex11width298pxheight82pxborder1px': 1, '118effbackgroundcolorfff': 1, 'layersso': 4, 'boxhelpdisplaytablewidth100height100': 1, 'txthelpdisplaytablecellpadding0': 1, '2pxfontsize12pxlineheight16pxcolor555verticalalignmiddle': 1, 'btnclosepositionabsolutetop5pxright5pxwidth21pxheight21pxpadding0': 1, '6pxbackgroundposition210px': 1, '235px': 1, 'linkempathyfloatleftmargin5px': 1, '0fontsize11pxlineheight14pxcolor5b6473': 1, 'btnlogoutfloatleftwidth56pxheight24pxfontsize11pxlineheight24pxbackgroundposition180px': 1, '30pxbackgroundcolortransparent': 1, 'listbasisoverflowhiddenpositionabsolutetop43pxright9pxheight30pxletterspacing012em': 1, 'listbasis': 6, 'lifloatleftpaddingright8pxlineheight15px': 1, 'linkbasisfloatleftfontsize12pxcolor555': 1, 'numbasismarginleft3pxcolor118eff': 1, 'nummsgwidth30px': 1, 'linknumfontweightboldcolor118eff': 1, 'mymileage': 1, 'linkbasismarginright8px': 1, 'wrapmysvcpositionrelativezindex10width300px': 1, 'mysvclistpositionrelativewidth300pxheight43px': 1, 'listmysvcdisplayinlineblockpositionrelativewidth300pxheight43pxverticalaligntopletterspacing1px': 1, 'listmysvc': 13, 'lipositionrelativefloatleftwidth100pxheight43px': 1, 'linkmysvcdisplayblockoverflowhiddenheight31pxpaddingtop12pxfontsize12pxlineheight18pxtextaligncentercolor555': 1, 'linkmysvchovertextdecorationnone': 1, 'cafeg': 5, 'linkmysvcheight30pxpaddingtop13pxlineheight16px': 1, 'txtmysvcdisplayinlineblockheight26pxcolor555verticalaligntop': 1, 'txtmysvcpaddingleft24pxbackgroundposition0': 1, 'stockg': 1, 'txtmysvcpaddingleft27pxbackgroundposition0': 1, '109px': 1, 'blogg': 1, 'txtmysvcpaddingleft29pxbackgroundposition0': 1, '139px': 1, 'iconewdisplaynonewidth11pxheight11pxmargin5px': 1, '4pxbackgroundposition160px': 1, '80pxtextindent9999pxverticalaligntop': 1, 'newg': 1, 'iconewdisplayinlineblock': 1, 'iconewmargintop4px': 2, 'mycafeonbackgroundurlt1daumcdnnetdaumtopdecoimagestop2017bgpctop170328png': 1, '310px': 15, 'mystockonbackgroundurlt1daumcdnnetdaumtopdecoimagestop2017bgpctop170328png': 1, 'myblogonbackgroundurlt1daumcdnnetdaumtopdecoimagestop2017bgpctop170328png': 1, 'layermycontpositionabsolutetop120pxleft0width300pxheight353pxbackgroundposition0': 1, '130px': 11, 'layermycont': 2, 'btnclosepositionabsolutetop320pxright0width46pxheight32pxpadding3px': 1, '4pxfontsize11pxlineheight18pxcolor888': 1, 'txthelppaddingtop2pxpaddingbottom0': 1, 'logintmpletterspacing0': 1, 'infomypaddingtop4px': 1, 'nameusermarginright7px': 1, 'linkprivacymargintop0': 1, 'listbasistop45pxright6pxletterspacing0': 1, 'lipaddingright9px': 1, 'linkmysvclineheight21px': 1, 'linkmysvclineheight20px': 1, 'iconewmargintop3px': 1, 'btnclosepaddingtop5px': 1, 'panelblocpositionrelativepaddingtop61px': 1, 'tittabcontpositionabsolutetop15pxfontsize16px': 1, 'tittabcont': 1, 'linktitdisplayblockheight36pxlineheight36pxbackgroundcolortransparenttextaligncenter': 1, 'wraptabcontdisplaynonewidth655px': 1, 'icoviewoverflowhiddenpositionabsoluteright8pxbottom8pxwidth23pxheight23pxbackgroundposition40px': 1, '0textindent9999pxcursorpointer': 3, 'icovideooverflowhiddenpositionabsoluteright8pxbottom8pxwidth23pxheight23pxbackgroundposition70px': 1, 'icoliveoverflowhiddenpositionabsoluteright8pxbottom8pxwidth23pxheight23pxbackgroundposition130px': 1, 'colorg1colore30000': 1, 'colorg2color118eff': 1, 'icolabeloverflowhiddenpositionabsolutetop15pxleft15pxheight22pxpadding0': 1, '8pxfontsize11pxlineheight19pxcolorfffbackgroundcolor118eff': 1, 'icolabel2overflowhiddenpositionabsolutetop0left0height20pxpadding0': 1, '7pxfontsize11pxlineheight17pxcolorfffbackgroundcolorrgba00006filterprogidDXImageTransformMicrosoftgradientstartColorstr99000000endColorstr99000000GradientType0': 1, 'icolabel3overflowhiddenpositionabsolutetop15pxleft15pxheight22pxpadding0': 1, '8pxfontsize11pxlineheight19pxcolorfffbackgroundcolore8493d': 1, 'icolabelosmac': 1, 'icolabel3lineheight23px': 1, 'icolabel2lineheight21px': 1, 'taglivewidth30pxheight15pxbackgroundposition120px': 1, '70px': 3, 'tagnewwidth31pxheight15pxbackgroundposition120px': 1, '90px': 4, 'tageventwidth40pxheight15pxbackgroundposition120px': 1, '110px': 4, 'tagissuewidth37pxheight15pxbackgroundposition120px': 1, 'taghotwidth28pxheight15pxbackgroundposition208px': 1, '260px': 3, 'taglive2width33pxheight17pxbackgroundposition120px': 1, 'tagnew2width34pxheight17pxbackgroundposition120px': 1, 'tagevent2width45pxheight17pxbackgroundposition160px': 1, 'tagissue2width41pxheight17pxbackgroundposition160px': 1, 'icoadpositionabsoluteright10pxbottom10pxwidth25pxheight16pxfontsize0lineheight0backgroundposition0': 1, '40pxtextindent9999px': 1, 'pagepctoppositionabsolutewidthautoheight16px': 1, 'pagepctop': 13, 'btnpagefloatleftwidth16pxheight16pxlineheight16pxbackgroundcolortransparentbackgroundposition210px': 1, 'btnnextwidth15pxbackgroundposition226px': 2, 'infopagefloatleftpadding2px': 1, '0fontsize12pxlineheight16pxcolor555fontfamilytahomaarialsansserif': 1, 'infopage': 1, 'txtslashpadding0': 1, 'infopagelineheight16pxfontfamilyhelveticaarialsansserif': 1, 'pagebtypetop20pxright0height26px': 1, 'pagebtype': 4, 'btnpagewidth26pxheight26pxlineheight26pxbackgroundposition110px': 1, '170pxtextindent10px': 1, 'btnnextwidth25pxbackgroundposition136px': 1, '170px': 4, 'infopagepaddingtop1pxpaddingright8pxfontsize14pxlineheight22px': 1, 'infopagelineheight24px': 1, 'pagetabcontpositionabsolutezindex1top16pxleft30pxcursorpointer': 1, 'pagetabcont': 2, 'btnpageoverflowhiddenfloatleftwidth7pxheight7pxmargin9px': 1, '0fontsize10pxlineheight7pxbackgroundposition100px': 1, '170pxbackgroundcolortransparent': 1, 'onpositionrelativebackgroundposition100px': 1, '177px': 1, 'listthumboverflowhidden': 1, 'listthumb': 12, 'lifloatleftwidth154pxheight146pxmarginleft13px': 1, 'fstmarginleft0': 2, 'linkitemdisplayblock': 1, 'thumbgwidth154pxheight94px': 2, 'framegwidth152pxheight92px': 3, 'contitempadding4px': 2, 'tititemdisplayblockoverflowhiddenmaxheight36pxpaddingright12pxfontweightnormallineheight18pxwordbreakkeepallwordwrapbreakword': 2, 'contitempaddingtop6px': 3, 'tititempaddingright14px': 3, 'listtxtfloatleft': 1, 'listtxt': 13, 'lioverflowhiddenheight20pxpadding4px': 1, '2pxwhitespacenowraptextoverflowellipsis': 1, 'icopctopdisplayinlineblockmargin3px': 1, '0textindent9999pxverticalaligntop': 4, 'splittxtpaddingleft10pxmarginleft10pxcolor888backgroundurlt1daumcdnnetdaumtopdecoimagestop2017icopctopvert170724png': 1, '46px': 1, 'splittxthovercolor118eff': 1, 'partmidpaddingtop18pxlineheight16px': 1, 'splitpartdisplayinlineblockoverflowhiddenverticalaligntop': 1, 'splitpart': 3, 'linktxtmarginright3px': 1, 'splitfstfloatleftoverflowhiddenmaxwidth222pxtextoverflowellipsis': 1, 'lilineheight20px': 1, 'splittxtbackgroundposition0': 1, '49px': 1, 'partmidlineheight22px': 1, 'splitpartletterspacing003em': 1, 'linktxtmarginright7px': 1, 'liststxtmargintop7px': 1, 'liststxt': 2, 'lioverflowhiddenpaddingbottom4pxlineheight19pxwhitespacenowraptextoverflowellipsis': 1, 'txtmarkfontsize12pxcolor888': 2, 'linksectordisplayblockpositionrelativezindex0width321pxheight131px': 1, 'linksector': 11, 'framegwidth319pxheight129px': 1, 'contitempositionabsoluteright0left0bottom0width100height100pxbackgroundurlt1daumcdnnetdaumtopdecoimagestop2017bgplate2png': 1, '100': 7, 'tititemoverflowhiddenpositionabsoluteleft0bottom13pxright0padding0': 1, '15pxfontweightnormalfontsize14pxlineheight20pxcolorfff': 1, 'icolabel': 1, 'icolabel2': 1, 'icolabel3': 1, 'icopctopzindex1': 1, 'tititembottom10px': 2, 'listranking': 24, 'liheight20pxpaddingbottom5px': 1, 'linkrankingdisplayblockoverflowhiddenlineheight18px': 1, 'txtrankingoverflowhiddenfloatleftwidth288pxwhitespacenowraptextoverflowellipsis': 1, 'linkrankinghover': 2, 'txtrankingtextdecorationunderline': 1, 'numpctopfloatleftwidth16pxheight16pxmargin3px': 2, 'num1backgroundposition0': 3, 'num2backgroundposition0': 3, 'num3backgroundposition0': 3, 'num4backgroundposition0': 2, 'num5backgroundposition0': 2, 'num6backgroundposition0': 1, 'num7backgroundposition0': 1, 'num8backgroundposition0': 1, 'num9backgroundposition0': 1, 'num10backgroundposition0': 1, 'numpctopmargintop0': 3, 'lilineheight22px': 1, 'boxstoryoverflowhiddenborder1px': 1, 'ecececbackgroundcolorfbfbfc': 2, 'boxstory': 5, 'titsubjectoverflowhiddenmargintop7pxfontsize13px': 1, 'titsubject': 2, 'linktitfloatleftpaddingright9pxbackgroundposition100': 1, 'titsubjectmargintop10px': 1, 'linktitbackgroundposition100': 1, 'liststxtmargintop10px': 1, 'sectionmediapositionrelative': 1, 'sectionmedia': 5, 'pagebtypetop15px': 1, 'panelblocpadding57px': 1, '25px': 1, 'tittabconttop11pxleft0': 1, 'panelbloc': 48, 'titnewsleft5px': 1, 'titentertainleft55px': 1, 'titsportsleft94px': 1, 'titmovieleft147px': 1, 'titautoleft186px': 1, 'titrealestateleft240px': 1, 'titnews': 2, 'linktitwidth36pxbackgroundposition0': 2, 'titentertain': 2, 'linktitwidth36pxbackgroundposition36px': 1, 'titsports': 2, 'linktitwidth50pxbackgroundposition72px': 1, 'titmovie': 2, 'linktitwidth36pxbackgroundposition122px': 1, 'titauto': 2, 'linktitwidth51pxbackgroundposition158px': 1, 'titrealestate': 2, 'linktitwidth48pxbackgroundposition209px': 1, 'newson': 2, 'linktitbackgroundposition0': 3, '166px': 14, 'entertainon': 2, 'linktitbackgroundposition36px': 2, 'sportson': 2, 'linktitbackgroundposition72px': 1, 'movieon': 2, 'linktitbackgroundposition122px': 1, 'autoon': 2, 'linktitbackgroundposition158px': 1, 'realestateon': 2, 'linktitbackgroundposition209px': 1, 'wrapnews': 8, 'wrapentertain': 1, 'wrapsports': 1, 'wrapmovie': 1, 'wrapauto': 1, 'wraprealestatedisplayblock': 1, 'infospecialoverflowhidden': 1, 'infospecial': 5, 'icopctopfloatleftmargin3px': 1, '0textindent9999px': 3, 'linkspecialdisplayblockoverflowhiddenheight20pxfontweightboldfontsize13pxlineheight18pxcolor222letterspacing1px': 1, 'linkspecialhovercolor118eff': 1, 'icopctopmarginright6px': 1, 'linkspeciallineheight24pxletterspacing0': 1, 'infospecialpositionabsolutetop17pxright99pxmaxwidth250px': 1, 'wraptabcontheight480px': 1, 'groupnewsdisplayinlineblockheight292pxverticalaligntop': 1, 'newsprimeheight438px': 1, 'newsprime': 2, 'listtxtwidth316pxpaddingleft4px': 1, 'tititemwordbreaknormal': 1, 'boxsectoroverflowhiddenfloatleftwidth321pxmarginright13px': 1, 'boxsector': 4, 'listthumbwidth334pxmarginleft13px': 1, 'linksectormarginbottom15px': 1, 'newsflowoverflowhiddenpositionrelativeheight40pxborder1px': 1, 'ecececlineheight35pxbackgroundcolorfbfbfb': 1, 'unithomefloatleftpaddingleft12px': 1, 'unithome': 7, 'tithomefloatleftmarginright10px': 1, 'tithome': 2, 'linkhomepaddingright7pxbackgroundposition100': 1, '6px': 4, 'listhomefloatleft': 1, 'listhome': 2, 'lifloatleftpadding0': 1, 'linkhomecolor555': 1, 'linkhomehovercolor118eff': 1, 'unitlivefloatleftpaddingleft25px': 1, 'unitlive': 3, 'icopctopfloatleftmargin12px': 1, 'linklivemarginright5pxcolor555': 1, 'linklivehovercolor118eff': 1, 'newsflow': 1, 'linkhashpadding0': 1, '7pxcolor118eff': 1, 'newsflowlineheight40px': 1, 'linkhomepaddingright9pxbackgroundposition100': 1, 'boxissuefloatleftpositionrelativemarginright13px': 1, 'boxissue': 8, 'linkissuedisplayblockoverflowhiddenpositionrelativewidth321pxheight277px': 1, 'covergpositionabsoluteleft0bottom0width100height132pxbackgroundurlt1daumcdnnetdaumtopdecoimagestop2017bgplate8png': 1, 'framegwidth319pxheight275px': 1, 'icolabelheight27pxfontsize14pxlineheight25pxbackgroundcolorrgba171422559': 1, 'contitemoverflowhiddenpositionabsoluteright0bottom14pxleft0': 1, 'contitem': 5, 'tititemdisplayblockoverflowhiddenmaxheight44pxpadding0': 1, '16pxfontweightnormalfontsize16pxlineheight22pxcolorfff': 1, 'icolabellineheight29px': 1, 'contitembottom10px': 1, 'specialissue': 7, 'titissueoverflowhiddenpositionabsolutetop25pxleft21pxmaxheight60pxpaddingright20pxfontsize22pxcolorfff': 1, 'contitembottom12px': 1, 'listitempadding0': 1, 'listitem': 4, 'lioverflowhiddenmargintop3pxfontsize14px': 1, 'fstfontsize16pxlineheight26px': 1, 'linkitemdisplayblockoverflowhiddencolorfffwhitespacenowraptextoverflowellipsis': 1, 'fstlineheight23px': 1, 'newsprimefloatleftwidth501pxheight438px': 1, 'newsflowclearboth': 1, 'boxsectorwidth154px': 1, 'listthumbwidthautomarginleft0': 1, 'lifloatnonemarginleft0': 1, 'linksectorwidth154pxheight277pxmarginbottom0': 1, 'framegwidth152pxheight275px': 1, 'rankingnewsoverflowhiddenpositionrelativeheight148pxpadding0': 1, '148px': 1, 'ranknewstitpositionabsolutetop3pxleft0width148px': 1, 'ranknewstit': 2, 'titrankingfloatleftlineheight17pxcolor118eff': 1, 'linktitcolor118eff': 1, 'helppartdisplayinlinefloatleftmargin3px': 1, 'helppart': 1, 'linkhelpdisplayblockwidth31pxheight15pxfontsize11pxbackgroundcolortransparentbackgroundposition0': 1, '265px': 2, 'helplayeroverflowhiddenpositionabsolutetop27pxleft0width126pxheight48pxborder1px': 1, '888backgroundcolorfbfbfb': 1, 'helplayer': 2, 'txthelppadding8px': 1, '13px': 8, '13pxfontsize11pxlineheight15pxcolor888': 1, 'btnclosepositionabsolutetop8pxright8pxwidth16pxheight16pxbackgroundposition0': 1, 'rankingnews': 2, 'listrankingmargintop3px': 1, 'tabrankingpositionabsolutetop30pxleft0width64px': 1, 'tabranking': 6, 'limarginbottom3px': 2, 'linktabdisplayinlineblockoverflowhiddenfontweightboldlineheight16pxcolor888': 1, 'on': 12, 'linktabcolor222textdecorationunderline': 1, 'icopctopfloatleftwidth6pxheight6pxmargin6px': 1, '0backgroundposition100px': 1, '190px': 1, 'contrankingdisplaynoneoverflowhidden': 1, 'contrankingondisplayblock': 1, 'helppartmargintop0': 1, 'helplayertop25px': 1, 'ranknewstittop6px': 1, 'listrankingmargintop5px': 1, 'tabrankingtop33px': 1, 'limarginbottom1px': 1, 'icopctopmargintop4px': 1, 'castsportspositionrelativewidth321pxmarginbottom15px': 1, 'castsports': 8, 'headcastheight35pxborder1px': 1, 'titcastmargin6px': 1, '11pxfontsize13px': 1, 'pagepctoptop11pxright14pxbottomauto': 1, 'btnpagewidth16pxheight16pxlineheight16pxbackgroundposition210px': 1, 'linkmorepositionabsolutetop9pxright13pxpaddingright7pxfontsize11pxcolor888backgroundposition100': 1, 'listrelayborder1px': 1, 'ecececbordertop0': 1, 'listrelay': 33, 'lioverflowhidden': 1, 'linkrelayhovercolor222textdecorationnone': 1, 'txtteamoverflowhiddenfontsize12pxlineheight26pxwhitespacenowraptextoverflowellipsis': 1, 'txttimefloatleftfontsize11pxfontfamilytahomaarialsansserifletterspacing0': 1, 'txtleaguefloatleftpaddingleft3pxfontsize11pxcolor888': 1, 'txtscore': 13, 'innerscoredisplayinlineblockverticalaligntop': 1, 'numpctopfloatleftwidth11pxheight16pxbackgroundcolortransparent': 1, 'num0backgroundposition60px': 1, 'num1backgroundposition60px': 1, 'num2backgroundposition60px': 1, 'num3backgroundposition60px': 1, 'num4backgroundposition60px': 1, 'num5backgroundposition60px': 1, 'num6backgroundposition60px': 1, 'num7backgroundposition60px': 1, 'num8backgroundposition60px': 1, 'num9backgroundposition60px': 1, 'numnonebackgroundposition60px': 1, 'tagcastwidth56pxheight15pxfontsize11pxbackgroundcolortransparenttextaligncenter': 1, 'cast1backgroundposition0': 1, 'cast2backgroundposition0': 1, 'cast3backgroundposition0': 1, 'cast4backgroundposition0': 1, 'cast5backgroundposition0': 1, '150px': 5, 'cast6backgroundposition60px': 1, 'cast7backgroundposition60px': 1, 'cast8backgroundposition60px': 1, 'cast9backgroundposition60px': 1, 'titcastmargin9px': 1, 'linkmoretop11pxbackgroundposition100': 1, 'txttimefontfamilyhelveticaarialsansserif': 1, 'relaygeneralheight93px': 1, 'relaygeneral': 9, 'linkrelayoverflowhiddenfloatleftpositionrelativewidth147pxheight84pxpadding9px': 1, '11pxborderleft1px': 1, 'f5f5f5': 2, 'linkrelayfstwidth146pxpaddingleft12pxborderleft0': 1, 'eventteamoverflowhiddenpositionabsoluteleft11pxtop57pxright0height25px': 1, 'eventteamfstleft11pxtop30px': 1, 'eventteam': 6, 'imgthumbfloatleft': 1, 'txtteamfloatleftwidth69pxlineheight22pxmargin0': 1, 'txtscorefloatleftwidth33pxmargintop5pxtextalignright': 1, 'tagcastfloatrightmargin1px': 1, 'relayspecial': 14, 'linkrelaydisplayblockoverflowhiddenpositionrelativeheight47pxbordertop1px': 1, 'linkrelayfstbordertop0': 1, 'eventteamoverflowhiddenpositionabsoluteleft159pxtop0width52pxheight47pxpaddingleft107px': 1, 'imgthumbpositionabsolutetop10pxright53px': 1, 'txtteamfloatleftwidth45pxmargin8px': 1, 'txtscorepositionabsolutetop15pxleft38pxwidth33pxtextaligncenter': 1, 'eventteamfstleft0width53pxpadding0': 1, '106px': 1, 'eventteamfst': 3, 'txtscoreleft89px': 1, 'imgthumbleft53pxrightauto': 1, 'txtteamtextalignright': 1, 'txttimedisplayblockfloatnonemargintop3pxtextaligncenter': 1, 'tagcastdisplayblockmargin2px': 1, 'linkviewwidth158pxheight66pxpadding27px': 1, '0fontsize12pxcolor888textaligncenter': 1, 'linkviewhovercolor888textdecorationnone': 1, 'linkview': 1, 'txtviewdisplayblockcolor118efftextdecorationunderline': 1, 'txtteamlineheight27px': 1, 'txtteammargintop12px': 1, 'txttimemargintop5px': 1, 'linkviewheight63pxpaddingtop30px': 1, 'boxspecialoverflowhiddenpositionrelativezindex0width641pxheight93pxmarginbottom15pxpadding36px': 1, '12pxborder1px': 1, 'boxspecial': 14, 'titspecialpositionabsolutetop7pxleft12pxfontsize13px': 1, 'linkspecialmarginright3px': 1, 'linkspecial2color888': 1, 'packslideoverflowhidden': 1, 'pagepctoptop8pxright12pxheight19px': 1, 'btnpagewidth19pxheight19pxlineheight19pxbackgroundposition40px': 1, 'btnnextwidth18pxbackgroundposition59px': 1, 'infopagecolor888': 1, 'numindexfontweightnormal': 1, 'linkbannerfloatleftpositionrelativewidth308pxheight80pxmarginleft5px': 1, 'linkbanner': 1, 'framegwidth306pxheight78px': 1, 'bannerwidewidth419pxheight80pxmarginleft11px': 1, 'bannerwide': 1, 'framegwidth417pxheight78px': 1, 'listspecialfloatleft': 1, 'listspecial': 8, 'lifloatleft': 2, 'linkthumbfloatleftpositionrelative': 1, 'linkthumb': 27, 'framegwidth54pxheight78px': 1, 'numgpositionabsolutetop0left0width16pxheight16pxfontsize11pxlineheight16pxcolorffffontfamilytahomaarialsansseriftextaligncenter': 1, 'continfooverflowhiddenwordbreakkeepall': 1, 'titinfodisplayblockoverflowhiddenmaxheight33pxfontweightnormalfontsize13pxlineheight17pxwordbreakbreakall': 1, 'txtinfodisplayblockoverflowhiddenfontsize12pxlineheight16pxcolor888whitespacenowraptextoverflowellipsis': 1, 'listmovie1': 9, 'liwidth146pxpaddingright12px': 2, 'numgbackgroundposition20px': 2, 'numpointbackgroundposition0': 2, 'continfopositionrelativepadding36px': 1, '9px': 2, 'titinfopositionabsolutetop0left9px': 1, 'txtinfofloatleftwidth100letterspacing0': 1, 'gradestardisplayblockoverflowhiddenpositionrelativewidth62pxheight12pxbackgroundposition40px': 1, 'innerstarpositionabsolutetop0left0widthautoheight12pxfontsize0lineheight0backgroundposition40px': 1, '50pxtextindent9999px': 1, 'listmovie2': 6, 'continfopadding0': 1, 'titinfomargin2px': 1, 'txtinfomaxheight31pxwhitespacenormal': 1, 'listmovie3': 10, 'limarginleft10px': 1, 'lifstmarginleft0': 2, 'linkthumbwidth203pxheight80px': 1, 'framegwidth201pxheight78px': 1, 'icoplaypositionabsoluteright10pxbottom10pxwidth22pxheight22pxfontsize0lineheight0backgroundposition100px': 1, 'continfopositionabsolutetop38pxleft0width152pxpadding0': 1, '10pxcolorfff': 1, 'txtinfocolorfff': 1, 'titinfodisplayinline': 1, 'txtruntimedisplayblockoverflowhiddenfontsize11pxlineheight13pxfontfamilytahomaarialsansserifwhitespacenowraptextoverflowellipsisletterspacing0': 1, 'listauto': 8, 'liwidth199pxpaddingleft10pxborderleft1px': 1, 'lifstpaddingleft0borderleft0': 1, 'linkthumbwidth120pxheight80px': 1, 'continfopadding13px': 1, 'titinfomarginbottom2px': 1, 'listrealestate': 8, 'liwidth203pxmarginleft8px': 1, 'linkthumbwidth110pxheight80px': 1, 'framegwidth108pxheight78px': 1, 'continfopaddingleft8px': 1, 'titinfomargintop2pxmarginbottom4px': 1, 'txtinfomargintop2pxlineheight14px': 1, 'titspecialtop10px': 1, 'numgfontfamilyhelveticaarialsansserif': 1, 'gradestarmarginbottom3px': 1, 'continfopaddingtop1px': 1, 'titinfomargintop0': 1, 'txtruntimemarginbottom2pxfontfamilyhelveticaarialsansserif': 1, 'continfopaddingtop16px': 1, 'titinfomargintop1pxlineheight16px': 1, 'listhotissueoverflowhiddenpositionrelativewidth180pxheight280px': 1, 'listhotissue': 33, 'lioverflowhiddenpositionrelativewidth100height20pxmarginbottom8px': 1, 'rolltxtpositionrelative': 1, 'rankcontoverflowhiddenpositionrelativeheight20px': 1, 'numpctopfloatleftwidth16pxheight16pxmargintop1pxfontsize12pxlineheight17pxfontfamilytahomaarialsansserifbackgroundcolortransparenttextaligncenter': 1, 'rank1backgroundposition20px': 1, 'rank2backgroundposition0': 1, 'rank3backgroundposition0': 1, 'rank4backgroundposition0': 1, 'rank5backgroundposition0': 1, 'rank6backgroundposition0': 1, 'rank7backgroundposition0': 1, 'rank8backgroundposition0': 1, 'rank9backgroundposition0': 1, 'rank10backgroundposition0': 1, 'txtissueoverflowhiddenfloatleftwidth119pxpaddingleft6pxlineheight15px': 1, 'linkissuedisplayblockoverflowhiddenpaddingbottom1pxwhitespacenowraptextoverflowellipsis': 1, 'rankresultfloatrightmargin1px': 1, '0fontweightnormalfontsize13pxlineheight14pxcolor888fontfamilytahomaarialsansserifbackgroundcolortransparentletterspacing005em': 1, 'rankresult': 1, 'icopctopdisplayinlineblockbackgroundcolortransparentverticalaligntop': 1, 'icoupwidth11pxheight14pxmarginright3pxbackgroundposition120px': 1, 'icodownwidth11pxheight14pxmarginright3pxbackgroundposition140px': 1, 'icosteadywidth11pxheight6pxmargin5px': 1, '0lineheight10pxbackgroundposition160px': 1, 'iconewwidth27pxheight12pxmargin2px': 1, '0backgroundposition120px': 1, 'txtissuelineheight20px': 1, 'rankresultlineheight16pxfontfamilyhelveticasansserif': 1, 'hotissuepositionabsolutetop19pxright90pxzindex1': 1, 'hotissueminioverflowhiddenpositionrelativewidth161pxheight20pxbackgroundcolorfff': 1, 'hotissuemini': 17, 'listhotissuewidth117px': 1, 'txtissuewidth95px': 1, 'txtrealtimefloatleftwidth44pxheight18pxlineheight18pxbackgroundposition325px': 1, '80pxbackgroundcolortransparenttextaligncenter': 1, 'rank2backgroundposition20px': 1, 'rank3backgroundposition20px': 1, 'rank4backgroundposition20px': 1, 'rank5backgroundposition20px': 1, 'rank6backgroundposition20px': 1, 'rank7backgroundposition20px': 1, 'rank8backgroundposition20px': 1, 'rank9backgroundposition20px': 1, 'rank10backgroundposition20px': 1, 'hotissuelayerdisplaynonepositionabsolutetop38pxright90pxwidth198pxheight384pxpaddingleft20pxborder1px': 1, 'hotissuelayer': 4, 'tithotissuepositionstaticwidth104pxheight34pxmargin10px': 1, '0fontsize13pxlineheight34pxbackgroundposition210px': 1, '80pxbackgroundcolortransparenttextindent0': 1, 'txtstandarddisplayblockpositionstaticwidthautoheightautomargintop5pxfontsize12pxlineheight14pxcolor888textindent0letterspacing0': 1, 'txtstandardmargintop8px': 1, 'issueopen': 1, 'hotissuelayerdisplayblock': 1, 'hotissuebuiltinpositionabsolutetop57pxright0width153pxheight424pxborderleft1px': 1, 'realtimepartheight292pxmarginleft14px': 1, 'realtimepart': 5, 'tithotissuepadding2px': 1, '6pxfontsize13pxcolor118eff': 1, 'listhotissuewidth138pxheight240px': 1, 'liwidth138pxmarginbottom4px': 1, 'txtissuewidth114px': 1, 'tithotissuepadding5px': 1, 'stockpartheight102pxmarginleft15px': 1, 'stockpart': 11, 'linkstockdisplayblockheight40pxmarginbottom8px': 1, 'linkstockhovercolor222textdecorationnone': 1, 'titstockdisplayblockmarginbottom1pxfontweightboldfontsize13pxlineheight15px': 1, 'numstockfontweightnormalfontsize14pxfontfamilytahomaarialsansserifletterspacing003em': 1, 'numstatuspaddingleft3pxfontsize12pxletterspacing0': 1, 'numstatus': 4, 'icoarrowdisplayinlineblockwidth9pxheight10pxmargin8px': 1, '0fontsize0lineheight0textindent9999pxverticalaligntop': 1, 'stockup': 2, 'numstatuscolore30000': 1, 'stockdown': 2, 'numstatuscolor118eff': 1, 'icoarrowbackgroundposition120px': 1, 'icoarrowbackgroundposition130px': 1, 'stockstay': 1, 'icoarrowbackgroundposition140px': 1, 'relpartoverflowhiddenwidth136pxheight28pxmarginleft14pxborder1px': 1, 'relpart': 3, 'itemreldisplayblockwidth139pxheight28px': 1, 'linkrelfloatleftwidth45pxheight28pxborderright1px': 1, 'ecececfontsize12pxlineheight26pxcolor888textaligncenter': 1, 'linkrellineheight29px': 1, 'sectionmultipositionrelativebordertop1px': 1, 'sectionmulti': 1, 'wraptabcontheight157px': 1, 'titkakaotv': 2, 'linktitwidth82pxbackgroundposition380px': 1, 'kakaotvon': 2, 'linktitbackgroundposition380px': 1, 'wrapkakaotv': 2, 'melonon': 1, 'wrapmelondisplayblock': 1, 'tabmultipositionabsolutetop14pxleft90pxheight36px': 1, 'tabmulti': 5, 'lidisplayinlinefloatleftmarginleft13px': 1, 'linktitdisplayblockoverflowhiddenheight36pxfontweightboldlineheight33pxcolor888textdecorationnone': 1, 'linktitcolor222textdecorationunderline': 1, 'linktitlineheight38px': 1, 'boximgspefloatleftmarginright13px': 1, 'boximgspe': 1, 'icolabelboximgspe': 1, 'icolabel3fontsize12px': 1, 'icovideobackgroundposition0': 1, 'sectionblogpositionrelativebordertop1px': 1, 'sectionblog': 2, 'wraptabcontoverflowhiddenheight179px': 1, 'titcafeleft5px': 1, 'titmiznetleft34px': 1, 'titkakaostoryleft87px': 1, 'tittistoryleft178px': 1, 'titbrunchleft243px': 1, 'titstoryfundingleft296px': 1, 'titcafe': 2, '220px': 7, 'titmiznet': 2, 'linktitwidth50pxbackgroundposition36px': 1, 'titkakaostory': 2, 'linktitwidth88pxbackgroundposition86px': 1, 'tittistory': 2, 'linktitwidth62pxbackgroundposition174px': 1, 'titbrunch': 2, 'linktitwidth50pxbackgroundposition236px': 1, 'titstoryfunding': 2, 'linktitwidth74pxbackgroundposition336px': 1, 'cafeon': 2, '256px': 6, 'mizneton': 2, 'kakaostoryon': 2, 'linktitbackgroundposition86px': 1, 'tistoryon': 2, 'linktitbackgroundposition174px': 1, 'brunchon': 2, 'linktitbackgroundposition236px': 1, 'storyfundingon': 2, 'linktitbackgroundposition336px': 1, 'wrapmiznet': 1, 'wrapcafe': 1, 'wrapkakaostory': 1, 'wraptistory': 1, 'wrapbrunch': 1, 'wrapstoryfundingdisplayblock': 1, 'boxstoryfloatrightwidth297pxheight152pxpadding0': 1, 'liststoryoverflowhiddenfloatleft': 1, 'liststory': 17, 'lifloatleftheight160pxmarginleft13px': 1, 'linkitemdisplayblockpositionrelativewidth154pxcursorpointer': 1, 'linkitemhovercolor222textdecorationnone': 2, 'contitemheight56pxpadding4px': 1, 'originitemdisplayblockoverflowhiddenpositionrelativemargintop4pxfontsize12pxlineheight18pxcolor888whitespacenowraptextoverflowellipsis': 1, 'originitem': 4, 'txttellerdisplayblockoverflowhiddenwhitespacenowraptextoverflowellipsis': 1, 'icostorytelleroverflowhiddenpositionabsoluteright0top4pxwidth13pxheight15pxfontsize1pxlineheight0backgroundposition170px': 1, '100pxtextindent9999px': 1, 'linkitemhover': 6, 'tititemcolor118efftextdecorationunderline': 2, 'originitemcolor888textdecorationnone': 1, 'itemtellerdisplayinlineblockmaxwidth115pxpaddingright18px': 1, 'contitemheight54pxpaddingtop6px': 1, 'icostorytellertop0': 1, 'typedesc': 8, 'linkitemwidth152pxheight152pxborder1px': 1, 'contitemheight117pxpadding7px': 1, 'tititemheightautomaxheight36px': 1, 'descitemdisplayblockoverflowhiddenmaxheight48pxpaddingtop8pxfontsize11pxlineheight16pxcolor888wordbreakkeepallwordwrapbreakword': 1, 'originitempositionabsoluteleft13pxbottom9pxright13px': 1, 'itemtellerrightautomaxwidth106px': 1, 'contitemheight96pxpaddingtop10px': 1, 'originitembottom6px': 2, 'typeimg': 10, 'thumbgzindex1height154px': 1, 'framegwidth152pxheight152px': 2, 'contitempositionabsolutetop0left0bottom0width154pxheight154pxbackgroundurlt1daumcdnnetdaumtopdecoimagestop2017bgplate6png': 1, 'tititempositionabsoluteleft13pxright13pxbottom37pxheightautomaxheight36pxpaddingright10pxcolorfff': 1, 'originitempositionabsoluteleft13pxright13pxbottom14pxcolorc9c9c9': 1, 'originitemcolorc9c9c9textdecorationnone': 1, 'tititemcolorffftextdecorationunderline': 1, 'contitemheightautopadding0': 1, 'tititembottom30px': 2, 'graphitemoverflowhiddenpositionabsolutetop74pxleft0width154px': 1, 'graphitem': 7, 'infographpositionabsoluteright10pxtop0zindex10colorfff': 1, 'infograph': 1, 'numgraphfontweightbold': 1, 'bargraphdisplayblockheight20pxbackgroundurlt1daumcdnnetdaumtopdecoimagestop2017bggraphpng': 1, 'repeat': 1, 'barsupportpositionabsoluteleft0top0height20px': 1, 'barsupport': 4, 'bgleftpositionabsoluteleft0top0right16pxheight20pxbackgroundurlt1daumcdnnetdaumtopdecoimagestop2017bargraphpng': 1, 'repeatx': 2, 'bgrightpositionabsoluteright14pxtop0width30pxheight20pxbackgroundurlt1daumcdnnetdaumtopdecoimagestop2017bargraphrightpng': 1, 'fullgraph': 3, 'barsupportwidth100backgroundurlt1daumcdnnetdaumtopdecoimagestop2017bargraphfull2png': 1, 'bgleft': 1, 'bgrightwidth0backgroundnone': 1, 'infographtop2px': 1, 'sectionchannelpositionrelativebordertop1px': 1, 'sectionchannel': 6, 'panelblocpaddingtop60px': 1, 'wraptabcontoverflowhiddenheight507px': 1, 'tithomecookingleft5px': 1, 'titmoneyleft59px': 1, 'titpetleft96px': 1, 'titwomenleft133px': 1, 'titmenleft182px': 1, 'tittravelleft212px': 1, 'titbusinessleft274px': 1, 'titmusicleft325px': 1, 'titwebtoonleft362px': 1, 'titgameleft398px': 1, 'tittogetherpanelbloc': 1, 'tittogether2left434px': 1, 'tithomecooking': 2, 'linktitwidth59pxbackgroundposition0': 1, 'titmoney': 2, 'linktitwidth37pxbackgroundposition59px': 1, 'titpet': 2, 'linktitwidth37pxbackgroundposition96px': 1, 'titwomen': 2, 'linktitwidth49pxbackgroundposition133px': 1, 'titmen': 2, 'linktitwidth30pxbackgroundposition182px': 1, 'tittravel': 2, 'linktitwidth62pxbackgroundposition212px': 1, 'titbusiness': 2, 'linktitwidth51pxbackgroundposition274px': 1, 'titmusic': 2, 'linktitwidth37pxbackgroundposition325px': 1, 'titwebtoon': 2, 'linktitwidth36pxbackgroundposition362px': 1, 'titgame': 2, 'linktitwidth36pxbackgroundposition398px': 1, 'tittogether': 2, 'linktitwidth63pxbackgroundposition434px': 1, 'tittogether2': 2, 'linktitwidth72pxbackgroundposition497px': 1, 'homecookingon': 2, '346px': 12, 'moneyon': 1, 'linktitbackgroundposition59px': 1, 'peton': 1, 'linktitbackgroundposition96px': 1, 'womenon': 1, 'linktitbackgroundposition133px': 1, 'menon': 2, 'linktitbackgroundposition182px': 1, 'travelon': 2, 'linktitbackgroundposition212px': 1, 'businesson': 2, 'linktitbackgroundposition274px': 1, 'musicon': 2, 'linktitbackgroundposition325px': 1, 'webtoonon': 2, 'linktitbackgroundposition362px': 1, 'gameon': 2, 'linktitbackgroundposition398px': 1, 'togetheron': 3, 'linktitbackgroundposition434px': 1, 'linktitbackgroundposition497px': 1, 'wraphomecookingmoneyon': 1, 'wrapmoneypeton': 1, 'wrappetwomenon': 1, 'wrapwomen': 1, 'wrapmen': 1, 'wraptravel': 1, 'wrapbusiness': 1, 'wrapmusic': 1, 'wrapwebtoon': 1, 'wrapgame': 1, 'wraptogetherdisplayblock': 1, 'boxchannelfloatleftpositionrelativewidth154pxheight159pxmargin0': 1, 'boxchannelfstmarginleft0': 1, 'boxchannel': 17, 'linkitemdisplayblockpositionrelativewidth154px': 1, 'thumbgoverflowhiddenwidth154pxheight94px': 1, 'tititemdisplayblockoverflowhiddenmaxheight36pxpaddingright12pxfontweightnormallineheight18pxwordwrapbreakword': 1, 'channelitemdisplayblockheight18pxpadding4px': 1, '0fontsize12pxlineheight18px': 1, 'channelitem': 2, 'linkchanneldisplayinlineblockoverflowhiddenmaxwidth124pxheight20pxlineheight18pxcolor888verticalaligntopwhitespacenowraptextoverflowellipsis': 1, 'originitemdisplayblockoverflowhiddenmargintop3pxfontsize12pxlineheight21pxcolor888whitespacenowraptextoverflowellipsis': 1, 'thumbchanneldisplayinlineblockpositionrelativemargin1px': 1, 'thumbchannel': 2, 'imgthumbborderradius18px': 1, 'bgframepositionabsolutetop0left0width18pxheight18pxbackgroundposition410px': 1, 'thumbchannelmargintop0': 1, 'linkchannellineheight20px': 2, 'typechdescbackgroundcolorfbfbfc': 1, 'typechdesc': 6, 'linkitemwidth152pxheight157pxborder1px': 1, 'contitempadding13px': 1, 'descitemdisplayblockoverflowhiddenmaxheight48pxpaddingtop8pxfontsize11pxlineheight16pxcolor888': 1, 'channelitempadding0': 1, '13pxborder1px': 1, 'ecececbordertopwidth0': 1, 'originitemmargintop17px': 1, 'contitempaddingtop16px': 1, 'boximgspemarginright0': 1, 'linksectorheight159px': 1, 'framegwidth319pxheight157px': 2, 'contitemheight159pxbackgroundimageurlt1daumcdnnetdaumtopdecoimagestop2017bgplate5png': 1, 'boxchwidefloatleftpositionrelativewidth321pxheight159pxmargin0': 1, 'boxchwide': 10, 'linkitemdisplayblockoverflowhiddenpositionrelativewidth321pxheight159px': 1, 'linkitem': 8, 'thumbgzindex1width321pxheight159px': 1, 'contitempositionabsolutetop0left0width321pxheight159pxcolorfffbackgroundurlt1daumcdnnetdaumtopdecoimagestop2017bgplate5png': 1, 'tititemoverflowhiddenpositionabsoluteleft17pxbottom13pxmaxwidth284pxheight20pxfontweightnormalfontsize14pxlineheight20pxwhitespacenowraptextoverflowellipsis': 1, 'tititemhovercolorfff': 1, 'originitemoverflowhiddenpositionabsoluteleft17pxbottom33pxmaxwidth284pxheight20pxfontsize12pxlineheight18pxcolorfffwhitespacenowraptextoverflowellipsis': 1, 'originitembottom30px': 1, 'boxchextraoverflowhiddenfloatleftpositionrelativewidth154pxheight159pxmargin0': 1, 'boxchextra': 17, 'titchextrapositionabsolutetop14pxleft15pxright50pxzindex1fontsize11pxcolor118eff': 1, 'linkitemdisplayblockwidth154pxheight159px': 1, 'thumbgzindex1width154pxheight159px': 1, 'framegwidth152pxheight157px': 1, 'contitempositionabsolutetop0left0width154pxheight159pxbackgroundurlt1daumcdnnetdaumtopdecoimagestop2017bgplate6png': 1, 'emphextrapositionabsolutetop14pxleft15pxright15pxfontsize11pxcolor118eff': 1, 'tititempositionabsoluteleft14pxright14pxbottom34pxfontweightnormallineheight18pxcolorfff': 1, 'tititemtextdecorationunderline': 1, 'originitemdisplayinlineblockoverflowhiddenpositionabsoluteleft13pxrightautobottom8pxmaxwidth124pxfontsize12pxlineheight24pxcolorc9c9c9whitespacenowraptextoverflowellipsis': 1, 'titchextratop17px': 1, 'emphextratop17px': 1, 'originitembottom5px': 1, 'titbanneroverflowhiddenpositionabsoluteleft14pxright14pxbottom15pxfontweightnormalfontsize11pxcolorffftextdecorationunderlinetextaligncenterwhitespacenowraptextoverflowellipsis': 1, 'pagepctoptop15pxright15pxbottomauto': 1, 'btnpagewidth16pxheight16pxlineheight16pxbackgroundposition60px': 1, 'btnnextwidth15pxbackgroundposition76px': 1, 'listchbest': 9, 'lipositionrelativewidth154pxheight159px': 1, 'thumbgzindex0': 1, 'linkchbestpositionabsolutetop0left0width154pxheight120px': 1, 'titchbestoverflowhiddenpositionabsoluteleft14pxright14pxbottom0maxheight36pxfontweightnormalfontsize13pxlineheight18pxcolorfffwordbreakkeepallwordwrapbreakword': 1, 'titchbesthovertextdecorationunderline': 1, 'linkchanneloverflowhiddenpositionabsoluteleft0bottom0maxwidth124pxheight25pxpadding2px': 1, '10pxfontsize11pxlineheight23pxcolorc9c9c9whitespacenowraptextoverflowellipsis': 1, 'thumbchannelfloatleftpositionrelativemargin5px': 1, 'linkchannelpadding4px': 1, 'thumbchannelmargintop3px': 1, 'boxinfobnrfloatleftmargin0': 1, 'boxinfobnr': 15, 'linkitemdisplayblockoverflowhiddenpositionrelative': 1, 'linkitemhovercolor222': 1, 'thumbgzindex1width154pxheight154pxbackgroundcolorfff': 1, 'contitemoverflowhiddenpositionabsolutetop8pxleft13pxright7px': 1, 'tititemdisplayinlineblockoverflowhiddenmaxwidth120pxpaddingright8pxfontweightboldbackgroundposition100': 1, '7pxwhitespacenowraptextoverflowellipsisverticalaligntop': 1, 'txtinfodisplayblockoverflowhiddenmargintop2pxwhitespacenowraptextoverflowellipsis': 1, 'originitemdisplayblockoverflowhiddenmargintop2pxfontsize12pxlineheight16pxcolor888whitespacenowraptextoverflowellipsis': 1, 'contitemtop11px': 1, 'tititembackgroundposition100': 1, 'wraptogether': 6, 'thumbgheight159px': 2, 'framegheight157px': 2, 'grouprecommoverflowhiddenwidth670pxclearboth': 1, 'grouprecomm': 7, 'boxstoryfloatleftwidth295pxheight157pxmarginright13pxpadding0': 1, 'boxbestwidth629pxmargin0': 1, 'boxbest': 10, 'listrankingmargintop7px': 1, 'lifloatleftwidth295pxpadding0': 1, 'linkranking': 2, 'txtrankingwidth270px': 1, 'numpctopmargintop2px': 2, 'bestimgwidth148pxheight108pxmargin2px': 1, '0padding0': 1, 'bestimg': 7, 'linkrankingpositionrelativewidth148pxheight108px': 1, 'thumbgwidth148pxheight108px': 1, 'framegwidth146pxheight106px': 1, 'contitempositionabsolutetop0left0width148pxheight108pxbackgroundurlt1daumcdnnetdaumtopdecoimagestop2017bgplate9png': 1, 'numpctoppositionabsolutetop0left0margin0': 1, 'txtrankingpositionabsoluteright12pxbottom10pxleft11pxwidthautocolorfffwhitespacenormal': 1, 'numpctop': 1, 'bestimgmargintop0': 1, 'txtrankingbottom8pxleft12px': 1, 'boxrecomm': 6, 'listrecommoverflowhiddenwidth321pxmargintop11px': 1, 'listrecomm': 4, 'lifloatleftwidth140pxheight30pxmargin0': 1, 'linkrecommdisplayinlineblockoverflowhiddenmaxwidth100lineheight30pxwhitespacenowraptextoverflowellipsis': 1, 'thumbrecommfloatleftwidth30pxheight30pxmarginright6pxverticalaligntop': 1, 'thumbrecomm': 1, 'imgthumbborderradius30px': 1, 'listrecommmargintop9px': 1, 'boxbestwidth295pxmargin0': 1, 'boxgamemarginright0': 1, 'boxinfobnrheight159pxmarginbottom0': 1, 'txtinfomargin0': 1, 'boxwtrankpositionrelative': 1, 'boxwtrank': 1, 'titsubjectpositionabsolutetop0left11pxzindex1': 1, 'listwtrankmargintop13px': 1, 'listwtrank': 16, 'fstoverflowhiddenpositionrelativeheight62pxmarginbottom9pxpaddingtop20pxborderbottom1px': 1, 'imgthumbpositionabsolutetop0right0widthautoheight83pxpointereventsnone': 1, 'linkrankingdisplayinlineblockoverflowhiddenlineheight18pxverticalaligntop': 1, 'contitemoverflowhiddenwidth140px': 1, 'txtrankingdisplayblockoverflowhiddenmaxwidth200pxwhitespacenowraptextoverflowellipsis': 1, 'txtrankingcolor118efftextdecorationunderline': 1, 'txtrankingmaxheight36pxwhitespacenormalwordbreakkeepallwordwrapbreakword': 1, 'limarginbottom4px': 1, 'fstheight59pxmarginbottom9pxpaddingtop23px': 1, 'boxmusicpaddingleft12pxheight157px': 1, 'boxmusic': 6, 'headitemoverflowhiddenpadding7px': 1, '11pxlineheight18px': 1, 'headitem': 4, 'titsubjectfloatleftmargin0': 1, 'txtstandardfloatleftfontsize11pxcolor888': 1, 'txtnumfontfamilytahomaarialsansserifletterspacing0': 1, 'listmusicoverflowhiddenwidth646px': 1, 'listmusic': 16, 'lifloatleftpositionrelativewidth70pxmarginright36pxpaddingleft22px': 1, 'linkitemdisplayblockwidth70px': 1, 'thumbgwidth70pxheight70px': 1, 'framegwidth68pxheight68px': 1, 'contitemdisplayblockpaddingtop4px': 1, 'tititemdisplayblockoverflowhiddenmargin0fontweightnormallineheight16pxwhitespacenowraptextoverflowellipsis': 1, 'tititemhovercolor118efftextdecorationunderline': 1, 'originitemdisplayblockoverflowhiddenfontsize12pxlineheight16pxcolor888whitespacenowraptextoverflowellipsis': 1, 'linksingercolor888': 1, 'numpctoppositionabsolutetop0left0width16pxheight16pxtextindent9999pxverticalaligntop': 1, 'headitempadding10px': 1, 'txtnumfontfamilyhelveticaarialsansserif': 1, 'wraptopicwidth990pxmargin0': 1, 'autopadding29px': 1, '45px': 1, 'wraptopic': 4, 'titphotodisplayinlineblockoverflowhiddenheight36pxfontsize16pxlineheight33pxverticalaligntop': 1, 'linkphotoclipdisplayinlineblockpaddingright11pxbackgroundposition100': 1, '242pxwhitespacenowrapverticalaligntop': 1, 'linkphotothemedisplayinlineblockmarginright6pxcolor118effverticalaligntop': 1, 'viewphotooverflowhiddenpositionrelativewidth990pxheight400pxmargintop20px': 1, 'viewphoto': 26, 'listphotooverflowhiddenpositionabsolutetop0': 1, 'listphoto': 2, 'boxphotodisplayblockoverflowhiddenwidth682pxheight400pxbackgroundcolor333textdecorationnonetextaligncenter': 1, 'boxphoto': 1, 'imgthumbdisplayinline': 1, 'detailphotodisplaynonepositionabsolutetop0left50width682pxmarginleft341pxpaddingtop330px': 1, 'detailphoto': 2, 'framegwidth680pxheight398px': 1, 'linkphotodisplayblockoverflowhiddenpositionrelativeheight70pxbackgroundurlt1daumcdnnetdaumtopdecoimagestop2017bgplateslidepng': 1, 'linkphotohovertextdecorationnone': 1, 'linkphoto': 4, 'icophotopositionabsolutetop18pxright20pxwidth17pxheight15pxbackgroundposition160px': 1, '60pxtextindent9999px': 1, 'titgalleryoverflowhiddenmargin14px': 1, '57px': 1, '20pxfontweightnormalfontsize14pxcolorf4f4f4textdecorationnonewhitespacenowraptextoverflowellipsis': 1, 'descsourcedisplayblockpadding1px': 1, '20pxfontsize11pxcolorfffopacity06filteralphaopacity60': 1, 'txtdatemarginleft10pxfontfamilyHelveticatahomasansserif': 1, 'btnpreviewoverflowhiddenpositionabsolutetop0width152pxheight400pxbackgroundurlt1daumcdnnetdaumtopdecoimagestop2017bgplateslide2png': 1, 'norepeattextdecorationnonecursorpointer': 1, 'btnpreview': 4, 'framegwidth150pxheight398px': 1, 'icopctoppositionabsolutetop170pxwidth60pxheight60pxtextindent9999px': 1, 'btnprevleft0borderright2px': 1, 'fff': 2, 'btnprev': 2, 'icopctopleft0backgroundposition190px': 1, 'btnnextright0borderleft2px': 1, 'btnnext': 3, 'icopctopright0backgroundposition190px': 1, 'btngallerybackgroundcolor333': 1, 'txtgallerydisplaynonepadding184px': 1, '71pxlineheight16pxcolorfff': 1, 'btngallery': 1, 'txtgallerydisplayblock': 1, 'txtgallerypaddingright71pxpaddingleft0textalignright': 1, 'viewslideoverflowhiddenpositionrelativeheight60pxmargintop20px': 1, 'viewslide': 66, 'listthumbnailoverflowhidden': 1, 'listthumbnail': 4, 'lifloatleftpaddingleft2px': 1, 'lifstpaddingleft0': 1, 'linkthumbdisplayblockpositionrelativewidth60pxheight60px': 1, 'framegwidth58pxheight58pxcursorpointer': 1, 'framegwidth56pxheight56pxborder2px': 1, '118effopacity1filteralphaopacity100': 1, 'covergpositionabsolutetop0bottom0left0right0backgroundfffopacity06filteralphaopacity60': 1, 'btnmovepositionabsolutetop0width20pxheight60px': 1, 'btnprevleft0': 1, 'btnnextright0': 1, 'btnmove': 1, 'icopctopdisplayblockwidth20pxheight20pxmargintop20pxtextindent9999pxcursorpointer': 1, 'icopctopbackgroundposition190px': 1, 'icopctopbackgroundposition220px': 1, 'titphotolineheight39px': 1, 'titgallerymargintop16px': 1, 'descsourcepaddingtop2px': 1, 'txtgallerypaddingtop186px': 1, 'vphototype2': 9, 'boxphotowidth990px': 1, 'detailphotowidth990pxmarginleft495px': 1, 'framegwidth988px': 1, 'linkphotobackgroundrepeat': 1, 'btnpreviewtop140pxheight120pxborder0': 1, 'nonebackgroundnone': 1, 'framegdisplaynone': 1, 'icopctoptop30px': 1, 'txtgallerypaddingtop43px': 1, 'listthumbnail2': 3, 'linkthumbwidth246px': 1, 'framegwidth244px': 1, 'framegwidth242px': 1, 'listthumbnail3': 9, 'linkthumboverflowhiddenwidth196px': 1, 'framegwidth194px': 1, 'framegwidth192px': 1, 'fst': 10, 'lst': 10, 'linkthumbwidth197px': 1, 'frameg': 10, 'framegwidth195px': 1, 'fston': 5, 'lston': 5, 'framegwidth193px': 1, 'listthumbnail4': 9, 'linkthumboverflowhiddenwidth163px': 1, 'framegwidth161px': 1, 'framegwidth159px': 1, 'linkthumbwidth164px': 1, 'framegwidth162px': 1, 'framegwidth160px': 1, 'listthumbnail5': 9, 'linkthumboverflowhiddenwidth140px': 1, 'framegwidth138px': 1, 'framegwidth136px': 1, 'linkthumbwidth139px': 1, 'framegwidth137px': 1, 'framegwidth135px': 1, 'listthumbnail6': 3, 'linkthumboverflowhiddenwidth122px': 1, 'framegwidth120px': 1, 'framegwidth118px': 1, 'listthumbnail7': 9, 'linkthumboverflowhiddenwidth108px': 1, 'framegwidth106px': 1, 'framegwidth104px': 1, 'linkthumbwidth109px': 1, 'framegwidth107px': 1, 'framegwidth105px': 1, 'listthumbnail8': 9, 'linkthumboverflowhiddenwidth97px': 1, 'framegwidth95px': 1, 'framegwidth93px': 1, 'linkthumbwidth98px': 1, 'framegwidth96px': 1, 'framegwidth94px': 1, 'txtgallerypaddingtop46px': 1, 'topicspepositionabsolutetop0left50width990pxmarginleft495px': 1, 'topicspe': 3, 'linkspeoverflowhiddenpositionabsolutetop0width464pxheight610pxfontsize1pxlineheight0textalignlefttextindent9999px': 1, 'linkspeleftleft465px': 1, 'linksperightright465px': 1, 'topictype2backgroundposition50': 1, 'topictype2': 14, 'headlinephotooverflowhidden': 1, 'headlinephoto': 1, 'titphotofloatleft': 1, 'txtsub1overflowhiddenpadding18px': 1, '2pxfontsize24pxlineheight28pxletterspacing1pxwhitespacenowraptextoverflowellipsisclearboth': 1, 'linkgate1floatrightoverflowhiddenheight36pxfontsize16pxlineheight33pxcolorfff': 1, 'linkgate1': 1, 'icoarrowdisplayinlineblockwidth8pxheight12pxmargin0': 1, '8pxbackgroundposition100px': 1, 'txtsub2padding11px': 1, '1pxfontsize22pxlineheight28pxletterspacing1pxclearboth': 1, 'txtsub2': 1, 'infosubtxtdisplayblockoverflowhiddenwhitespacenowraptextoverflowellipsis': 1, 'linkgate2displayinlineblockoverflowhiddenwidthautoheight16pxmargin14px': 1, '10pxpadding10px': 1, '16pxbackgroundcolor222fontsize14pxlineheight16pxcolorfffverticalaligntop': 1, 'linkgate2': 2, 'icoarrowdisplayinlineblockwidth6pxheight10pxmargin4px': 1, '19pxbackgroundposition110px': 1, '265pxverticalaligntop': 1, 'txtsub1paddingtop22px': 1, 'linkgate1lineheight39px': 1, 'txtsub2paddingtop16pxpaddingbottom0': 1, 'linkgate2margintop10pxpaddingtop12pxpaddingbottom10px': 1, 'icoarrowmargintop2px': 1, 'topicbgwingpositionabsolutetop0right0left0zindex1minwidth990pxminheight610pxheight100': 1, 'topicbgwing': 3, 'bgwingpositionabsoluteminwidth960pxwidth50height100backgroundposition0': 1, '0backgroundrepeatnorepeat': 1, 'frwingtop0left50backgroundposition100': 1, 'flwingbottom0left0backgroundposition0': 1, 'noticelayeroverflowhiddenwidth100borderbottom1px': 1, 'ecf2f7backgroundcolorf4faff': 1, 'innernoticelayeroverflowhiddenpositionrelativewidth990pxheight110pxmargin0': 1, 'autobackgroundimageurlt1daumcdnnetdaumtopdecoimagestop2017noticestartpngbackgroundrepeatnorepeat': 1, 'innernoticelayer1backgroundposition100': 1, 'innernoticelayer': 6, 'setstartfloatleftpaddingtop29px': 1, 'txtnewsdisplayblockfontweightnormalfontsize20px': 1, 'linkstartoverflowhiddenfloatleftmargintop3pxpaddingright9pxfontsize12pxcolor888backgroundposition100': 1, '197pxtextdecorationunderline': 1, 'btncloseoverflowhiddenpositionabsolutetop36pxright0width20pxheight20pxbackgroundposition170px': 1, '180pxtextindent9999px': 1, 'setstartpaddingtop33px': 1, 'linkstartmargintop0': 1, 'mobileweblayeroverflowhiddenwidth100paddingbottom29pxbordertop1px': 1, 'ecececbackgroundcolorf2f2f2textaligncenter': 1, 'mobileweblayer': 7, 'txtmobilemargintop18pxmarginleft13pxfontsize12pxcolor888': 1, 'txtmobile': 2, 'icoinfodisplayinlineblockwidth13pxheight13pxmargin3px': 1, '0backgroundposition170px': 1, '120pxverticalaligntop': 1, 'linkmobiledisplayblockwidth100pxheight30pxmargin12px': 1, 'dadbddfontweightboldfontsize13pxlineheight28pxcolor222backgroundcolorfff': 1, 'linkmobilehovertextdecorationnone': 1, 'txtmobilemargintop22pxmarginleft9px': 1, 'icoinfomargin1px': 1, 'linkmobilemargintop9pxlineheight31px': 1, 'media': 2, 'only': 8, 'screen': 8, 'and': 8, 'webkitmindevicepixelratio': 2, '15': 4, 'mindevicepixelratio': 2, 'minresolution': 4, '144dpi': 2, '15dppx': 2, 'icosuggestbackgroundimageurlsearch1daumcdnnetsearchstaticscommonpir2weathericoweathermpngbackgroundsize43px': 1, '1680px': 1, 'icopctopbackgroundimageurlt1daumcdnnetdaumtopdecoimagestop2017rtnicopctop180423pngbackgroundsize250px': 1, 'icovertbackgroundimageurlt1daumcdnnetdaumtopdecoimagestop2017rtnicopctopvert170724pngbackgroundsize100px': 1, '500px': 1, 'txtpctopbackgroundimageurlt1daumcdnnetdaumtopdecoimagestop2017rtntxtpctop170915pngbackgroundsize600px': 1, 'bgpctop': 1, 'loginmybackgroundimageurlt1daumcdnnetdaumtopdecoimagestop2017rtnbgpctop170328pngbackgroundsize610px': 1, '490px': 1, 'numpctopbackgroundimageurlt1daumcdnnetdaumtopdecoimagestop2017rtnnumpctop170405pngbackgroundsize80px': 1, 'innernoticelayerbackgroundimageurlt1daumcdnnetdaumtopdecoimagestop2017rtnnoticestartpngbackgroundsize300px': 1, 'imgweatherbackgroundimageurlt1daumcdnnetdaumtopdecoimagestop2017rtnimgweather170628pngbackgroundsize300px': 1, '460px': 1, 'icowsbackgroundimageurlt1daumcdnnetdaumtopdecoimagestop2017rtnicows1801023pngbackgroundsize270px': 1, 'icowmbackgroundimageurlt1daumcdnnetdaumtopdecoimagestop2017rtnicowm1801023pngbackgroundsize900px': 1, 'imgkeyboardbackgroundimageurlt1daumcdnnetdaumtopdecoimagestop2017rtnimgkeyboard171229pngbackgroundsize30px': 1, 'btnkeyboardbackgroundimageurlt1daumcdnnetdaumtopdecoimagestop2017rtnimgkor171226pngbackgroundsize431px': 1, 'btnkeyboardactivebackgroundimageurlt1daumcdnnetdaumtopdecoimagestop2017rtnimgkorhover171226pngbackgroundsize431px': 1, 'btnkeyboardbackgroundimageurlt1daumcdnnetdaumtopdecoimagestop2017rtnimgkorshift171229pngbackgroundsize431px': 1, 'btnkeyboardactivebackgroundimageurlt1daumcdnnetdaumtopdecoimagestop2017rtnimgkorshifthover171229pngbackgroundsize431px': 1, 'btnkeyboardbackgroundimageurlt1daumcdnnetdaumtopdecoimagestop2017rtnimgeng171226pngbackgroundsize431px': 1, 'btnkeyboardactivebackgroundimageurlt1daumcdnnetdaumtopdecoimagestop2017rtnimgenghover180122pngbackgroundsize431px': 1, 'btnkeyboardbackgroundimageurlt1daumcdnnetdaumtopdecoimagestop2017rtnimgengshift171226pngbackgroundsize431px': 1, 'btnkeyboardactivebackgroundimageurlt1daumcdnnetdaumtopdecoimagestop2017rtnimgengshifthover171226pngbackgroundsize431px': 1, 'rolltxt': 3, 'webkittransition': 5, 'transform': 27, '0s': 5, 'linear': 5, 'moztransition': 5, 'mstransition': 5, 'otransition': 5, 'transition': 5, 'webkittransform': 7, 'translateY0': 5, 'moztransform': 7, 'mstransform': 7, 'otransform': 7, 'licurrent': 3, 'translateY20px': 5, '3s': 15, 'easeout': 10, 'translateY0px': 10, 'initial': 5, 'important': 5, 'positionabsolute': 1, 'backgroundcolorfff': 1, 'translateY28px': 10, 'opacity1': 1, 'linext': 1, 'opacity0': 1, 'cEtc': 3, 'listthumbnailwidth1858px': 1, 'listthumbnailclasslistthumbnailwidth990px': 1, 'ease': 5, 'translateX0': 5, 'kakaotvasian2018backgroundurlt1daumcdnnetdaumtopdecoimagestop2017special1bgasian2018kakaotvpng': 1, 'kakaotvasian2018': 1, 'linktitcolor5a32ff': 1, 'asian2018slot': 29, 'icoasiandisplayinlineblockoverflowhiddenbackgroundurlt1daumcdnnetdaumtopdecoimagestop2017special1icoasian180808png': 1, 'asian2018slotpositionrelativezindex10width655pxminheight60pxmargintop15px': 1, 'innerslotoverflowhiddenpositionabsolutetop0left0zindex20width655pxheight60pxbackgroundurlt1daumcdnnetdaumtopdecoimagestop2017special1bgasian2018180807png': 1, 'titasiangamepositionabsolutetop0left0width150pxheight60px': 1, 'linkasiangamedisplayblockoverflowhiddenheight100': 1, 'wrapddaypositionabsolutetop24pxright4pxheight13pxfontweightnormallineheight11pxfontfamilyHelveticaNeueMedium': 1, 'sansserif': 2, 'wrapdday': 4, 'txtddayfontsize16pxcolor837EF3': 1, 'icominusdisplayinlineblockmargin0': 1, '1pxverticalaligntop': 1, 'numddaydisplayinlineblockwidth10pxtextaligncenter': 1, 'moreinfopositionabsolutetop23pxright11px': 1, 'moreinfo': 3, 'linkgfloatleftpadding0': 1, '3pxfontsize13pxlineheight15pxletterspacing1pxcolor3B35CE': 1, 'linkg': 2, 'icoarrwidth10pxheight10pxmargin3px': 1, '4pxbackgroundposition56px': 1, 'listnoticefloatleftwidth381pxmargin19px': 1, '163px': 1, 'liwidth100': 1, 'linknoticedisplayblockoverflowhiddenfontsize14pxtextoverflowellipsiswhitespacenowrapletterspacing1px': 1, 'icohotfloatleftwidth36pxheight18pxmargin3px': 1, 'icovodfloatleftwidth36pxheight18pxmargin3px': 1, '0backgroundposition40px': 1, 'icosmsfloatleftwidth52pxheight16pxmargin3px': 1, '0backgroundposition0': 1, 'txtgamespaddingright6pxcolor7A63FF': 1, 'asian2018open': 1, 'txtopenpositionabsolutetop20pxright9pxfontweightboldfontsize14pxcolor837EF3': 1, 'asian2018opentype2': 1, 'listnoticemarginleft149px': 1, 'asian2018medal': 15, 'medalinfooverflowhiddenpositionabsolutetop30pxleft0width150pxheight30px': 1, 'medalinfo': 7, 'linkmedaldisplayblockheight100': 1, 'listmedalfloatleftpaddingleft21px': 1, 'listmedal': 1, 'nummedaldisplayblockwidth20pxheight20pxmarginright3pxfontweightboldfontsize11pxlineheight19pxfontfamilyHelveticaNeue': 1, 'sansserifcolor534400textaligncenter': 1, 'txtrankingfloatleftmargin3px': 1, '2pxfontsize12pxlineheight12px': 1, 'numrankingfontweightboldfontfamilyHelveticaNeue': 1, 'innerslotbackgroundurlt1daumcdnnetdaumtopdecoimagestop2017special1bgasian2018medal180807png': 1, 'titasiangameheight30px': 1, 'listnoticewidth384pxmarginleft150px': 1, 'txtgamespaddingright4px': 1, 'icominusmargin0': 1, 'nummedallineheight20px': 1, 'listnoticewidth372pxmargintop20px': 1, 'linknoticeletterspacing0': 1, 'moreinfotop24px': 1, 'linkgletterspacing0': 1, 'icoarrmargintop1px': 1, 'icohot': 1, 'icovodmargin2px': 1, 'icosmsmargin2px': 1, 'medalinfolineheight21px': 1, 'txtrankingmargintop5px': 1, 'icoasianbackgroundimageurlt1daumcdnnetdaumtopdecoimagestop2017rtnspecial1icoasian180808pngbackgroundsize75px': 1, '36px': 1, 'innerslotbackgroundimageurlt1daumcdnnetdaumtopdecoimagestop2017rtnspecial1bgasian2018180807pngbackgroundsize655px': 1, 'innerslotbackgroundimageurlt1daumcdnnetdaumtopdecoimagestop2017rtnspecial1bgasian2018medal180807pngbackgroundsize655px': 1, 'kakaotvasian2018backgroundimageurlt1daumcdnnetdaumtopdecoimagestop2017rtnspecial1bgasian2018kakaotvpngbackgroundsize655px': 1, '218px': 1, '주요': 2, '서비스': 6, '바로가기': 9, '오늘의': 6, '정보': 8, '미디어': 3, '실시간': 4, '이슈': 4, '멀티미디어': 2, '블로그': 5, '유익한': 2, '쇼핑': 3, '포토amp영상': 1, '웹': 1, '접근성': 1, '안내': 2, '자동실행': 1, '광고': 1, '설정': 1, '검색': 8, '통합': 2, '한글입력기': 1, '인기': 1, '검색어': 3, '어린이집': 1, '원장': 1, '투신': 1, '김지수': 1, '댓글논란': 1, '전효성': 1, '계약위반': 1, '최명길': 1, '집공개': 1, '기안84': 6, '수입': 1, '이재명': 2, '새옹지마': 1, '김한길': 1, '폐암': 1, '경기': 1, '흉기살해': 1, '이국주': 1, '사칭주의': 1, '콘서트7080': 1, '폐지': 1, '김사랑': 1, '제주': 1, '백구': 1, '학대': 1, '사유리': 1, '이상민': 1, '강한나': 6, '망언논란': 1, '조현병': 1, '어머니': 1, '폭행': 1, 'lt이전': 1, 'gt다음': 1, '다음을': 1, '시작페이지로': 1, '카페': 3, '메일': 2, '뉴스': 4, '지도': 2, '증권': 1, '카카오TV': 3, '웹툰': 3, '브런치': 3, '사전': 1, '게임': 3, '별플레이': 1, '같이가치': 3, '주요서비스': 1, '더보기': 2, '⋁': 1, '전체': 1, '커뮤니케이션': 1, '티스토리': 2, '아지트': 1, '카카오스토리': 2, '스포츠': 4, '연예': 2, '아고라': 1, '쇼핑생활': 1, '쇼핑하우': 1, '항공권신규업데이트': 1, '금융': 1, '부동산': 2, '자동차': 2, '미즈넷': 2, '문화엔터': 1, '영화': 2, '나눔펀딩': 1, '스토리펀딩': 2, '사전지식': 1, '어학사전': 1, '번역': 1, '단어장': 1, '백과사전': 1, '팁': 1, '배틀그라운드': 1, '검은사막': 1, '길찾기': 1, '로드뷰': 1, '버스정보': 1, '지하철노선도': 1, '카카오': 2, '소식': 1, 'AI': 1, '다음': 8, '전체보기': 2, '메뉴닫기': 1, '10': 1, '29': 1, '월': 1, '날씨': 21, '서울시': 1, '흐림': 18, '영상': 19, '4도': 2, '4C': 2, '경기도': 1, '5도': 2, '5C': 2, '인천시': 2, '대구시': 1, '10도': 2, '10C': 2, '대전시': 1, '8도': 4, '8C': 4, '광주시': 1, '맑음': 1, '9도': 4, '9C': 4, '부산시': 1, '12도': 2, '12C': 2, '울산시': 1, '경상북도': 2, '강원도': 2, '충청북도': 1, '전라북도': 1, '전라남도': 2, '13도': 1, '13C': 1, '제주자치도': 1, '16도': 1, '16C': 1, '경상남도': 1, '11도': 1, '11C': 1, '날찌정보': 1, '8897': 1, '펼치기': 1, '현재': 7, '지역': 1, '어제보다': 1, 'C': 1, '상세보기': 1, '미세먼지': 1, '통합대기': 1, 'X': 1, '날씨정보': 1, '닫기': 1, '선택됨': 1, '1탭': 1, '카슈끄지': 1, '지정학': 1, '추악한': 1, '삼국지': 1, '만': 1, '13세': 1, '나이로': 1, '무대를': 1, '장악한': 1, '보아': 1, '일반뉴스': 1, '강경화폼페이오': 1, '통화이란': 1, '제재': 1, '복원middot북미협상': 1, '논의': 1, '비행': 1, '800시간': 1, '불과': 1, '새': 1, '항공기': 1, '추락': 1, '번지는': 1, '의문': 1, '이총리': 1, '경총': 1, '지도부와': 1, '막걸리': 1, '회동quot대내외': 1, '여건': 1, '어려워quot': 1, 'quot가정폭력': 1, '당한': 1, '나를': 1, '더': 3, '비참하게': 1, '만든': 1, '건': 1, '경찰middot검찰middot법원quot': 1, '이번': 1, '주': 1, '기온': 1, '떨어진다충남middot호남엔': 1, '39눈발39': 1, '윤석열': 1, '국감중': 1, '임종헌': 1, '고발요청': 1, '논란박상기': 1, 'quot잘못됐다quot': 1, '메르켈': 1, 'quot이번이': 1, '마지막': 2, '총리': 1, '임기조기총선': 1, '열려도': 1, '불출마quot': 1, '끊이지': 1, '않는': 1, '유치원': 1, '비리해마다': 1, '조사했는데': 1, '왜': 1, 'quot3년': 1, '뒤': 1, '서울': 1, '모든': 1, '초중고': 1, '무상급식quot일부': 1, '자치구': 1, '예산부담에': 1, '39난색39': 1, '드루킹': 1, '측근': 1, 'quot김경수에': 1, '댓글조작': 1, '시연quot김경수': 1, 'quot신빙성': 1, '부족quot': 1, '입장하는': 1, '최명길박중훈': 1, '우묵배미의': 1, '사랑': 1, 'GV': 1, '대놓고': 1, '손으로': 1, '얼굴을': 1, '밀어버리는': 1, '타지키스탄': 1, '선수': 1, '공식발표': 1, '이강인': 1, '에브로전': 1, '명단': 1, '포함발': 1, '뉴스홈': 1, '연재': 2, '랭킹': 3, 'TV': 2, '포토': 4, '코스피': 1, '2000선': 1, '붕괴': 1, '탭1전체': 2, '탭8': 1, 'lt': 4, '이전': 6, '탭': 8, 'gt': 4, '1위': 5, '2위': 5, '장원영': 5, '3위': 5, '아이즈원': 5, '4위': 5, '진해성': 5, '5위': 5, '안녕하세요': 5, '6위': 5, '7위': 5, '이다희': 5, '8위': 5, '이윤철': 5, '9위': 5, '동상이몽': 5, '2': 7, '10위': 5, '이덕선': 5, '증시': 2, '영국': 1, '707477': 1, '9652': 2, '전일대비': 2, '상승13521': 1, '독일': 1, '1143295': 1, '상승23233': 1, '관련': 1, '링크모음': 1, '환율': 1, '운세': 1, 'uarr': 18, '상승142': 2, '상승118': 2, '상승109': 2, '상승67': 2, '상승62': 2, '상승55': 2, '상승184': 2, '신규진입': 2, '상승44': 2, '상승53': 2, '20181029': 1, '2323기준': 1, 'X닫기': 1, 'TV하이라이트': 2, '건강을': 2, '위한': 2, '부분': 2, '운동': 3, '명장면': 3, '오늘은': 3, '이거': 2, '만들어': 2, '먹어야지': 2, 'SBS': 1, '스페셜': 1, '동영상': 16, '대중교통': 1, '이용하니': 1, '너무': 1, '편해요': 1, '달샤벳': 1, '출신': 1, '수빈': 1, '나도': 2, '엄마야': 1, '106회': 1, '예고': 1, '그러고도': 1, '사람이야': 1, '박준혁': 1, '꿀픽Cool': 1, 'Pick': 1, '′동상이몽2′': 1, '한고은': 1, '남편': 1, '신영수가': 1, '복': 1, '받은': 1, '이유': 2, '섹션TV': 1, '연예통신': 1, '일본': 1, '진출을': 1, '목표로': 1, '데뷔를': 1, '한': 5, '보아☆': 1, '복부': 1, '운동인': 1, '플랭크': 1, '제대로': 1, '하는': 1, '법': 2, '집에서': 2, '쉽게': 1, '따라': 1, '할': 2, '수': 2, '있는': 1, '힙업': 1, '팔뚝': 1, '운동할': 1, '때': 1, '꼭': 1, '주의해야': 1, '점': 1, '2분': 1, '안에': 1, '유산소와': 1, '근력': 1, '번에': 1, '끝내는': 1, '동작': 1, '눈에': 1, '보는': 1, '2018': 1, '월드시리즈': 1, '39아찔한': 1, '순간39': 1, '골을': 1, '막아낸': 1, '황태현': 1, '로버츠': 1, 'quot내년에': 1, 'WS': 1, '무대에': 1, '돌아오길quot': 1, '호날두': 1, '없는': 3, '레알': 1, '참혹했던': 1, '엘클라시코': 1, '뿌링클': 1, '치킨': 1, '만드는': 1, '방법': 1, 'SNS에서': 1, '화제가': 1, '된': 1, '라면': 1, '레시피': 1, '간단한': 1, '야식으로': 1, '딱인': 1, '순대': 1, '볶음': 1, '만들기': 1, '먹다': 1, '남은': 1, '족발': 1, '맛있게': 1, '먹는': 1, '탭4': 1, '선배': 1, '맘이': 1, '들려주는': 1, '리얼한': 1, '아이': 1, '재우기': 1, '비법': 1, '베스트베이비': 1, '들어가고': 1, '싶은데': 1, '문': 1, '열어주면': 1, '안': 1, '될까': 1, '반려동물': 1, '톡': 1, '베스트': 3, '드디어': 1, '분가했습니다': 1, '그': 1, '후': 2, '시댁에선': 1, '남친의': 1, '3가지': 1, '단점': 1, '보다': 1, '충격적인': 1, '사실': 1, '설움': 1, '폭발': 1, '이혼하고': 1, '싶은': 1, '밤이네요': 1, '각방': 1, '쓰자': 1, '제안했는데': 1, '서운하다는': 1, '아내': 1, '시댁에': 1, '늦게': 1, '왔다고': 1, '노발대발한': 1, '시부': 1, '대화': 1, '결혼': 1, '끝내기로': 1, '했습니다': 1, '탭2전체': 1, '탭6': 1, '홈amp쿠킹': 1, '머니': 1, '동물': 1, '스타일': 1, 'Men': 1, '여행맛집': 1, '직장IN': 1, '뮤직': 1, '월요웹툰': 1, '월요일즐거운': 1, '주의': 1, '시작을': 1, '함께': 1, '해요': 1, '귀욤귀욤': 1, '무뚝뚝한': 1, '오빠가': 1, '우물쭈물하는': 1, '이유가': 2, '궁금해': 1, '굿바이': 1, '사돈': 1, '공감': 1, '면접': 1, '끝나고': 1, '돌아오는': 1, '길': 1, '웃을': 1, '수가': 1, '취준생물': 1, '액션': 1, '대장에게는': 1, '막내를': 1, '버릴': 1, '있다': 1, '노동본색': 1, '애잔': 1, '귀여운': 1, '고양이를': 1, '괴롭히는': 1, '사람': 1, '누구냐': 1, '이놈': 1, '고양이': 1, '마마님': 1, '기다무': 1, '유럽': 1, '여행에서': 1, '만난': 1, '그는': 1, '운명일까': 1, '우연일까': 1, '유럽에서': 1, '100일': 1, '신규웹툰': 1, '위대한': 1, '로맨스': 1, '정영채': 1, '이예은': 1, '1': 2, '껍데기': 1, '김탐미': 1, '취향저격': 1, '그녀': 1, '로즈옹': 1, '3': 2, '우리': 1, '남매의': 1, '일상은': 1, '손달섭': 1, '완결': 1, '발자국이': 1, '녹기': 1, '전에': 1, '서결': 1, '동궁왕후': 1, '방은선김정선': 1, '김정선': 1, '이태원': 1, '클라쓰': 1, '광진': 1, '탭9전체': 1, '탭11': 1, '보기': 4, '추천갤러리바로가기': 2, '이미지': 2, '목록': 2, '공지사항': 1, '책': 1, '종료': 1, '소개': 1, '및': 1, '약관': 1, '회사소개': 1, '광고안내': 1, '검색등록': 1, '제휴문의': 1, '인재채용': 1, '서비스약관': 1, '청소년보호정책': 1, '개인정보처리방침': 1, '웹접근성안내': 1, '고객센터': 1, 'Copyright': 1, 'Kakao': 1, 'Corp': 1, 'All': 1, 'rights': 1, 'reserved': 1}\n"
     ]
    }
   ],
   "source": [
    "google('http://www.daum.net')"
   ]
  },
  {
   "cell_type": "code",
   "execution_count": 144,
   "metadata": {
    "scrolled": true
   },
   "outputs": [
    {
     "name": "stdout",
     "output_type": "stream",
     "text": [
      "{'Breaking': 1, 'News': 2, 'World': 3, 'Multimedia': 1, 'The': 5, 'New': 7, 'York': 6, 'Times': 4, 'if': 17, 'windowNYTDAbradfphometoggle': 2, '1block': 6, 'var': 12, 'testCookie': 2, 'function': 3, 'name': 3, 'match': 6, 'documentcookiematchnew': 3, 'RegExpname': 3, 'return': 3, 'match1': 3, 'testCookienytgdpr': 2, '1': 3, 'gptScript': 1, 'documentcreateElementscript': 3, 'gptScriptasync': 1, 'async': 2, 'gptScriptsrcwwwgoogletagservicescomtagjsgptjs': 1, 'documentheadappendChildgptScript': 1, 'googletag': 3, 'googletagcmd': 2, 'googletagcmdpushfunction': 1, 'googletagpubadssetRequestNonPersonalizedAds1': 1, 'windowNYTDAbramedianettoggle': 2, 'readCookie': 1, 'functionname': 1, 'Allows': 2, 'medianet': 2, 'user': 1, 'is': 7, 'not': 4, 'from': 3, 'EEA': 1, 'readCookienytgdpr': 1, 'only': 2, 'prebid': 1, 'testing': 1, 'on': 8, 'readCookieab7': 2, 'viprebidheader1': 1, 'mediaScript': 1, 'cid': 1, '8CU2553YN': 2, 'domain': 1, 'wwwnytimescom': 1, 'windowinnerWidth': 2, 'mediaNetCID': 1, 'windowNYTDAbraamazontoggle': 1, 'functiona9apstAgifaa9return': 1, 'qcraa9Qpushcraa9': 1, 'initfunctionqiarguments': 1, 'fetchBidsfunctionqfarguments': 1, 'setDisplayBidsfunction': 1, 'targetingKeysfunctionreturnQ': 1, 'ApcreateElements': 1, 'Aasync0': 1, 'Asrct': 1, 'gpgetElementsByTagNames0': 1, 'gparentNodeinsertBeforeAg': 1, 'apstagwindowdocumentscriptcamazonadsystemcomaax2apstagjs': 1, 'apstaginit': 1, 'pubID': 1, '3030': 1, 'adServer': 1, 'params': 1, 'sisection': 1, 'none': 1, 'windowNYTDAbraindextoggle': 1, 'indexScript': 1, 'indexScriptasync': 1, 'indexScriptsrchttpsjssecindexwwcomhtp183760179626133031071js': 1, 'documentheadappendChildindexScript': 1, 'SectionsSEARCHSkip': 1, 'to': 22, 'contentSkip': 1, 'site': 2, 'indexEnglishEspañol中文': 1, 'ChineseSubscribeLog': 1, 'InLog': 1, 'InTodays': 1, 'PaperWorldUSPoliticsNYBusinessOpinionTechScienceHealthSportsArtsBooksStyleFoodTravelMagazineT': 1, 'MagazineReal': 2, 'EstateVideoWorldUSPoliticsNYBusinessOpinionTechScienceHealthSportsArtsBooksStyleFoodTravelMagazineT': 1, 'EstateVideo‘There': 1, 'Is': 2, 'Still': 2, 'So': 1, 'Much': 2, 'Evil': 1, 'Growing': 1, 'AntiSemitism': 1, 'Stuns': 1, 'American': 3, 'JewsFor': 1, 'many': 2, 'Jews': 3, 'in': 22, 'America': 1, 'the': 44, 'massacre': 3, 'of': 25, '11': 2, 'people': 3, 'a': 25, 'Pittsburgh': 3, 'synagogue': 4, 'by': 3, 'man': 2, 'who': 5, 'told': 1, 'police': 2, 'that': 7, 'he': 4, 'wanted': 1, 'all': 1, 'die': 1, 'was': 6, 'wakeup': 1, 'callBut': 1, 'it': 1, 'did': 1, 'come': 1, 'out': 1, 'nowhere': 1, 'experts': 1, 'say': 1, 'At': 1, 'same': 1, 'time': 1, 'were': 3, 'feeling': 1, 'unprecedented': 1, 'acceptance': 1, 'US': 1, 'climate': 1, 'growing': 1, 'increasingly': 1, 'hostileCongregants': 1, 'Survived': 1, 'Hiding': 1, 'PitchDark': 1, 'RoomThe': 1, 'at': 4, 'Tree': 2, 'Life': 2, 'unfolded': 1, 'over': 2, 'about': 2, 'an': 5, 'hour': 1, 'It': 3, 'ended': 1, 'when': 1, 'gunman': 1, 'Robert': 1, 'Bowers': 3, 'surrendered': 1, 'officersBy': 1, 'TimesThe': 1, 'Guardians': 1, 'Faith': 1, 'Who': 2, 'Were': 1, 'Gunned': 1, 'DownMany': 1, 'died': 1, 'shooting': 1, 'advanced': 1, 'years': 5, 'but': 2, 'they': 1, 'steady': 1, 'backbone': 1, 'their': 6, 'congregationsSynagogue': 1, 'Massacre': 1, 'Suspect': 2, 'Was': 1, '‘Pretty': 1, 'GhostMr': 1, 'had': 2, 'used': 1, 'antiSemitic': 1, 'slurs': 1, 'social': 2, 'media': 2, 'before': 2, 'his': 11, 'deadly': 1, 'rampage': 1, 'much': 1, 'rest': 1, 'life': 1, 'beginning': 1, 'become': 2, 'clearDutiful': 1, 'Words': 1, 'Grief': 1, 'Then': 1, 'Trumps': 3, 'Off': 1, 'Next': 1, 'FightPresident': 1, 'discordant': 1, 'approach': 1, 'national': 3, 'crises': 1, 'has': 6, 'thrust': 1, 'leadership': 3, 'into': 2, 'center': 1, 'debate': 1, 'midterm': 1, 'elections': 1, 'our': 2, 'correspondents': 1, 'writeGab': 1, 'where': 2, 'Mr': 3, 'posted': 1, 'haven': 1, 'for': 12, 'extremists': 1, 'wont': 2, 'change': 2, 'its': 3, 'policies': 1, 'founder': 1, 'saysListen': 1, '‘The': 1, 'DailyThe': 1, 'PittsburghIn': 1, '‘RaceRelated': 1, 'NewsletterHow': 1, '‘gardening': 1, 'while': 1, 'black': 1, 'almost': 1, 'landed': 1, 'this': 3, 'Detroit': 1, 'jailThe': 1, 'Daily': 1, 'Mini': 1, 'CrosswordSolve': 1, 'bitesized': 1, 'puzzle': 1, 'just': 1, 'few': 1, 'minutesBrazil': 1, 'ElectionThe': 1, 'FarRight': 1, 'Populist': 1, 'Will': 1, 'Lead': 1, 'Brazil': 2, 'Turned': 1, 'Crisis': 1, 'Into': 2, 'OpportunityWith': 1, 'victory': 3, 'Jair': 1, 'Bolsonaro': 1, 'upended': 1, 'political': 3, 'parties': 1, 'and': 16, 'norms': 1, 'have': 1, 'governed': 1, 'since': 2, 'end': 1, 'military': 2, 'rule': 1, 'more': 3, 'than': 2, '30': 1, 'agoA': 1, 'troubled': 1, 'stint': 1, 'army': 1, 'polemic': 1, 'threedecade': 1, 'career': 1, 'as': 4, 'lawmaker': 1, 'preceded': 1, 'Bolsonaros': 2, 'unlikely': 1, 'riseMr': 1, 'Brazils': 1, 'most': 2, 'radical': 1, 'democracy': 1, 'restoredHis': 1, 'offensive': 1, 'speech': 1, 'thrilled': 1, 'followers': 1, 'appalled': 1, 'critics': 1, 'Here': 1, 'own': 3, 'words189': 1, 'Feared': 1, 'Dead': 1, 'Indonesia': 2, 'Plane': 1, 'Crash': 1, 'Adding': 1, 'Countrys': 1, 'Troubling': 1, 'RecordThe': 1, 'Boeing': 1, '737': 1, 'carrying': 1, '189': 1, 'domestic': 1, 'flight': 2, 'Jakarta': 1, 'desperate': 1, 'search': 1, 'survivors': 1, 'underwayAn': 1, 'official': 1, 'said': 2, 'crew': 1, 'requested': 1, 'received': 1, 'permission': 1, 'turn': 1, 'around': 1, 'then': 1, 'quickly': 1, 'lost': 1, 'contactA': 1, 'team': 1, 'collecting': 1, 'debris': 1, 'Monday': 2, 'Lion': 1, 'Air': 1, 'off': 1, 'West': 1, 'Java': 1, 'Achmad': 1, 'IbrahimAssociated': 1, 'PressElection': 1, '2018Beto': 1, 'ORourke': 2, 'Once': 1, 'Supported': 1, 'El': 1, 'Paso': 1, 'Real': 1, 'Estate': 1, 'Deal': 1, 'Barrio': 1, 'Residents': 1, 'RememberAs': 1, 'young': 1, 'city': 1, 'councilman': 1, 'now': 1, 'running': 1, 'Senate': 1, 'Texas': 1, 'angered': 1, 'residents': 1, 'viewed': 1, 'him': 2, 'siding': 1, 'with': 5, 'moneyed': 1, 'elite': 1, 'supporting': 1, 'redevelopment': 1, 'planMr': 1, 'ORourkes': 1, 'involvement': 1, 'deal': 1, 'highlights': 1, 'side': 1, 'record': 1, 'surface': 1, 'seems': 1, 'contradict': 1, 'populist': 1, 'image': 1, 'cultivatedA': 1, 'FirstTime': 1, 'Campaign': 1, 'Manager': 1, 'Trump': 1, 'Tries': 1, 'Defy': 1, 'DoubtersBrad': 1, 'Parscale': 1, 'believes': 1, 'uniquely': 1, 'equipped': 1, 'manage': 1, 'potentially': 1, 'fractious': 1, 'relationships': 1, 'inside': 1, 'President': 1, 'campaignTrumps': 1, 'Travel': 1, 'Choices': 1, 'Kamala': 1, 'Harris': 1, 'Florida': 1, 'Biden': 1, 'Ohio': 1, '8': 1, 'Days': 1, 'GoThe': 1, 'presidents': 1, 'rhetoric': 1, 'busy': 1, 'lineup': 1, 'campaign': 1, 'rallies': 1, 'week': 1, 'will': 1, 'draw': 1, 'intense': 1, 'scrutinyAngela': 1, 'Merkel': 2, 'Wont': 1, 'Seek': 1, 'Reelection': 1, 'GermanyEuropes': 1, 'powerful': 1, 'leader': 1, 'began': 1, 'prepare': 1, 'her': 3, 'longexpected': 1, 'departure': 1, 'chancellor': 1, 'after': 4, 'leading': 1, 'country': 2, '13': 3, 'yearsShe': 1, 'also': 2, 'giving': 1, 'up': 2, 'party': 2, '18': 2, 'says': 1, 'she': 2, 'run': 1, 'any': 1, 'other': 1, 'officeChancellor': 1, 'Angela': 1, 'led': 1, 'Christian': 1, 'Democratic': 1, 'Union': 1, 'announced': 1, 'would': 2, 'seek': 1, 'reelection': 1, 'give': 1, 'Tobias': 1, 'SchwarzAgence': 1, 'FrancePresse': 2, 'Getty': 2, 'ImagesWorld': 1, 'SeriesRed': 1, 'Sox': 3, 'Unhittable': 1, 'Unstoppable': 1, 'Win': 1, 'Series': 3, 'Beating': 1, 'DodgersDavid': 1, 'Price': 1, 'throttled': 1, 'Los': 1, 'Angeles': 1, 'batters': 1, 'seven': 1, 'innings': 1, 'Boston': 2, 'smacked': 1, 'four': 1, 'home': 2, 'runs': 1, 'including': 1, 'two': 1, 'Steve': 1, 'PearceThe': 1, 'gave': 1, 'Red': 3, 'fourth': 1, 'title': 2, '15': 1, 'yearsAppreciating': 1, 'history': 1, 'capped': 1, 'recordbreaking': 1, 'season': 1, 'columnist': 1, 'writesChristian': 1, 'Vazquez': 1, 'jumped': 1, 'Chris': 1, 'Sales': 1, 'arms': 1, 'secured': 1, 'Sunday': 1, 'night': 1, 'Jae': 1, 'C': 1, 'HongAssociated': 1, 'PressAmerican': 1, 'ISIS': 1, 'Freed': 1, 'After': 1, 'Being': 1, 'Held': 1, 'More': 1, 'Than': 1, 'YearThe': 1, 'imprisoned': 1, 'without': 1, 'trial': 1, 'months': 1, 'officials': 1, 'MondayThe': 1, 'learned': 1, 'real': 1, 'Abdulrahman': 1, 'Ahmad': 1, 'Alsheikh': 1, 'He': 1, 'referred': 1, 'John': 1, 'Doe': 1, 'public': 1, 'court': 1, 'filingsThe': 1, 'case': 1, 'Islamic': 1, 'State': 2, 'fighter': 1, 'dual': 1, 'Saudi': 2, 'citizenship': 1, 'raised': 1, 'questions': 1, 'governments': 1, 'security': 1, 'powers': 1, 'George': 1, 'OurfalianAgence': 1, 'ImagesOpinionThe': 1, 'Editorial': 1, 'BoardThe': 1, 'Hate': 2, 'Poisoning': 1, 'AmericaAfter': 1, 'Americans': 1, 'need': 1, 'ask': 1, 'leaders': 1, 'each': 1, 'otherDavid': 1, 'Leonhardt': 1, 'Ian': 1, 'Prasad': 1, 'PhilbrickTrumps': 1, 'Corruption': 1, 'Definitive': 1, 'ListThe': 1, 'ways': 1, 'president': 1, 'family': 1, 'aides': 1, 'are': 2, 'lining': 1, 'pocketsJonathan': 1, 'A': 1, 'GreenblattWhen': 1, 'Goes': 2, 'MainstreamMarcelo': 1, 'PaivaWhat': 1, 'Brazilian': 1, 'Dictatorship': 1, 'Did': 1, 'My': 1, 'FamilyMohamad': 1, 'BazziHow': 1, 'Arabia': 1, 'Wins': 1, 'FriendsCharles': 1, 'M': 2, 'BlowTrumps': 1, 'Potent': 1, 'ToxicityDavid': 1, 'ShribmanAntiSemitism': 1, 'Comes': 1, 'City': 1, 'ToleranceMargaret': 1, 'RenklA': 1, 'Love': 1, 'Letter': 1, 'Autumn': 1, 'LightEitan': 1, 'D': 1, 'HershIn': 1, 'Deep': 1, 'Blue': 1, 'or': 1, 'You': 1, 'Can': 1, 'Influence': 1, 'Politics': 1, 'David': 1, 'BrophyAustralians': 1, 'Must': 1, 'Reject': 1, 'Nationalist': 1, 'Push': 1, 'Our': 1, 'UniversitiesLev': 1, 'GolinkinAmerica': 1, 'Judaism': 1, 'Its': 1, 'BestEditors': 1, 'PicksJohnny': 1, 'Milano': 1, 'TimesAfter': 1, 'Hurricane': 1, 'Came': 1, 'ConSix': 1, 'Sandy': 1, 'devastated': 1, 'Long': 1, 'Island': 1, 'homeowners': 1, 'still': 1, 'dealing': 1, 'wreckage': 1, 'sweettalking': 1, 'contractor': 1, 'took': 1, 'money': 1, 'left': 1, 'houses': 1, 'unfinishedNew': 1, 'YorkOnce': 1, 'Upon': 1, 'Time': 1, 'MontanaA': 1, 'traveler': 1, 'returns': 1, 'old': 1, 'town': 1, 'hes': 1, 'tasked': 1, 'watching': 1, 'justperished': 1, 'strangerT': 1, 'MagazineReview': 1, 'Jill': 1, 'Soloway': 1, 'Completely': 1, 'Transparent': 1, 'MemoirShe': 1, 'Wants': 1, 'details': 1, 'creation': 1, 'awardwinning': 1, 'television': 1, 'show': 1, 'amid': 1, 'writers': 1, 'process': 1, 'selfdiscoveryBook': 1, 'ReviewWed': 1, 'like': 1, 'your': 1, 'thoughts': 1, 'page': 1, 'experienceLet': 1, 'us': 1, 'know': 1, 'what': 1, 'you': 1, 'think': 1, 'Site': 1, 'Indexnewshome': 1, 'pageworldUSpoliticsNew': 2, 'Yorkbusinesstechscienceclimatesportsobituariesthe': 2, 'upshottodayx27s': 2, 'papercorrectionsopiniontodayx27s': 2, 'opinionoped': 2, 'columnistseditorialsoped': 2, 'Contributorsletterssunday': 2, 'reviewvideo': 2, 'opinionartstodayx27s': 2, 'artsart': 2, 'amp': 7, 'designbooksdancemoviesmusictelevisiontheaterwatchingvideo': 2, 'artslivingautomobilescrosswordfoodCookingeducationfashion': 2, 'stylehealthjobsmagazinereal': 2, 'estatet': 2, 'magazinetravelweddingslistings': 1, 'moreReader': 1, 'CenterWirecutterThe': 2, 'Learning': 2, 'Networktools': 2, 'servicesNYC': 2, 'events': 2, 'guidemultimediaphotographyvideoNYT': 2, 'storetimes': 2, 'journeysmanage': 2, 'my': 2, 'accountnewshome': 1, 'magazinetravelweddingsmoreReader': 1, 'accountSubscribehome': 1, 'deliverydigital': 1, 'subscriptionsCrosswordCookingemail': 1, 'newsletterscorporate': 1, 'subscriptionseducation': 1, 'ratemobile': 1, 'applicationsreplica': 1, 'editionSite': 1, 'Information': 1, 'Navigation': 1, '2018': 1, 'CompanyContact': 1, 'UsWork': 1, 'usAdvertiseYour': 1, 'Ad': 1, 'ChoicesPrivacyTerms': 1, 'ServiceTerms': 1, 'SaleSite': 1, 'MapHelpHelpSubscriptions': 1}\n"
     ]
    }
   ],
   "source": [
    "google('http://www.nytimes.com')"
   ]
  },
  {
   "cell_type": "markdown",
   "metadata": {},
   "source": [
    "마지막 문제가 너무너무나 어려웠다. 사이트마다 조금씩 차이가 있어서 그런지 미쳐 모든 변수를 처리하지 못해 아쉬움이 크다. 다음에 시간날 때 다 해봐야겠다."
   ]
  },
  {
   "cell_type": "markdown",
   "metadata": {},
   "source": [
    "<img src=\"https://github.com/ksy2575/script-programing/blob/master/Screenshot%202018-10-29%20at%2005.38.04.jpg?raw=true\">\n"
   ]
  }
 ],
 "metadata": {
  "kernelspec": {
   "display_name": "Python 3",
   "language": "python",
   "name": "python3"
  },
  "language_info": {
   "codemirror_mode": {
    "name": "ipython",
    "version": 3
   },
   "file_extension": ".py",
   "mimetype": "text/x-python",
   "name": "python",
   "nbconvert_exporter": "python",
   "pygments_lexer": "ipython3",
   "version": "3.6.5"
  }
 },
 "nbformat": 4,
 "nbformat_minor": 2
}
