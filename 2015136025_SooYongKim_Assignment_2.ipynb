{
 "cells": [
  {
   "cell_type": "code",
   "execution_count": 43,
   "metadata": {},
   "outputs": [
    {
     "name": "stdout",
     "output_type": "stream",
     "text": [
      "4\n",
      "1\n",
      "2\n",
      "2\n",
      "1\n",
      "3\n"
     ]
    }
   ],
   "source": [
    "print(1 and 2 and 3 and 4)#1\n",
    "print(1 or 2 or 3 or 4)#2\n",
    "print(1 and 2 or 3 and 4)#3\n",
    "print((1 and 2) or (3 and 4))#4\n",
    "print(1 or 2 and 3 or 4)#5\n",
    "print((1 or 2) and (3 or 4))#6"
   ]
  },
  {
   "cell_type": "markdown",
   "metadata": {},
   "source": [
    "1. and는 앞에서 뒤에까지 다 봐야 하므로 마지막 값이 출력\n",
    "2.  or은 앞이 true면 뒤를 볼 필요가 없으므로 앞의 값이 출력\n",
    "3. or 보다 and가 먼저 계산되므로 2가 출력\n",
    "4. 괄호 안이 먼저 계산됨\n",
    "5. 2 and 3 = 3이 먼저 계산되고 1 or 3 or 4가 계산되므로 1 출력\n",
    "6. 1 and 3 이 되어 3 출력"
   ]
  },
  {
   "cell_type": "code",
   "execution_count": 65,
   "metadata": {},
   "outputs": [
    {
     "name": "stdout",
     "output_type": "stream",
     "text": [
      "['/usr/local/bin', 'python']\n",
      "['/home/chulsoo', 'test.txt']\n"
     ]
    }
   ],
   "source": [
    "def div_path(s):\n",
    "    for i in range(1,100):\n",
    "        if s[-i]=='/':\n",
    "            print ([s[:-i],s[-i+1:]])\n",
    "            break\n",
    "\n",
    "div_path('/usr/local/bin/python')\n",
    "div_path('/home/chulsoo/test.txt')\n",
    "\n",
    "#['/usr/local/bin', 'python']"
   ]
  },
  {
   "cell_type": "markdown",
   "metadata": {},
   "source": [
    "div_path(s)를 정의하였다. 문자열의 뒤에서부터 시작하는 것이 좋을 듯해 1부터 시작하는 i를 -i로 검색하였다.\n",
    "그리고 그 자리를 기준으로 앞과 뒤를 나눠 폴더와 파일명을 출력하였다."
   ]
  },
  {
   "cell_type": "code",
   "execution_count": 142,
   "metadata": {},
   "outputs": [
    {
     "name": "stdout",
     "output_type": "stream",
     "text": [
      "[1, 2, 3, 4]\n",
      "[-10, -5, -1, 0, 9, 100]\n",
      "[0, 1, 2]\n"
     ]
    }
   ],
   "source": [
    "def list_union(lista, listb):\n",
    "    l=lista+listb\n",
    "    j=0\n",
    "    k=0\n",
    "    for i in range(len(l)-1):\n",
    "        k=i-j\n",
    "        if l[k] in l[k+1:]:\n",
    "            del(l[k])\n",
    "            j=j+1\n",
    "            \n",
    "    l.sort()\n",
    "        \n",
    "    print(l)\n",
    "    \n",
    "list_union([1,2,3],[1,2,4])\n",
    "list_union([-10, -5, 0, -1], [100, 9, 0, 9])\n",
    "list_union([0, 1, 2], [0, 1, 2])"
   ]
  },
  {
   "cell_type": "markdown",
   "metadata": {},
   "source": [
    "list_union을 구현하였다. 많은 고민을 한 끝에 멀리 돌아간 느낌이지만 구현되었다.\n",
    "del()을 하면 리스트의 크기도 같이 줄어든다는 점을 간과하고 실수를 하였지만\n",
    "del을 함과 동시에 +1되는 j값을 통해 유동적인 리스트의 크기를 for문을 돌리며 맞출 수 있도록 하였다. 마지막은 l.sort()로 정렬하였다."
   ]
  },
  {
   "cell_type": "code",
   "execution_count": 25,
   "metadata": {},
   "outputs": [
    {
     "name": "stdout",
     "output_type": "stream",
     "text": [
      "baekjoon\n",
      "1 0 -1 -1 2 -1 -1 -1 -1 4 3 -1 -1 7 5 -1 -1 -1 -1 -1 -1 -1 -1 -1 -1 -1 "
     ]
    }
   ],
   "source": [
    "S=input()\n",
    "for x in range(97, 123):\n",
    "    for a in range(len(S)):\n",
    "        if S[a]==chr(x):\n",
    "            print(a,end=\" \")\n",
    "            break\n",
    "    else:\n",
    "            print(-1,end=\" \")"
   ]
  },
  {
   "cell_type": "markdown",
   "metadata": {},
   "source": [
    "소문자 a~z의 아스키 코드는 97에서 122까지이다.\n",
    "이를 이중 for문을 이용해 받은 문자열의 처음부터 끝까지 a~z에 대해 검사한다.\n",
    "알파벳이 있으면 그 자리를 출력하고 break, 문자열안에 그 알파벳이 없다면 -1을 출력한다."
   ]
  },
  {
   "cell_type": "code",
   "execution_count": 14,
   "metadata": {},
   "outputs": [
    {
     "name": "stdout",
     "output_type": "stream",
     "text": [
      "2\n",
      "3 abc\n",
      "aaabbbccc\n",
      "5 /HTP\n",
      "/////HHHHHTTTTTPPPPP\n"
     ]
    }
   ],
   "source": [
    "T=int(input())\n",
    "for i in range(T):\n",
    "    P=''\n",
    "    S=input()\n",
    "    for j in range(len(S[2:])):\n",
    "        P=P+S[j+2]*int(S[0])\n",
    "    print(P)"
   ]
  },
  {
   "cell_type": "markdown",
   "metadata": {},
   "source": [
    "T를 int형으로 받아 for문으로 쓸 수 있게 했고, 초기화되어 있는 문자열 P에 \n",
    "S로 받은 반복횟수와 반복할 문자열을 찾아 더하게 했다."
   ]
  },
  {
   "cell_type": "code",
   "execution_count": 20,
   "metadata": {},
   "outputs": [
    {
     "name": "stdout",
     "output_type": "stream",
     "text": [
      "499\n"
     ]
    }
   ],
   "source": [
    "import requests\n",
    "\n",
    "req = requests.get('http://cse.koreatech.ac.kr')\n",
    "\n",
    "source = req.text\n",
    "a = source\n",
    "final = ''\n",
    "do = 0\n",
    "\n",
    "for i in range(len(source)):\n",
    "    if(source[i]=='<'):\n",
    "        do=1   \n",
    "    if(source[i]=='>'):\n",
    "        do=0\n",
    "        continue\n",
    "    if(do==0):\n",
    "        final = final + a[i]\n",
    "\n",
    "final=final.split()\n",
    "\n",
    "print(len(final))"
   ]
  },
  {
   "cell_type": "markdown",
   "metadata": {},
   "source": [
    "source 문자열 안에 있는 '<' 와 '>' 를 검색하였다. '<' 가 검색되면 do를 1로 놓아 새 문자열에 저장되지 않도록 하였고 '>' 가 검색되면 do 를 0으로 놓아 저장되도록 하였다. 처음에는 열리는 괄호와 닫히는 괄호의 개수에 따라 값이 +-되는 변수를 설정하려 했으나 그보다 더 깔끔하게 잘 나와서 이 형태가 되었다."
   ]
  },
  {
   "cell_type": "code",
   "execution_count": null,
   "metadata": {},
   "outputs": [],
   "source": [
    "#print(final)"
   ]
  },
  {
   "cell_type": "markdown",
   "metadata": {},
   "source": [
    "# 문제를 모두 풀어내며\n",
    "이번 Assignment2 를 풀며 5번째 문제에서 오래 걸렸던 것 같다.\n",
    "내 코딩 스타일이 단순하여 break를 자주 쓰는 편인데\n",
    "그게 baekjoon 사이트에서 틀렸습니다로 나왔기 때문이었다.\n",
    "물론 그 break문 때문에 내가 모르는 오류가 났을 수도 있지만 조금 서운했다.\n",
    "그래도 앞으로 break를 줄이는 노력을 해야겠다.\n",
    "\n",
    "그리고 마지막 문제는 생각보다 쉽게 답이 나와서 당황했다.\n",
    "앞으로 검색엔진을 만들어가며 더 어려운 문제들이 있을테지만 잘 풀어내어 보겠다."
   ]
  },
  {
   "cell_type": "markdown",
   "metadata": {},
   "source": [
    "<img src=\"https://github.com/ksy2575/script-programing/blob/master/Screenshot%202018-10-19%20at%2001.38.21.jpg?raw=true\">"
   ]
  },
  {
   "cell_type": "code",
   "execution_count": null,
   "metadata": {},
   "outputs": [],
   "source": []
  }
 ],
 "metadata": {
  "kernelspec": {
   "display_name": "Python 3",
   "language": "python",
   "name": "python3"
  },
  "language_info": {
   "codemirror_mode": {
    "name": "ipython",
    "version": 3
   },
   "file_extension": ".py",
   "mimetype": "text/x-python",
   "name": "python",
   "nbconvert_exporter": "python",
   "pygments_lexer": "ipython3",
   "version": "3.6.5"
  }
 },
 "nbformat": 4,
 "nbformat_minor": 2
}
