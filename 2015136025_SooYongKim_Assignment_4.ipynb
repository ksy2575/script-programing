{
 "cells": [
  {
   "cell_type": "code",
   "execution_count": 1,
   "metadata": {},
   "outputs": [],
   "source": [
    "import os"
   ]
  },
  {
   "cell_type": "code",
   "execution_count": 13,
   "metadata": {},
   "outputs": [],
   "source": [
    "s = \"\"\"pig ham\n",
    "cat dog\n",
    "ham bird\n",
    "dog pig\"\"\"\n",
    "f = open('s.txt', 'w')\n",
    "f.write(s)\n",
    "f.close()"
   ]
  },
  {
   "cell_type": "code",
   "execution_count": 4,
   "metadata": {},
   "outputs": [
    {
     "name": "stdout",
     "output_type": "stream",
     "text": [
      "pig ham\n",
      "cat dog\n",
      "ham bird\n",
      "dog pig\n",
      "\n",
      "cat dog\n",
      "dog pig\n",
      "ham bird\n",
      "pig ham\n"
     ]
    }
   ],
   "source": [
    "f = open('s.txt', 'r')\n",
    "s = f.read()\n",
    "print(s)\n",
    "l=s.split(\"\\n\")\n",
    "l.sort()\n",
    "a=\"\\n\".join(l)\n",
    "print()\n",
    "f = open('s1.txt', 'w')\n",
    "f.write(a)\n",
    "print(a)\n",
    "f.close()\n"
   ]
  },
  {
   "cell_type": "markdown",
   "metadata": {},
   "source": [
    "1-1. s.txt를 열어 그 내용을 split과 join을 통해 배열하고 s1.txt에 저장하였다."
   ]
  },
  {
   "cell_type": "code",
   "execution_count": 6,
   "metadata": {
    "scrolled": true
   },
   "outputs": [
    {
     "name": "stdout",
     "output_type": "stream",
     "text": [
      "pig ham\n",
      "cat dog\n",
      "ham bird\n",
      "dog pig\n",
      "\n",
      "ham bird\n",
      "cat dog\n",
      "pig ham\n",
      "dog pig\n"
     ]
    }
   ],
   "source": [
    "def g(x):\n",
    "    e = x.split()\n",
    "    e.reverse()\n",
    "    f=\" \".join(e)\n",
    "    return f\n",
    "\n",
    "f = open('s.txt', 'r') \n",
    "s = f.read()\n",
    "print(s)\n",
    "X=s.split(\"\\n\")\n",
    "Y = list(map(g, X))\n",
    "Y.sort()\n",
    "Z = list(map(g,Y))\n",
    "W = \"\\n\".join(Z)\n",
    "print()\n",
    "print(W)\n",
    "f = open('s2.txt', 'w')\n",
    "f.write(W)\n",
    "f.close()"
   ]
  },
  {
   "cell_type": "markdown",
   "metadata": {},
   "source": [
    "1-2. s.txt를 열어 그 내용을 map을 이용하여 split과 join을 통해 배열하고 s2.txt에 저장하였다."
   ]
  },
  {
   "cell_type": "code",
   "execution_count": 12,
   "metadata": {
    "scrolled": false
   },
   "outputs": [
    {
     "name": "stdout",
     "output_type": "stream",
     "text": [
      "pig ham\n",
      "cat dog\n",
      "ham bird\n",
      "dog pig\n",
      "\n",
      "pig ham cat\n",
      "dog ham bird\n",
      "dog pig\n"
     ]
    }
   ],
   "source": [
    "f = open('s.txt', 'r') \n",
    "s = f.read()\n",
    "print(s)\n",
    "print()\n",
    "X=s.split(\"\\n\")\n",
    "X = \" \".join(X)\n",
    "j=0\n",
    "k=0\n",
    "count=0\n",
    "L=[]\n",
    "for i in range(len(X)):\n",
    "    if(X[i]==\" \"):\n",
    "        count=count+1\n",
    "    if(count==3):\n",
    "        L.append(X[j:i])\n",
    "        count=0\n",
    "        j=i+1\n",
    "        k=k+1\n",
    "    if(i==len(X)-1):\n",
    "        L.append(X[j:i+1])\n",
    "Q = \"\\n\".join(L)\n",
    "print(Q)\n",
    "f = open('s3.txt', 'w')\n",
    "f.write(Q)\n",
    "f.close()"
   ]
  },
  {
   "cell_type": "markdown",
   "metadata": {},
   "source": [
    "1-3. s.txt를 열어 그 내용을 split과 join으로 순차적으로 나열하였고 공백을 세는 count를 이용하여 세 단어씩 저장하였다."
   ]
  },
  {
   "cell_type": "code",
   "execution_count": 26,
   "metadata": {},
   "outputs": [],
   "source": [
    "def hash_password(password):\n",
    "    return hashlib.sha1(password.encode()).hexdigest()"
   ]
  },
  {
   "cell_type": "code",
   "execution_count": 33,
   "metadata": {},
   "outputs": [
    {
     "name": "stdout",
     "output_type": "stream",
     "text": [
      "Welcome to Our Service\n",
      "\n",
      "    1.Sign Up\n",
      "    2.Sign In\n",
      "    3.Quit\n",
      "1\n",
      "3\n"
     ]
    }
   ],
   "source": [
    "print(\"\"\"Welcome to Our Service\n",
    "\n",
    "    1.Sign Up\n",
    "    2.Sign In\n",
    "    3.Quit\"\"\")\n",
    "a=input()\n",
    "iddd = input()\n",
    "if a==1:\n",
    "    iddd = input()\n",
    "    print(iddd)\n",
    "    if iddd in access.txt:\n",
    "        pass"
   ]
  },
  {
   "cell_type": "markdown",
   "metadata": {},
   "source": [
    "시간이 없어 더 못풀어 낸 것이 아쉽다. 고민하는 데 너무 오랜 시간을 투자하는 것 같다."
   ]
  },
  {
   "cell_type": "code",
   "execution_count": 32,
   "metadata": {},
   "outputs": [],
   "source": [
    "def frange(start,stop=-1,step=0.1):\n",
    "    G=[]\n",
    "    if stop==-1:\n",
    "        i=0.0\n",
    "        while i<start:\n",
    "            G.append(round(i,2))\n",
    "            i=i+0.1\n",
    "        return G\n",
    "    else:\n",
    "        i=start\n",
    "        while i<stop:\n",
    "            G.append(round(i,2))\n",
    "            i=i+step\n",
    "        return G"
   ]
  },
  {
   "cell_type": "markdown",
   "metadata": {},
   "source": [
    "인자를 받는 방식이 크게 세가지로 나뉘어 있어서 어려움을 겪었지만 머리를 조금 굴려 해결하였다. 사용자로부터 stop만 받을 경우에는 그 수를 start가 받기 때문에 stop의 초기값을 -1로 두어 경우의 수를 나누었다. G라는 리스트에 append를 사용하여 range형태를 완성."
   ]
  },
  {
   "cell_type": "code",
   "execution_count": 67,
   "metadata": {},
   "outputs": [
    {
     "data": {
      "text/plain": [
       "[0.0, 0.1, 0.2, 0.3, 0.4]"
      ]
     },
     "execution_count": 67,
     "metadata": {},
     "output_type": "execute_result"
    }
   ],
   "source": [
    "frange(0.5)"
   ]
  },
  {
   "cell_type": "code",
   "execution_count": 65,
   "metadata": {},
   "outputs": [
    {
     "data": {
      "text/plain": [
       "[1.0, 1.1, 1.2, 1.3, 1.4, 1.5, 1.6, 1.7, 1.8, 1.9]"
      ]
     },
     "execution_count": 65,
     "metadata": {},
     "output_type": "execute_result"
    }
   ],
   "source": [
    "frange(1.0, 2.0)"
   ]
  },
  {
   "cell_type": "code",
   "execution_count": 66,
   "metadata": {},
   "outputs": [
    {
     "data": {
      "text/plain": [
       "[2.2, 2.7, 3.2, 3.7]"
      ]
     },
     "execution_count": 66,
     "metadata": {},
     "output_type": "execute_result"
    }
   ],
   "source": [
    "frange(2.2, 4.0, 0.5)"
   ]
  },
  {
   "cell_type": "code",
   "execution_count": 80,
   "metadata": {},
   "outputs": [],
   "source": [
    "def sum(*ar):\n",
    "    S=0\n",
    "    for i in ar:\n",
    "            S=S+i\n",
    "    print(S)\n",
    "    return S"
   ]
  },
  {
   "cell_type": "markdown",
   "metadata": {},
   "source": [
    "가변인수의 기본 원리를 이용하여 구현하였다. ar에 튜플이 입력되면 그 인자들을 for문으로 더한다."
   ]
  },
  {
   "cell_type": "code",
   "execution_count": 81,
   "metadata": {},
   "outputs": [
    {
     "name": "stdout",
     "output_type": "stream",
     "text": [
      "0\n"
     ]
    },
    {
     "data": {
      "text/plain": [
       "0"
      ]
     },
     "execution_count": 81,
     "metadata": {},
     "output_type": "execute_result"
    }
   ],
   "source": [
    "sum()"
   ]
  },
  {
   "cell_type": "code",
   "execution_count": 82,
   "metadata": {},
   "outputs": [
    {
     "name": "stdout",
     "output_type": "stream",
     "text": [
      "3\n"
     ]
    },
    {
     "data": {
      "text/plain": [
       "3"
      ]
     },
     "execution_count": 82,
     "metadata": {},
     "output_type": "execute_result"
    }
   ],
   "source": [
    "sum(1, 2)"
   ]
  },
  {
   "cell_type": "code",
   "execution_count": 83,
   "metadata": {},
   "outputs": [
    {
     "name": "stdout",
     "output_type": "stream",
     "text": [
      "15\n"
     ]
    },
    {
     "data": {
      "text/plain": [
       "15"
      ]
     },
     "execution_count": 83,
     "metadata": {},
     "output_type": "execute_result"
    }
   ],
   "source": [
    "sum(1, 2, 3, 4, 5)"
   ]
  },
  {
   "cell_type": "code",
   "execution_count": 84,
   "metadata": {},
   "outputs": [
    {
     "name": "stdout",
     "output_type": "stream",
     "text": [
      "5\n"
     ]
    },
    {
     "data": {
      "text/plain": [
       "5"
      ]
     },
     "execution_count": 84,
     "metadata": {},
     "output_type": "execute_result"
    }
   ],
   "source": [
    "sum(1, 5, 7, 2, -10)"
   ]
  },
  {
   "cell_type": "code",
   "execution_count": 16,
   "metadata": {
    "scrolled": false
   },
   "outputs": [
    {
     "data": {
      "text/plain": [
       "'ASAP'"
      ]
     },
     "execution_count": 16,
     "metadata": {},
     "output_type": "execute_result"
    }
   ],
   "source": [
    "def upper(st):\n",
    "    a=st[0].upper()\n",
    "    return a\n",
    "def myinitial(S):\n",
    "    L=S.split(\" \")\n",
    "    m=list(map(upper,L))\n",
    "    ret=''.join(m)\n",
    "    return ret\n",
    "\n",
    "myinitial(\"as soon as possible\")"
   ]
  },
  {
   "cell_type": "markdown",
   "metadata": {},
   "source": [
    "다른 함수를 더 이용하였다. map을 원래 chr()와 ord()를 이용해보려 하였으나 실패하였다. 그래서 upper라는 이름의 함수를 만들어 그 안에서 코드가 어느정도 실행되도록 만들었다."
   ]
  },
  {
   "cell_type": "code",
   "execution_count": 188,
   "metadata": {},
   "outputs": [],
   "source": [
    "def myfact(n):\n",
    "    if n==0:\n",
    "        return 1\n",
    "    elif n==1:\n",
    "        return 1\n",
    "    return myfact(n-1)*n"
   ]
  },
  {
   "cell_type": "markdown",
   "metadata": {},
   "source": [
    "재귀함수의 기초적인 구현방법이다. 음이 아닌 정수라 하여 0일때의 처리도 해주었고, n이 1이 될 때까지 함수를 호출하며 n을 곱한다."
   ]
  },
  {
   "cell_type": "code",
   "execution_count": 199,
   "metadata": {},
   "outputs": [
    {
     "data": {
      "text/plain": [
       "3628800"
      ]
     },
     "execution_count": 199,
     "metadata": {},
     "output_type": "execute_result"
    }
   ],
   "source": [
    "myfact(10)"
   ]
  },
  {
   "cell_type": "code",
   "execution_count": 200,
   "metadata": {
    "collapsed": true
   },
   "outputs": [
    {
     "data": {
      "text/plain": [
       "402387260077093773543702433923003985719374864210714632543799910429938512398629020592044208486969404800479988610197196058631666872994808558901323829669944590997424504087073759918823627727188732519779505950995276120874975462497043601418278094646496291056393887437886487337119181045825783647849977012476632889835955735432513185323958463075557409114262417474349347553428646576611667797396668820291207379143853719588249808126867838374559731746136085379534524221586593201928090878297308431392844403281231558611036976801357304216168747609675871348312025478589320767169132448426236131412508780208000261683151027341827977704784635868170164365024153691398281264810213092761244896359928705114964975419909342221566832572080821333186116811553615836546984046708975602900950537616475847728421889679646244945160765353408198901385442487984959953319101723355556602139450399736280750137837615307127761926849034352625200015888535147331611702103968175921510907788019393178114194545257223865541461062892187960223838971476088506276862967146674697562911234082439208160153780889893964518263243671616762179168909779911903754031274622289988005195444414282012187361745992642956581746628302955570299024324153181617210465832036786906117260158783520751516284225540265170483304226143974286933061690897968482590125458327168226458066526769958652682272807075781391858178889652208164348344825993266043367660176999612831860788386150279465955131156552036093988180612138558600301435694527224206344631797460594682573103790084024432438465657245014402821885252470935190620929023136493273497565513958720559654228749774011413346962715422845862377387538230483865688976461927383814900140767310446640259899490222221765904339901886018566526485061799702356193897017860040811889729918311021171229845901641921068884387121855646124960798722908519296819372388642614839657382291123125024186649353143970137428531926649875337218940694281434118520158014123344828015051399694290153483077644569099073152433278288269864602789864321139083506217095002597389863554277196742822248757586765752344220207573630569498825087968928162753848863396909959826280956121450994871701244516461260379029309120889086942028510640182154399457156805941872748998094254742173582401063677404595741785160829230135358081840096996372524230560855903700624271243416909004153690105933983835777939410970027753472000000000000000000000000000000000000000000000000000000000000000000000000000000000000000000000000000000000000000000000000000000000000000000000000000000000000000000000000000000000000000000000000000000000000000000000000000000000000000000000000000000000"
      ]
     },
     "execution_count": 200,
     "metadata": {},
     "output_type": "execute_result"
    }
   ],
   "source": [
    "myfact(1000)"
   ]
  },
  {
   "cell_type": "markdown",
   "metadata": {},
   "source": [
    "#### (서술형) import string 과 from string import * 의 차이점을 설명하시오.\n",
    "\n"
   ]
  },
  {
   "cell_type": "markdown",
   "metadata": {},
   "source": [
    "선언하는 방식이 무엇이냐에 따라 사용하는 방법이 조금씩 달라지는데,\n",
    "그냥 import 하는 방식이 있고, from import하는 방식이 있다.\n",
    "import string 은 현재의 네임스페이스에 string 이라는 모듈을 아예 가져온다. 따라서 string.~로 사용한다.\n",
    "from import 방식은 네임스페이스에 string.~를 가져와서 ~의 이름으로 참조할 수 있는 것이다. 그 중에서도 from string import * 는 조심해야 하는데 그 이유는 string 모듈의 모든 함수를 다 가져오기 때문에 기존 함수들이 덮어써지기 때문이다."
   ]
  },
  {
   "cell_type": "code",
   "execution_count": 17,
   "metadata": {},
   "outputs": [],
   "source": [
    "def google(A):\n",
    "\n",
    "    import requests\n",
    "\n",
    "    req = requests.get(A)\n",
    "\n",
    "    source = req.text\n",
    "    a = source\n",
    "    final = ''\n",
    "    do = 0\n",
    "    script=0\n",
    "    style=0\n",
    "    div=0\n",
    "    for i in range(len(source)):\n",
    "        if(source[i:i+8]=='<script>'):\n",
    "            if script==0 : script=1\n",
    "        if(source[i:i+13]=='<script type='):\n",
    "            if script==0 : script=1\n",
    "        if(source[i:i+11]=='<script id='):\n",
    "            if script==0 : script=1\n",
    "        if(source[i:i+6]=='<div id'):\n",
    "            if div==0 : div=1\n",
    "        if(source[i:i+5]=='</div>'):\n",
    "            div=0\n",
    "        if(source[i:i+9]=='</script>'):\n",
    "            script=0\n",
    "        if(source[i:i+7]=='<style>'):\n",
    "            if style==0 : style=1\n",
    "        if(source[i:i+8]=='</style>'):\n",
    "            style=0\n",
    "        if(source[i]=='<'):\n",
    "            do=1   \n",
    "        if(source[i]=='>'):\n",
    "            do=0\n",
    "            continue\n",
    "        if(do==0 and script==0 and style==0):\n",
    "            final = final + a[i]\n",
    "\n",
    "\n",
    "    final=final.split()\n",
    "    i=0\n",
    "    real=[]#      !\"#$%&'()*+,-./:;<=>?@[\\]^_`{|}~\n",
    "    for k in final:\n",
    "        if '!' in k:k=k.replace('!','')\n",
    "        if '\"' in k:k=k.replace('\"','')\n",
    "        if '#' in k:k=k.replace('#','')\n",
    "        if '$' in k:k=k.replace('$','')\n",
    "        if '%' in k:k=k.replace('%','')\n",
    "        if '&' in k:k=k.replace('&','')\n",
    "        if \"'\" in k:k=k.replace(\"'\",'')\n",
    "        if '(' in k:k=k.replace('(','')\n",
    "        if ')' in k:k=k.replace(')','')\n",
    "        if '*' in k:k=k.replace('*','')\n",
    "        if '+' in k:k=k.replace('+','')\n",
    "        if ',' in k:k=k.replace(',','')\n",
    "        if '-' in k:k=k.replace('-','')\n",
    "        if '.' in k:k=k.replace('.','')\n",
    "        if '/' in k:k=k.replace('/','')\n",
    "        if ':' in k:k=k.replace(':','')\n",
    "        if ';' in k:k=k.replace(';','')\n",
    "        if '<' in k:k=k.replace('<','')\n",
    "        if '=' in k:k=k.replace('=','')\n",
    "        if '>' in k:k=k.replace('>','')\n",
    "        if \"?\" in k:k=k.replace(\"?\",'')\n",
    "        if '@' in k:k=k.replace('@','')\n",
    "        if '[' in k:k=k.replace('[','')\n",
    "        if '\\\\' in k:k=k.replace('\\\\','')\n",
    "        if ']' in k:k=k.replace(']','')\n",
    "        if '^' in k:k=k.replace('^','')\n",
    "        if '_' in k:k=k.replace('_','')\n",
    "        if '`' in k:k=k.replace('`','')\n",
    "        if '{' in k:k=k.replace('{','')\n",
    "        if '|' in k:k=k.replace('|','')\n",
    "        if '}' in k:k=k.replace('}','')\n",
    "        if '~' in k:k=k.replace('~','')\n",
    "        if '★' in k:k=k.replace('★','')\n",
    "        if '©' in k:k=k.replace('©','')\n",
    "        if '—' in k:k=k.replace('—','')\n",
    "        if '※' in k:k=k.replace('※','')\n",
    "        if '’' in k:k=k.replace('’','')\n",
    "        if '㈜' in k:k=k.replace('㈜','')\n",
    "        if 'ⓒ' in k:k=k.replace('ⓒ','')\n",
    "        if '“' in k:k=k.replace('“','')\n",
    "        if '”' in k:k=k.replace('”','')\n",
    "        if '…' in k:k=k.replace('…','')\n",
    "        if '∼' in k:k=k.replace('∼','')\n",
    "        if '°' in k:k=k.replace('°','')\n",
    "        if '·' in k:k=k.replace('·','')\n",
    "        real=real+[k]\n",
    "\n",
    "    real=[i for i in real if i!='']\n",
    "\n",
    "    dic={}\n",
    "    num=1\n",
    "    index=0\n",
    "    for i in real:\n",
    "        if i in real[:index]:\n",
    "            dic[i]=dic[i]+1\n",
    "        else:\n",
    "            hey={i:num}\n",
    "            dic.update(hey)\n",
    "        index=index+1\n",
    "    print(dic)"
   ]
  },
  {
   "cell_type": "code",
   "execution_count": 18,
   "metadata": {
    "collapsed": true
   },
   "outputs": [
    {
     "name": "stdout",
     "output_type": "stream",
     "text": [
      "{'컴퓨터공학부': 11, 'Schoolfun': 1, 'Study': 1, 'and': 3, 'Fun': 1, '로그인': 4, '아이디': 1, '비밀번호': 1, '유지': 2, '브라우저를': 1, '닫더라도': 1, '로그인이': 1, '계속': 1, '유지될': 1, '수': 2, '있습니다': 1, '기능을': 1, '사용할': 1, '경우': 1, '다음': 1, '접속부터는': 1, '로그인할': 1, '필요가': 1, '없습니다': 1, '단': 1, '게임방': 1, '학교': 1, '등': 1, '공공장소에서': 1, '이용': 1, '시': 2, '개인정보가': 1, '유출될': 1, '있으니': 1, '꼭': 1, '로그아웃을': 1, '해주세요': 1, '회원가입': 1, 'IDPW': 1, '찾기': 1, 'IT': 5, '교육의': 2, '글로벌': 3, '메카한국기술교육대학교': 1, 'Close': 1, '소개': 1, '구성원소개': 1, '학사안내': 1, '입학': 1, '학부': 1, '대학원': 4, '학부광장': 1, '자료실': 2, '공학교육인증': 1, '학부서비스': 1, 'Registration': 1, 'School': 1, 'of': 1, 'Computer': 1, 'Science': 1, 'Engineering': 1, '융합소프트웨어': 3, '인력양성사업': 3, 'CK': 1, 'Creative': 1, 'KoreaI': 1, '교육역량강화사업': 3, '온라인': 3, '컨텐츠': 2, 'Online': 1, 'Contents': 1, 'for': 2, 'Education': 1, 'Capability': 1, 'Empowerment': 1, '메카': 1, '한국기술교육대학교': 5, '홈페이지에': 1, '오신': 1, '것을환영합니다': 1, '수준의': 1, 'IT전문인력': 1, '양성': 1, 'IT융합분야에': 1, '대한': 1, '국제적인': 1, '경쟁력': 1, '고취': 1, '바로가기': 2, '컨텐츠를': 1, '소개합니다': 1, '공지사항': 1, '안전교육': 2, '20182학기': 1, '실험실': 1, '이수현황': 1, '안내': 2, '20181112': 3, '1017': 2, '2018년': 2, '신입생': 1, '모집': 2, '입시설명회': 1, '개최': 1, '20181108': 2, '1544': 2, '졸업작품': 2, '재심사': 1, '및': 3, '중간발표역학': 1, '0914': 2, '2018학년도': 1, '하반기': 1, '자체필기실기평가': 1, '20181107': 3, '1026': 2, '특성화': 1, '2018': 2, 'IT융합': 1, '아이디어': 1, '경진대회': 1, '신청현황': 1, '안': 1, '20181106': 1, '1746': 2, '자유게시판': 1, '●제': 1, '10대': 1, '학회장': 1, '부학회장': 1, '후보자': 1, '등록': 1, '20181120': 1, '2014': 2, '모의토익비': 1, '지원': 2, '공지': 1, '20181119': 1, '1923': 2, '●': 2, '총학생회장': 1, '재투표': 1, '관련': 1, '사항': 1, '20181118': 2, '2246': 2, '수정2019학년도': 1, '제10대': 1, '학생회장': 1, '부': 1, '20181116': 1, '2056': 2, 'DICE': 1, 'Lab': 1, '대학원생': 1, '1347': 2, '취업게시판': 1, '비트컴퓨터': 1, '교육사업부': 1, '교육운영관리': 1, '담당자': 1, '11월': 1, '16일': 1, '1451': 2, '플링크': 1, '증감현실': 1, '시스템': 1, '콘텐츠': 1, '개발': 1, '청주': 1, '11': 1, '1441': 2, 'ITCEN': 1, 'GROUP': 1, '신입': 2, '공채': 1, '7기': 1, '채용': 2, '공고': 1, '1428': 2, '비즈테크파트너스': 1, 'LG': 1, 'CNS자회사': 1, '개발직': 1, '20181025': 1, '1629': 2, '국가보안기술연구소': 1, '정규직': 1, '20181004': 1, '1418': 2, 'Platum': 1, '역삼동에': 1, '소셜벤처': 1, '청년창업': 1, '허브': 1, '생긴다': 1, '20181124': 2, '1533': 2, '모금의': 1, '혁신을': 1, '이야기하다': 1, '도너스': 1, '콜라보레이트': 1, '201': 1, '20181123': 4, '2152': 2, '루미르': 1, '컴퍼니케이파트너스': 1, '등으로부터': 1, '35억': 1, '투자': 1, '유치': 1, '1516': 2, '디지털이코노미': 1, '포럼': 1, '대기업이': 1, '스타트업': 1, '생태계에': 1, '접': 1, '1435': 2, '디지털이코노미포럼': 1, '핀테크': 1, '30시대': 1, '10년': 1, '안에': 1, '온다': 1, '1355': 2, '전자신문': 1, 'KT': 2, '통신장애': 1, '유무선': 1, '고객': 1, '1개월치': 1, '요금감면': 1, '20181125': 9, '2038': 2, '5G': 2, 'B2B요금제': 1, '첫': 1, '인가': 1, '면제혁신': 1, '서비스': 1, '출시': 1, '1700': 8, '망': 1, '관리': 1, '리스크': 1, '급부상5G재난망': 1, '안전대': 1, '화웨이': 1, '시대': 1, '이끌다중동': 1, '유럽': 1, '亞太로': 1, '레이저폰2': 1, '출고가': 1, '99만원': 1, '확정': 1, 'TechCrunch': 1, 'Bitcoin': 1, 'sinks': 1, 'below': 1, '4000': 1, 'as': 1, 'the': 1, 'crypto': 1, 'marke': 1, '1128': 2, 'LinkedIn': 1, 'violated': 1, 'data': 1, 'protection': 1, 'by': 1, 'using': 1, '18M': 1, '0642': 2, 'Logitech': 1, 'is': 2, 'reportedly': 1, 'offering': 1, '22': 1, 'billion': 1, 't': 1, '0545': 2, 'Upflow': 1, 'turbocharges': 1, 'your': 1, 'invoices': 1, '0010': 2, 'Cards': 1, 'Against': 1, 'Humanity': 1, 'selling': 1, 'diamonds': 1, '0816': 2, 'Back': 1, 'to': 1, 'Top': 1, 'Leading': 1, 'Together': 1, 'Brighter': 1, 'Future': 1, 'Quick': 1, 'Navigation': 1, '홈페이지': 1, 'WEBMAIL': 1, '평생교육원': 1, '교직원': 1, '업무': 1, '포트폴리오': 1, 'Campus': 1, 'Location': 1, 'Contact': 1, 'CSE': 1, '충청남도': 2, '천안시': 2, '동남구': 2, '병천면': 2, '충절로': 2, '1600한국기술교육대학교': 1, '학과사무실': 1, 'TEL': 1, '041': 2, '560': 2, '1460': 1, '1461': 1, 'FAX': 1, '1462': 1, 'Facebook': 1, 'Twitter': 1, 'Google': 1, 'Plus': 1, 'Linkedin': 1, '31253': 1, '1600': 1, '가전리': 1, 'Copyright': 1, '2015': 1, 'All': 1, 'rights': 1, 'reserved': 1}\n"
     ]
    }
   ],
   "source": [
    "google('http://cse.koreatech.ac.kr')"
   ]
  },
  {
   "cell_type": "markdown",
   "metadata": {},
   "source": [
    "사용자가 자주 검색하는 분야를 저장해놓아 메인 화면에 띄우는 기능, 그리고 단어를 다 치지 않아도 연관검색어가 뜨도록 하는 기능들이 필요할 것이다."
   ]
  },
  {
   "cell_type": "markdown",
   "metadata": {},
   "source": [
    "그 전에 더 많이 풀어놨어야 하는데 생각보다 시간이 너무 많이 지체되어 2번 8번 문제를 제대로 풀지 못한게 아쉽다. 애초에 세번째 과제에서 제대로 구현 못한 검색엔진도 한 몫한 것 같다. 과제 속도는 못따라 갔지만 기말 시험 전까지 최대한 진도를 맞추어 못푸는 문제가 없도록 해야겠다."
   ]
  },
  {
   "cell_type": "code",
   "execution_count": null,
   "metadata": {},
   "outputs": [],
   "source": []
  }
 ],
 "metadata": {
  "kernelspec": {
   "display_name": "Python 3",
   "language": "python",
   "name": "python3"
  },
  "language_info": {
   "codemirror_mode": {
    "name": "ipython",
    "version": 3
   },
   "file_extension": ".py",
   "mimetype": "text/x-python",
   "name": "python",
   "nbconvert_exporter": "python",
   "pygments_lexer": "ipython3",
   "version": "3.6.5"
  }
 },
 "nbformat": 4,
 "nbformat_minor": 2
}
