{
 "cells": [
  {
   "cell_type": "markdown",
   "metadata": {},
   "source": [
    "클래스와 모듈의 공통점과 차이점에 대해 설명하시오.\n",
    "\n",
    "클래스와 모듈 둘다 이름 공간을 생성하여 사용자가 프로그래밍하기에 용이하도록 하지만, 클래스는 따로 저장되는 공간이 없는 반면에 모듈은 파일형식으로 저장이 된다. 그렇기 때문에 모듈이 저장된 위치를 안다면 코드를 복사할 필요 없이 언제든 손쉽게 불러와 사용할 수 있다."
   ]
  },
  {
   "cell_type": "markdown",
   "metadata": {},
   "source": [
    "다형성에 대해 설명하고 다형성을 보여주는 자신만의 파이썬 코드 예제를 제시하시오.\n",
    "\n",
    "다형성이란 같은 멤버 함수 호출에도 클래스들이 서로 다르게 반응하는 것을 말한다.\n",
    "하나의 함수 이름으로 각각의 클래스 마다 다른 코드를 짠다면 보기도 쉽고 코드 작성도 비교적 적게 할 수 있다."
   ]
  },
  {
   "cell_type": "code",
   "execution_count": 14,
   "metadata": {},
   "outputs": [
    {
     "name": "stdout",
     "output_type": "stream",
     "text": [
      "<__main__.example1 object at 0x000001EFEDE33E80>\n",
      "<__main__.example2 object at 0x000001EFEDE33EF0>\n",
      "<__main__.example3 object at 0x000001EFEDE33F28>\n"
     ]
    }
   ],
   "source": [
    "class example1:\n",
    "    def hey(self):\n",
    "        print(self)\n",
    "class example2:\n",
    "    def hey(self):\n",
    "        print(self)\n",
    "class example3:\n",
    "    def hey(self):\n",
    "        print(self)\n",
    "        \n",
    "for i in (example1(),example2(),example3()):\n",
    "    i.hey()"
   ]
  },
  {
   "cell_type": "markdown",
   "metadata": {},
   "source": [
    "다형성을 설명하기 위해 서로 다른 세 클래스에 hey()라는 똑같은 이름의 함수를 정의했다. 각각의 클래스에 있는 hey()를 실행하니 차이가 있음을 알 수 있다."
   ]
  },
  {
   "cell_type": "code",
   "execution_count": 60,
   "metadata": {
    "scrolled": true
   },
   "outputs": [],
   "source": [
    "class Counter:\n",
    "    \n",
    "    def __init__(self, count, step=1):\n",
    "        self.count=count\n",
    "        self.step=step\n",
    "        \n",
    "    def __str__(self):\n",
    "        print(\"[Count (step: {1})] {0}\".format(self.count,self.step))\n",
    "        \n",
    "    def incr(self):\n",
    "        self.count =self.count+self.step\n",
    "        \n",
    "    def callinstance(self):\n",
    "        self.incr()\n",
    "        \n",
    "    def __add__(self, value):\n",
    "        self.count =self.count+value\n",
    "    \n",
    "    def __sub__(self, value):\n",
    "        self.count =self.count-value\n",
    "        \n",
    "    def __gt__(self, value):\n",
    "        if self.count>value:\n",
    "            return True\n",
    "        else:\n",
    "            return False\n",
    "        \n",
    "    def __lt__(self, value):\n",
    "        if self.count<value:\n",
    "            return True\n",
    "        else:\n",
    "            return False\n",
    "        \n",
    "    def __eq__(self, value):\n",
    "        if self.count==value:\n",
    "            return True\n",
    "        else:\n",
    "            return False"
   ]
  },
  {
   "cell_type": "markdown",
   "metadata": {},
   "source": [
    "Counter 클래스를 정의하였다. 생성자에 대한 공부만 조금 하니 나머지 메소드들은 큰 무리 없이 구현해 낼 수 있었다. 다만 처음엔 isBig, callinstance와 같이 임의로 이름들을 붙였는데 연산자 재정의를 제대로 보고 잘 구현하였다."
   ]
  },
  {
   "cell_type": "code",
   "execution_count": 59,
   "metadata": {
    "scrolled": true
   },
   "outputs": [
    {
     "name": "stdout",
     "output_type": "stream",
     "text": [
      "MySet: {1 ,2 ,3}\n",
      "MySet: {2 ,3 ,4 ,5 ,6 ,7 ,8 ,9}\n"
     ]
    }
   ],
   "source": [
    "class MySet(list):\n",
    "    def __init__(self, l):\n",
    "        for e in l:\n",
    "            self.append(e)\n",
    "        MySet.eliminate_duplicate(self)\n",
    "    \n",
    "    def __str__(self):\n",
    "        result = \"MySet: {\"\n",
    "        for e in self:\n",
    "            result = result + str(e) + \" ,\"\n",
    "        result = result[0:len(result)-2] + \"}\"\n",
    "        return result\n",
    "\n",
    "    @staticmethod    \n",
    "    def eliminate_duplicate(l):\n",
    "        s = []\n",
    "        for e in l:\n",
    "            if e not in s:\n",
    "                s.append(e)\n",
    "        l[:] = []\n",
    "        for e in s:\n",
    "            l.append(e)\n",
    "\n",
    "    \n",
    "if __name__ == \"__main__\":\n",
    "    s = MySet([1, 2, 2, 3])\n",
    "    print(s)\n",
    "    t = MySet([2, 3, 4, 5, 6, 7, 8, 8, 8, 8, 8, 9])\n",
    "    print(t)"
   ]
  },
  {
   "cell_type": "markdown",
   "metadata": {},
   "source": [
    "이 MySet이라는 클래스는 집합 자료형을 정의하는 클래스이다. 여기서 __init__()메소드는 생성자로서 리스트형으로 받아진 인수를 for문을 통해 e 변수에 추가하는 모습이다. 그리고 뒤에 정의될 eliminate_duplicate()를 불러와 중복되는 숫자를 제거하였다. __str__()는 결과값을 출력하기 위한 메소드로서 result에 String형으로 e 변수에 있는 값들을 넣는다. 마지막으로 eliminate_duplicate()는 s 라는 빈 리스트에 e에서 중복되는 숫자를 빼고 append함으로서 집합의 특징을 구현하였다."
   ]
  },
  {
   "cell_type": "code",
   "execution_count": 107,
   "metadata": {
    "scrolled": false
   },
   "outputs": [
    {
     "name": "stdout",
     "output_type": "stream",
     "text": [
      "[1, 2, 3, 4, 5, 6, 7, 8, 9]\n",
      "[2, 3]\n",
      "[1, 2]\n"
     ]
    }
   ],
   "source": [
    "class MySet(list):\n",
    "    def __init__(self, l):\n",
    "        for e in l:\n",
    "            self.append(e)\n",
    "        MySet.eliminate_duplicate(self)\n",
    "        \n",
    "    \n",
    "    def __str__(self):\n",
    "        result = \"MySet: {\"\n",
    "        for e in self:\n",
    "            result = result + str(e) + \" ,\"\n",
    "        result = result[0:len(result)-2] + \"}\"\n",
    "        return result\n",
    "    \n",
    "\n",
    "    @staticmethod    \n",
    "    def eliminate_duplicate(l):\n",
    "        s = []\n",
    "        for e in l:\n",
    "            if e not in s:\n",
    "                s.append(e)\n",
    "        l[:] = []\n",
    "        for e in s:\n",
    "            l.append(e)\n",
    "            \n",
    "            \n",
    "    def __or__(self,l):\n",
    "        a=[]\n",
    "        for f in self:\n",
    "            a.append(f)\n",
    "        for e in l:\n",
    "            if e not in self:\n",
    "                a.append(e)\n",
    "                \n",
    "        return sorted(a)\n",
    "    \n",
    "    \n",
    "    def __and__(self,l):\n",
    "        a=[]\n",
    "        for e in l:\n",
    "            if e in self:\n",
    "                a.append(e)\n",
    "                \n",
    "        return sorted(a)\n",
    "    \n",
    "    \n",
    "    def __sub__(self,l):\n",
    "        a=[]\n",
    "        for e in self:\n",
    "            if e not in l:\n",
    "                a.append(e)\n",
    "                \n",
    "        return sorted(a)\n",
    "\n",
    "    \n",
    "if __name__ == \"__main__\":\n",
    "    s = MySet([1, 2, 2, 3])\n",
    "    t = MySet([2, 3, 4, 5, 6, 7, 8, 8, 8, 8, 8, 9])\n",
    "    u = s | t\n",
    "    print(u)\n",
    "    u = s & t\n",
    "    print(u)\n",
    "    s = MySet([1, 2, 3])\n",
    "    t = MySet([3, 4, 5])\n",
    "    u = s - t\n",
    "    print(u)"
   ]
  },
  {
   "cell_type": "markdown",
   "metadata": {},
   "source": [
    "연산자 재정의를 통해 |, &, -를 정의하였다. 각각 메소드 안에서 for 문과 append를 통해 조건에 맞는 인자들을 리스트에 추가하였다."
   ]
  },
  {
   "cell_type": "code",
   "execution_count": 100,
   "metadata": {
    "scrolled": true
   },
   "outputs": [
    {
     "name": "stdout",
     "output_type": "stream",
     "text": [
      "6\n",
      "True\n",
      "True\n"
     ]
    }
   ],
   "source": [
    "s = MySet([1, 2, 3, 4, 5, 6])\n",
    "print(len(s))\n",
    "print(bool(s))\n",
    "print(2 in s)"
   ]
  },
  {
   "cell_type": "markdown",
   "metadata": {},
   "source": [
    "len(), bool() 내장함수와 in 키워드 사용 예제등은 기본 내장 함수이다. 파이썬 내장 함수들은 외부 모듈과는 달리 import를 필요로 하지 않는다."
   ]
  },
  {
   "cell_type": "code",
   "execution_count": 73,
   "metadata": {},
   "outputs": [
    {
     "name": "stdout",
     "output_type": "stream",
     "text": [
      "['__class__', '__delattr__', '__dict__', '__dir__', '__doc__', '__eq__', '__format__', '__ge__', '__getattribute__', '__gt__', '__hash__', '__init__', '__init_subclass__', '__le__', '__lt__', '__module__', '__ne__', '__new__', '__reduce__', '__reduce_ex__', '__repr__', '__setattr__', '__sizeof__', '__str__', '__subclasshook__', '__weakref__', 'addUrl']\n"
     ]
    }
   ],
   "source": [
    "class SearchEngine:\n",
    "    def __init__(self, *args):\n",
    "        self.sum = 0\n",
    "        l=[]\n",
    "        for i in args:\n",
    "            \n",
    "            l.append(i)\n",
    "        print(l)\n",
    "    def addUrl(self,s):\n",
    "        self.append(s)\n",
    "        \n",
    "print(dir(SearchEngine))"
   ]
  },
  {
   "cell_type": "code",
   "execution_count": 70,
   "metadata": {},
   "outputs": [
    {
     "name": "stdout",
     "output_type": "stream",
     "text": [
      "['http://www.cnn.com', 'http://www.times.com', 'https://www.amazon.com']\n",
      "['http://www.cnn.com', 'http://www.times.com']\n",
      "[]\n"
     ]
    }
   ],
   "source": [
    "w1 = SearchEngine('http://www.cnn.com', 'http://www.times.com', 'https://www.amazon.com') \n",
    "w2 = SearchEngine('http://www.cnn.com', 'http://www.times.com') \n",
    "w3 = SearchEngine() "
   ]
  },
  {
   "cell_type": "code",
   "execution_count": 71,
   "metadata": {},
   "outputs": [
    {
     "ename": "AttributeError",
     "evalue": "'SearchEngine' object has no attribute 'append'",
     "output_type": "error",
     "traceback": [
      "\u001b[1;31m---------------------------------------------------------------------------\u001b[0m",
      "\u001b[1;31mAttributeError\u001b[0m                            Traceback (most recent call last)",
      "\u001b[1;32m<ipython-input-71-c2bf954ed9a8>\u001b[0m in \u001b[0;36m<module>\u001b[1;34m()\u001b[0m\n\u001b[1;32m----> 1\u001b[1;33m \u001b[0mw1\u001b[0m\u001b[1;33m.\u001b[0m\u001b[0maddUrl\u001b[0m\u001b[1;33m(\u001b[0m\u001b[1;34m'https://github.com'\u001b[0m\u001b[1;33m)\u001b[0m\u001b[1;33m\u001b[0m\u001b[0m\n\u001b[0m",
      "\u001b[1;32m<ipython-input-69-c4d3d6343691>\u001b[0m in \u001b[0;36maddUrl\u001b[1;34m(self, s)\u001b[0m\n\u001b[0;32m      8\u001b[0m         \u001b[0mprint\u001b[0m\u001b[1;33m(\u001b[0m\u001b[0ml\u001b[0m\u001b[1;33m)\u001b[0m\u001b[1;33m\u001b[0m\u001b[0m\n\u001b[0;32m      9\u001b[0m     \u001b[1;32mdef\u001b[0m \u001b[0maddUrl\u001b[0m\u001b[1;33m(\u001b[0m\u001b[0mself\u001b[0m\u001b[1;33m,\u001b[0m\u001b[0ms\u001b[0m\u001b[1;33m)\u001b[0m\u001b[1;33m:\u001b[0m\u001b[1;33m\u001b[0m\u001b[0m\n\u001b[1;32m---> 10\u001b[1;33m         \u001b[0mself\u001b[0m\u001b[1;33m.\u001b[0m\u001b[0mappend\u001b[0m\u001b[1;33m(\u001b[0m\u001b[0ms\u001b[0m\u001b[1;33m)\u001b[0m\u001b[1;33m\u001b[0m\u001b[0m\n\u001b[0m\u001b[0;32m     11\u001b[0m \u001b[1;33m\u001b[0m\u001b[0m\n",
      "\u001b[1;31mAttributeError\u001b[0m: 'SearchEngine' object has no attribute 'append'"
     ]
    }
   ],
   "source": [
    "w1.addUrl('https://github.com')"
   ]
  },
  {
   "cell_type": "markdown",
   "metadata": {},
   "source": [
    "전 4번 과제부터 조금씩 진도를 못 따라가다 결국 이번에도 끝까지 완성하지 못했다. 많이 아쉬움이 남고 기말 시험에 집중해야겠다는 생각이 들었다. 다들 완벽하진 않지만 어느정도 구색이 갖춰진 검색 엔진을 구현한 것 같다. 조금 더 빠릿빠릿하게 따라야겠다."
   ]
  }
 ],
 "metadata": {
  "kernelspec": {
   "display_name": "Python 3",
   "language": "python",
   "name": "python3"
  },
  "language_info": {
   "codemirror_mode": {
    "name": "ipython",
    "version": 3
   },
   "file_extension": ".py",
   "mimetype": "text/x-python",
   "name": "python",
   "nbconvert_exporter": "python",
   "pygments_lexer": "ipython3",
   "version": "3.6.5"
  }
 },
 "nbformat": 4,
 "nbformat_minor": 2
}
